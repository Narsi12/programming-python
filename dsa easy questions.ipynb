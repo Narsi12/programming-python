{
 "cells": [
  {
   "cell_type": "code",
   "execution_count": 10,
   "id": "ee14cc1f-6162-4773-bb2e-35c8594272d0",
   "metadata": {},
   "outputs": [
    {
     "name": "stdout",
     "output_type": "stream",
     "text": [
      "[0, 1]\n"
     ]
    }
   ],
   "source": [
    "# Two Sum\n",
    "def two_sum(nums,target):\n",
    "    seen = {}\n",
    "    for i , num in enumerate(nums):\n",
    "        val = target - num\n",
    "        if val in seen:\n",
    "            return [seen[val],i]\n",
    "        else:\n",
    "            seen[num] = i\n",
    "    return []\n",
    "\n",
    "nums = [2, 7, 11, 15]\n",
    "target = 9\n",
    "print(two_sum(nums,target))"
   ]
  },
  {
   "cell_type": "code",
   "execution_count": 18,
   "id": "1ef06e4c-db5e-4583-bd8c-7117ebe5a843",
   "metadata": {},
   "outputs": [
    {
     "name": "stdout",
     "output_type": "stream",
     "text": [
      "true\n"
     ]
    }
   ],
   "source": [
    "# Palindrome Number\n",
    "x = 121\n",
    "original = x\n",
    "rev = 0\n",
    "while x > 0:\n",
    "    rev = rev*10 + x % 10\n",
    "    x = x//10\n",
    "if original == rev:\n",
    "    print(\"true\")"
   ]
  },
  {
   "cell_type": "code",
   "execution_count": 3,
   "id": "143860eb-3865-43bd-ab61-81d58cc9c58b",
   "metadata": {},
   "outputs": [
    {
     "name": "stdout",
     "output_type": "stream",
     "text": [
      "45\n"
     ]
    }
   ],
   "source": [
    "# Second largest number\n",
    "def second_large(nums):\n",
    "    large = second_large = float('-inf')\n",
    "    for num in nums:\n",
    "        if num > large:\n",
    "            second_large = large\n",
    "            large = num\n",
    "        elif num > second_large and num != large:\n",
    "            second_large = num\n",
    "    return second_large\n",
    "print(second_large([10, 20, 4, 45, 99,]))"
   ]
  },
  {
   "cell_type": "code",
   "execution_count": 4,
   "id": "990ebfee-794e-4753-8503-c87ffa100627",
   "metadata": {},
   "outputs": [
    {
     "name": "stdout",
     "output_type": "stream",
     "text": [
      "6\n"
     ]
    }
   ],
   "source": [
    "# sum of digits\n",
    "def sum_digits(num):\n",
    "    sum = 0\n",
    "    while num > 0:\n",
    "        rem = num%10\n",
    "        sum = sum+rem\n",
    "        num = num//10\n",
    "    return sum\n",
    "print(sum_digits(123))"
   ]
  },
  {
   "cell_type": "code",
   "execution_count": 6,
   "id": "b56e933a-c6c0-43b5-88b1-869f6b17180a",
   "metadata": {},
   "outputs": [
    {
     "name": "stdout",
     "output_type": "stream",
     "text": [
      "True\n"
     ]
    }
   ],
   "source": [
    "# Checking number is prime or not\n",
    "def is_prime(num):\n",
    "    if num <=1:\n",
    "        return False\n",
    "    for i in range(2,num):\n",
    "        if num%i == 0:\n",
    "            return False\n",
    "    return True\n",
    "print(is_prime(3))"
   ]
  },
  {
   "cell_type": "code",
   "execution_count": 7,
   "id": "8dfdb0ad-62fc-437f-a553-4488a719d1c3",
   "metadata": {},
   "outputs": [
    {
     "name": "stdout",
     "output_type": "stream",
     "text": [
      "micron Hello\n"
     ]
    }
   ],
   "source": [
    "# Reverse a string\n",
    "def reverese_string(sen):\n",
    "    sentence = sen.split()\n",
    "    return \" \".join(sentence[::-1])\n",
    "print(reverese_string(\"Hello micron\"))"
   ]
  },
  {
   "cell_type": "code",
   "execution_count": 13,
   "id": "a9b71426-8484-49f7-b81d-21349adaec6e",
   "metadata": {},
   "outputs": [
    {
     "name": "stdout",
     "output_type": "stream",
     "text": [
      "40\n"
     ]
    }
   ],
   "source": [
    "# Decorator call\n",
    "def Multiplication(func):\n",
    "    def wrapper(x,y):\n",
    "        return (x+y)*10\n",
    "    return wrapper\n",
    "@Multiplication\n",
    "def add_two_nums(x,y):\n",
    "    return (x+y)\n",
    "print(add_two_nums(1,3))"
   ]
  },
  {
   "cell_type": "code",
   "execution_count": 19,
   "id": "f7bc20d6-ab50-49d3-92e6-85dcd9c55c72",
   "metadata": {},
   "outputs": [
    {
     "name": "stdout",
     "output_type": "stream",
     "text": [
      "Narsimh\n"
     ]
    }
   ],
   "source": [
    "# remove the duplicate value in string\n",
    "# def remove_duplicate(string):\n",
    "#     test = ''\n",
    "#     for i in string:\n",
    "#         if string.count(i) > 1 and i not in test:\n",
    "#             test += i\n",
    "#     return test\n",
    "# print(remove_duplicate(\"Narsimha\"))\n",
    "\n",
    "x = \"Narsimha\"\n",
    "y=''\n",
    "for i in x:\n",
    "    if i not in y:\n",
    "        y+=i\n",
    "print(y)"
   ]
  },
  {
   "cell_type": "code",
   "execution_count": 27,
   "id": "007f07c8-bb66-4704-aa89-1933483f343f",
   "metadata": {},
   "outputs": [
    {
     "name": "stdout",
     "output_type": "stream",
     "text": [
      "[9, 2, 3, 4, 5, 6, 7, 8]\n"
     ]
    }
   ],
   "source": [
    "# Remove Duplicates in list\n",
    "nums=[9,2,3,4,2,4,5,5,5,6,7,8,8]\n",
    "def remove_duplicates_list(nums):\n",
    "    lst=[]\n",
    "    [lst.append(i) for i in nums if i not in lst]\n",
    "    return lst\n",
    "print(remove_duplicates_list(nums))"
   ]
  },
  {
   "cell_type": "code",
   "execution_count": 32,
   "id": "0fa3dafa-ccfa-4c18-bf80-99778cb5685c",
   "metadata": {},
   "outputs": [
    {
     "name": "stdout",
     "output_type": "stream",
     "text": [
      "[(2, 1), (1, 2), (2, 3), (4, 4), (2, 5)]\n"
     ]
    }
   ],
   "source": [
    "l = [(2, 5), (1, 2), (4, 4), (2, 3), (2, 1)]\n",
    "def sorting_index(l):\n",
    "   return sorted(l,key=lambda x:x[1])\n",
    "print(sorting_index(l))"
   ]
  },
  {
   "cell_type": "code",
   "execution_count": 37,
   "id": "889635bb-83ec-497b-8c76-2e98ddd0833b",
   "metadata": {},
   "outputs": [
    {
     "name": "stdout",
     "output_type": "stream",
     "text": [
      "[(2, 1), (1, 2), (2, 3), (4, 4), (2, 5)]\n"
     ]
    }
   ],
   "source": [
    "def sorting_index(lst):\n",
    "    for i in range(len(lst)):\n",
    "        for j in range(i+1,len(lst)):\n",
    "            if lst[i][1]>lst[j][1]:\n",
    "                lst[i],lst[j]=lst[j],lst[i]\n",
    "    return lst\n",
    "lst = [(2, 5), (1, 2), (4, 4), (2, 3), (2, 1)]\n",
    "print(sorting_index(lst))   "
   ]
  },
  {
   "cell_type": "code",
   "execution_count": 40,
   "id": "57d17633-9ae4-4682-a1da-50764e191e52",
   "metadata": {},
   "outputs": [
    {
     "data": {
      "text/plain": [
       "['my', 'name', 'is', 'Narsimha']"
      ]
     },
     "execution_count": 40,
     "metadata": {},
     "output_type": "execute_result"
    }
   ],
   "source": [
    "x=['m','na','i','Nar']\n",
    "y=['y','me','s','simha']\n",
    "res = [i+j for i,j in zip(x,y)]\n",
    "res"
   ]
  },
  {
   "cell_type": "code",
   "execution_count": 43,
   "id": "b7086f9e-a77f-49e7-89d7-5110262f979f",
   "metadata": {},
   "outputs": [
    {
     "name": "stdout",
     "output_type": "stream",
     "text": [
      "[2, 3]\n"
     ]
    }
   ],
   "source": [
    "# finding Traget indices\n",
    "def find_two_sum(vals,target):\n",
    "    seen = {}\n",
    "    for i,num in enumerate(vals):\n",
    "        diff = target - num\n",
    "        if diff in seen:\n",
    "            return [seen[diff],i]\n",
    "        else:\n",
    "            seen[num]=i\n",
    "    return []\n",
    "\n",
    "vals=[4,2,3,5,6]\n",
    "target = 8\n",
    "print(find_two_sum(vals,target))"
   ]
  },
  {
   "cell_type": "code",
   "execution_count": 51,
   "id": "2e92e242-4db1-419d-b685-eb007bf2e227",
   "metadata": {},
   "outputs": [
    {
     "name": "stdout",
     "output_type": "stream",
     "text": [
      "2\n"
     ]
    }
   ],
   "source": [
    "# most common value\n",
    "def most_common_val(vals):\n",
    "    c = {}\n",
    "    for i in vals:\n",
    "        if i not in c.keys():\n",
    "            c[i] = 1\n",
    "        else:\n",
    "            c[i]+=1\n",
    "    common = None\n",
    "    maxy = 0\n",
    "    for key,val in c.items():\n",
    "        if val>maxy:\n",
    "            maxy = val\n",
    "            common = key\n",
    "    return common\n",
    "        \n",
    "vals = [1,5,7,8,2,6,2,9,2]\n",
    "print(most_common_val(vals))"
   ]
  },
  {
   "cell_type": "code",
   "execution_count": 60,
   "id": "edc10d1d-2751-41d7-aa1e-9c0444165b34",
   "metadata": {},
   "outputs": [
    {
     "data": {
      "text/plain": [
       "[('a', 2), ('b', 3), ('c', 2), ('b', 2), ('d', 2)]"
      ]
     },
     "execution_count": 60,
     "metadata": {},
     "output_type": "execute_result"
    }
   ],
   "source": [
    "A=['a','a','b','b','b','c','c','b','b','d','d']\n",
    "c = []\n",
    "ch = A[0]\n",
    "count = 1\n",
    "for i in range(1,len(A)):\n",
    "    if A[i] == ch:\n",
    "        count+=1\n",
    "    else:\n",
    "        c.append((ch,count))\n",
    "        ch=A[i]\n",
    "        count=1\n",
    "c.append((ch,count))\n",
    "c"
   ]
  },
  {
   "cell_type": "code",
   "execution_count": 72,
   "id": "6446e290-e9d4-486b-8d56-d77b5bd1ffec",
   "metadata": {},
   "outputs": [
    {
     "name": "stdout",
     "output_type": "stream",
     "text": [
      "Yes\n"
     ]
    }
   ],
   "source": [
    "word = \"Rotavator\"\n",
    "val = word.lower()\n",
    "start = 0 \n",
    "end = len(word)-1\n",
    "while start > end:\n",
    "    if val[start] != val[end]:\n",
    "        print(\"NO\")\n",
    "    start+=1\n",
    "    end-=1\n",
    "else:\n",
    "    print(\"Yes\")\n",
    "    \n"
   ]
  },
  {
   "cell_type": "code",
   "execution_count": 79,
   "id": "6e3aa238-3212-4a12-acc0-8c0712f52217",
   "metadata": {},
   "outputs": [
    {
     "name": "stdout",
     "output_type": "stream",
     "text": [
      "abc\n"
     ]
    }
   ],
   "source": [
    "# longest substring without repeating character\n",
    "def longest_sub_str_without_repate_chars(s):\n",
    "    charSet = set()\n",
    "    l = 0\n",
    "    res = 0\n",
    "    longes_substring_without_chars = ''\n",
    "    for r in range(len(s)):\n",
    "        while s[r] in charSet:\n",
    "            charSet.remove(s[l])\n",
    "            l+=1\n",
    "        charSet.add(s[r])\n",
    "        # res = max(res,r-l+1)\n",
    "        if (r-l+1)>res:\n",
    "            res = max(res,r-l+1)\n",
    "            longes_substring_without_chars = s[l:r+1]\n",
    "    return longes_substring_without_chars\n",
    "\n",
    "print(longest_sub_str_without_repate_chars(\"abcabcbb\") )\n",
    "        "
   ]
  },
  {
   "cell_type": "code",
   "execution_count": 84,
   "id": "8fe3ee2e-91fe-47fd-a014-e1b5ec3fb13c",
   "metadata": {},
   "outputs": [
    {
     "name": "stdout",
     "output_type": "stream",
     "text": [
      "3\n"
     ]
    }
   ],
   "source": [
    "# longest substring without repeating character\n",
    "def longest_sub_str_without_repate_chars(s):\n",
    "    charSet = set()\n",
    "    l=0\n",
    "    res = 0\n",
    "    for r in range(len(s)):\n",
    "        while s[r] in charSet:\n",
    "            charSet.remove(s[l])\n",
    "            l+=1\n",
    "        charSet.add(s[r])\n",
    "        res = max(res,r-l+1)\n",
    "    return res\n",
    "print(longest_sub_str_without_repate_chars(\"abcabcbb\") )"
   ]
  },
  {
   "cell_type": "code",
   "execution_count": 93,
   "id": "19ca328a-8525-475b-af88-e376e8a12941",
   "metadata": {},
   "outputs": [
    {
     "data": {
      "text/plain": [
       "'geekskeeg'"
      ]
     },
     "execution_count": 93,
     "metadata": {},
     "output_type": "execute_result"
    }
   ],
   "source": [
    "x=\"forgeekskeegfor\"\n",
    "y = ''\n",
    "l = 0\n",
    "for i in range(len(x)):\n",
    "    for j in range(i+1,len(x)):\n",
    "        match = x[i:j]\n",
    "        if match == match[::-1] and len(match)>l:\n",
    "            y = match\n",
    "            l = len(match)\n",
    "y"
   ]
  },
  {
   "cell_type": "code",
   "execution_count": 97,
   "id": "a4f3c296-a747-4506-abb7-4b2642dd4a9f",
   "metadata": {},
   "outputs": [
    {
     "name": "stdout",
     "output_type": "stream",
     "text": [
      "racecar\n"
     ]
    }
   ],
   "source": [
    "def logestplaindrom(s):\n",
    "    def expand_from_center(left,right):\n",
    "        while left >=0 and right < len(s) and s[left] == s[right]:\n",
    "            left -=1\n",
    "            right +=1\n",
    "        return s[left+1:right]\n",
    "    longest = \"\"\n",
    "    for i in range(len(s)):\n",
    "        odd = expand_from_center(i,i)\n",
    "        even = expand_from_center(i,i+1)\n",
    "        if len(odd) > len(longest):\n",
    "            longest = odd\n",
    "        if len(even) > len(longest):\n",
    "            longest = even\n",
    "    return longest\n",
    "\n",
    "print(logestplaindrom(\"racecar\"))    \n",
    "            "
   ]
  },
  {
   "cell_type": "code",
   "execution_count": 99,
   "id": "daabdc40-5260-4fcc-b6a0-f0f5dbbd75d3",
   "metadata": {},
   "outputs": [
    {
     "data": {
      "text/plain": [
       "3"
      ]
     },
     "execution_count": 99,
     "metadata": {},
     "output_type": "execute_result"
    }
   ],
   "source": [
    "x=[1,2,2,3,3,3,3,3,4]\n",
    "c = {}\n",
    "for i in x:\n",
    "    if i not in c.keys():\n",
    "        c[i]=1\n",
    "    else:\n",
    "        c[i]+=1\n",
    "\n",
    "common = None\n",
    "maxv = 0\n",
    "for key,val in c.items():\n",
    "    if val > maxv:\n",
    "        maxv = val\n",
    "        common = key\n",
    "common"
   ]
  },
  {
   "cell_type": "code",
   "execution_count": null,
   "id": "a147ebed-8b91-49de-8ea6-84e6d62fb5c0",
   "metadata": {},
   "outputs": [],
   "source": []
  }
 ],
 "metadata": {
  "kernelspec": {
   "display_name": "Python 3 (ipykernel)",
   "language": "python",
   "name": "python3"
  },
  "language_info": {
   "codemirror_mode": {
    "name": "ipython",
    "version": 3
   },
   "file_extension": ".py",
   "mimetype": "text/x-python",
   "name": "python",
   "nbconvert_exporter": "python",
   "pygments_lexer": "ipython3",
   "version": "3.11.9"
  }
 },
 "nbformat": 4,
 "nbformat_minor": 5
}
