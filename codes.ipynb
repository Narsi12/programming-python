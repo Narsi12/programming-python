{
 "cells": [
  {
   "cell_type": "markdown",
   "id": "fa3c5dd9-5b95-4938-90e0-03e6c719eaf8",
   "metadata": {},
   "source": [
    "# Custom Exceptions"
   ]
  },
  {
   "cell_type": "code",
   "execution_count": 4,
   "id": "69695767-3192-4ccb-bdd7-a829f37186bb",
   "metadata": {},
   "outputs": [
    {
     "name": "stdin",
     "output_type": "stream",
     "text": [
      "Please enter your age :  21\n"
     ]
    },
    {
     "name": "stdout",
     "output_type": "stream",
     "text": [
      "Eligible to vote\n"
     ]
    }
   ],
   "source": [
    "class AgeInfoException(Exception):\n",
    "    def __init__(self,message):\n",
    "        super().__init__(message)\n",
    "    pass\n",
    "age = int(input(\"Please enter your age : \"))\n",
    "try:\n",
    "    if age < 19:\n",
    "        raise AgeInfoException(\"Not elogible\")\n",
    "    else:\n",
    "        print(\"Eligible to vote\")\n",
    "except AgeInfoException as e:\n",
    "    print(e)"
   ]
  },
  {
   "cell_type": "markdown",
   "id": "03372e8f-2b5b-4e1c-b149-77115508feb9",
   "metadata": {},
   "source": [
    "# Exception Handling"
   ]
  },
  {
   "cell_type": "code",
   "execution_count": 6,
   "id": "cc556009-5971-45b3-be6d-d0faac0899e1",
   "metadata": {},
   "outputs": [
    {
     "name": "stdout",
     "output_type": "stream",
     "text": [
      "division by zero\n"
     ]
    }
   ],
   "source": [
    "n = 10\n",
    "try:\n",
    "    x = 10/0\n",
    "    print(x)\n",
    "except Exception as e:\n",
    "    print(e)"
   ]
  },
  {
   "cell_type": "code",
   "execution_count": 15,
   "id": "16297ca5-679c-404c-aff7-a1d92ffbbd7f",
   "metadata": {},
   "outputs": [
    {
     "name": "stdout",
     "output_type": "stream",
     "text": [
      "Number cant be 0 or negative\n"
     ]
    }
   ],
   "source": [
    "def check_positive_number(num):\n",
    "    if num < 1:\n",
    "        raise ValueError(\"Number cant be 0 or negative\")\n",
    "    return num\n",
    "\n",
    "try:\n",
    "    print(check_positive_number(0))\n",
    "except ValueError as e:\n",
    "    print(e)\n"
   ]
  },
  {
   "cell_type": "code",
   "execution_count": 21,
   "id": "57494da1-63d5-4d8f-8f71-1187b5d1dda4",
   "metadata": {},
   "outputs": [
    {
     "name": "stdout",
     "output_type": "stream",
     "text": [
      "Positive number\n"
     ]
    }
   ],
   "source": [
    "try:\n",
    "    x = 2/2\n",
    "    try:\n",
    "        if x >= 1:\n",
    "            print(\"Positive number\")\n",
    "    except exception as e:\n",
    "        print(e)\n",
    "except ZeroDivisionError as e:\n",
    "    print(e)"
   ]
  },
  {
   "cell_type": "markdown",
   "id": "24dc90ac-918e-407c-a371-4bb760e1783a",
   "metadata": {},
   "source": [
    "# Sample problems"
   ]
  },
  {
   "cell_type": "code",
   "execution_count": 9,
   "id": "e547e9f4-e89e-4aa8-8445-68e4b530ab3a",
   "metadata": {},
   "outputs": [
    {
     "name": "stdout",
     "output_type": "stream",
     "text": [
      "99\n"
     ]
    }
   ],
   "source": [
    "from functools import reduce\n",
    "def findlargest(lst):\n",
    "    # approach 1\n",
    "    # maxy = lst[0]\n",
    "    # for i in lst:\n",
    "    #     if i > maxy:\n",
    "    #         maxy = i\n",
    "    # return maxy\n",
    "    maxy = reduce(lambda x,y : x if x > y else y, [i for i in lst])\n",
    "    print(maxy)\n",
    "findlargest([10, 20, 4, 45, 99])"
   ]
  },
  {
   "cell_type": "code",
   "execution_count": 18,
   "id": "3e8c121f-6f2e-4af8-b489-f36d84df597e",
   "metadata": {},
   "outputs": [
    {
     "name": "stdout",
     "output_type": "stream",
     "text": [
      "True\n"
     ]
    }
   ],
   "source": [
    "def is_palindrome(word):\n",
    "    return word == word[::-1]\n",
    "    # copy = word\n",
    "    # if copy == word[::-1]:\n",
    "    #     return True\n",
    "    # False\n",
    "\n",
    "print(is_palindrome(\"radar\"))     \n"
   ]
  },
  {
   "cell_type": "code",
   "execution_count": 22,
   "id": "43665d2d-ab0c-48d1-a9b0-0871694252e0",
   "metadata": {},
   "outputs": [
    {
     "name": "stdout",
     "output_type": "stream",
     "text": [
      "3\n"
     ]
    }
   ],
   "source": [
    "def count_vowels(text):\n",
    "    vowels = \"aeiouAEIOU\"\n",
    "    # count = 0\n",
    "    # for i in text:\n",
    "    #     if i in vowels:\n",
    "    #         count+=1\n",
    "    # return count\n",
    "    return sum(1 for i in text if i in vowels)\n",
    "\n",
    "print(count_vowels(\"hello world\"))    # Output: 3\n"
   ]
  },
  {
   "cell_type": "code",
   "execution_count": 32,
   "id": "9bedd829-0c03-46ae-a363-65df36baf0ee",
   "metadata": {},
   "outputs": [
    {
     "name": "stdout",
     "output_type": "stream",
     "text": [
      "45\n"
     ]
    }
   ],
   "source": [
    "def second_largest(nums):\n",
    "    # return sorted(set(nums))[-2]\n",
    "    large = second = float('-inf')\n",
    "    for num in nums:\n",
    "        if num > large:\n",
    "            second = large\n",
    "            large = num\n",
    "        elif num > second and num != large:\n",
    "            second = num\n",
    "    return second\n",
    "\n",
    "print(second_largest([10, 20, 4, 45, 99,]))\n"
   ]
  },
  {
   "cell_type": "code",
   "execution_count": 34,
   "id": "cc8b3e77-a421-4412-aec9-c57235e72bcf",
   "metadata": {},
   "outputs": [
    {
     "name": "stdout",
     "output_type": "stream",
     "text": [
      "{'h': 1, 'e': 1, 'l': 3, 'o': 2, ' ': 1, 'w': 1, 'r': 1, 'd': 1}\n"
     ]
    }
   ],
   "source": [
    "def char_frequency(text):\n",
    "    c = {}\n",
    "    for i in text:\n",
    "        if i not in c.keys():\n",
    "            c[i] = 1\n",
    "        else:\n",
    "            c[i]+=1\n",
    "    return c\n",
    "\n",
    "print(char_frequency(\"hello world\"))\n"
   ]
  },
  {
   "cell_type": "code",
   "execution_count": 42,
   "id": "f4580e6a-c1a2-41ae-b0e5-8e49865e5319",
   "metadata": {},
   "outputs": [
    {
     "name": "stdout",
     "output_type": "stream",
     "text": [
      "6\n"
     ]
    }
   ],
   "source": [
    "def sum_of_digits(num):\n",
    "    sum =  0\n",
    "    while num >0:\n",
    "        rem = num%10\n",
    "        sum+=rem\n",
    "        num=num//10\n",
    "    return sum\n",
    "\n",
    "print(sum_of_digits(123))   # Output: 6 (1 + 2 + 3)\n",
    "# print(sum_of_digits(987))   # Output: 24 (9 + 8 + 7)\n"
   ]
  },
  {
   "cell_type": "code",
   "execution_count": 45,
   "id": "dc8efa61-98dc-4d97-80c3-6452ba33c4a9",
   "metadata": {},
   "outputs": [
    {
     "name": "stdout",
     "output_type": "stream",
     "text": [
      "120\n"
     ]
    }
   ],
   "source": [
    "def factorial(n):\n",
    "    fact = 1\n",
    "    for i in range(1,n+1):\n",
    "        fact = fact*i\n",
    "    return fact\n",
    "        \n",
    "print(factorial(5))"
   ]
  },
  {
   "cell_type": "code",
   "execution_count": 6,
   "id": "5b84bc35-6132-4e74-9792-73de5d5340a0",
   "metadata": {},
   "outputs": [
    {
     "name": "stdout",
     "output_type": "stream",
     "text": [
      "True\n",
      "False\n"
     ]
    }
   ],
   "source": [
    "def is_prime(n):\n",
    "    if n <= 1:\n",
    "        return False\n",
    "        \n",
    "    for i in range(2,n):\n",
    "        if n % i == 0:\n",
    "            return False\n",
    "    return True\n",
    "\n",
    "print(is_prime(11))   # Output: True\n",
    "print(is_prime(15))   # Output: False\n"
   ]
  },
  {
   "cell_type": "code",
   "execution_count": 19,
   "id": "56da2179-bbe5-488f-b911-37e42d60e81f",
   "metadata": {},
   "outputs": [
    {
     "name": "stdout",
     "output_type": "stream",
     "text": [
      "world hello\n"
     ]
    }
   ],
   "source": [
    "def reverse_string(word):\n",
    "    sen = word.split()\n",
    "    return ' '.join(sen[::-1])\n",
    "     \n",
    "print(reverse_string(\"hello world\")) # Output: \"world hello\""
   ]
  },
  {
   "cell_type": "markdown",
   "id": "9b69a377-4f5d-4d0e-ba01-1d190a85b028",
   "metadata": {},
   "source": [
    "# Decorators"
   ]
  },
  {
   "cell_type": "code",
   "execution_count": 25,
   "id": "ce9d1c3f-4017-48ff-bca3-311fdd202945",
   "metadata": {},
   "outputs": [
    {
     "name": "stdout",
     "output_type": "stream",
     "text": [
      "before excution\n",
      "1\n",
      "2\n",
      "3\n",
      "4\n",
      "5\n",
      "6\n",
      "7\n",
      "8\n",
      "9\n",
      "None\n",
      "after excution\n"
     ]
    }
   ],
   "source": [
    "def sample(func):\n",
    "    def wrapper():\n",
    "        print(\"before excution\")\n",
    "        print(func())\n",
    "        print(\"after excution\")\n",
    "    return wrapper\n",
    "@sample\n",
    "def range_values():\n",
    "    for i in range(1,10):\n",
    "        print(i)\n",
    "range_values()"
   ]
  },
  {
   "cell_type": "code",
   "execution_count": 26,
   "id": "e908c390-6e03-4b77-899e-76898f53e140",
   "metadata": {},
   "outputs": [
    {
     "data": {
      "text/plain": [
       "50"
      ]
     },
     "execution_count": 26,
     "metadata": {},
     "output_type": "execute_result"
    }
   ],
   "source": [
    "def multiple_of_ten(func):\n",
    "    def wrapper(x,y):\n",
    "        return (x+y)*10\n",
    "    return wrapper\n",
    "@multiple_of_ten\n",
    "def add(x,y):\n",
    "    return(x+y)\n",
    "add(2,3)"
   ]
  },
  {
   "cell_type": "markdown",
   "id": "37e41ba9-c500-4318-add8-4037da70b0be",
   "metadata": {},
   "source": [
    "# *args and **kwargs"
   ]
  },
  {
   "cell_type": "code",
   "execution_count": 28,
   "id": "10bc8ffa-30ed-417a-8696-c51c571d661f",
   "metadata": {},
   "outputs": [
    {
     "name": "stdout",
     "output_type": "stream",
     "text": [
      "hi\n",
      "2\n",
      "3\n",
      "4\n",
      "5\n"
     ]
    }
   ],
   "source": [
    "def values(*args):\n",
    "    for i in args:\n",
    "        print(i)\n",
    "values(\"hi\",2,3,4,5)"
   ]
  },
  {
   "cell_type": "code",
   "execution_count": 30,
   "id": "67e1f761-05f1-4185-af26-cf24da019102",
   "metadata": {},
   "outputs": [
    {
     "name": "stdout",
     "output_type": "stream",
     "text": [
      "name:narsimha\n"
     ]
    }
   ],
   "source": [
    "def key_values(**vals):\n",
    "    for key,val in vals.items():\n",
    "        print(f\"{key}:{val}\")\n",
    "key_values(name=\"narsimha\")"
   ]
  },
  {
   "cell_type": "code",
   "execution_count": 1,
   "id": "9a458111-d969-4b63-ab5c-62ae53435976",
   "metadata": {},
   "outputs": [
    {
     "name": "stdout",
     "output_type": "stream",
     "text": [
      "1:20\n",
      "name:Narsimha\n"
     ]
    }
   ],
   "source": [
    "def key_vals(kv):\n",
    "    for key, val in kv.items():\n",
    "        print(f\"{key}:{val}\")\n",
    "\n",
    "key_vals({1: 20, \"name\": \"Narsimha\"})\n"
   ]
  },
  {
   "cell_type": "markdown",
   "id": "12e09b9f-b5a6-4639-aa8b-ab1d865322e9",
   "metadata": {},
   "source": [
    "# sample problems"
   ]
  },
  {
   "cell_type": "code",
   "execution_count": 2,
   "id": "477fa4bc-fba4-4333-bb0d-f52ed356be6e",
   "metadata": {},
   "outputs": [
    {
     "name": "stdout",
     "output_type": "stream",
     "text": [
      "narsimh a\n"
     ]
    }
   ],
   "source": [
    "v='narsimha'\n",
    "x = ''\n",
    "uni = ''\n",
    "for i in v:\n",
    "    if v.count(i)>1 and i not in x:\n",
    "        x+=i\n",
    "    if i not in uni:\n",
    "        uni+=i\n",
    " \n",
    "print(uni,x)\n"
   ]
  },
  {
   "cell_type": "code",
   "execution_count": 48,
   "id": "6295400c-4e6f-4c80-b683-30195f914190",
   "metadata": {},
   "outputs": [
    {
     "data": {
      "text/plain": [
       "[9, 2, 3, 4, 5, 6, 7, 8]"
      ]
     },
     "execution_count": 48,
     "metadata": {},
     "output_type": "execute_result"
    }
   ],
   "source": [
    "nums=[9,2,3,4,2,4,5,5,5,6,7,8,8]\n",
    "u=[]\n",
    "[u.append(i) for i in nums if i not in u]\n",
    "u"
   ]
  },
  {
   "cell_type": "code",
   "execution_count": 51,
   "id": "20165b60-94c7-4240-9bda-4f04b086fc7c",
   "metadata": {},
   "outputs": [
    {
     "data": {
      "text/plain": [
       "[9, 3, 6, 7]"
      ]
     },
     "execution_count": 51,
     "metadata": {},
     "output_type": "execute_result"
    }
   ],
   "source": [
    "nums=[9,2,3,4,2,4,5,5,5,6,7,8,8]\n",
    "u = [i for i in  nums if nums.count(i)==1]\n",
    "u"
   ]
  },
  {
   "cell_type": "code",
   "execution_count": 59,
   "id": "113610e3-cf5a-4cbb-ada5-35580e4752d0",
   "metadata": {},
   "outputs": [
    {
     "data": {
      "text/plain": [
       "[(2, 1), (1, 2), (2, 3), (4, 4), (2, 5)]"
      ]
     },
     "execution_count": 59,
     "metadata": {},
     "output_type": "execute_result"
    }
   ],
   "source": [
    "l = [(2, 5), (1, 2), (4, 4), (2, 3), (2, 1)]\n",
    "for i in range(len(l)):\n",
    "    for j in range(i+1,len(l)):\n",
    "        if l[i][1]>l[j][1]:\n",
    "            l[i],l[j]=l[j],l[i]\n",
    "l"
   ]
  },
  {
   "cell_type": "code",
   "execution_count": 73,
   "id": "1e6020b4-df9f-4e5b-b6cb-c3cdff6c4aa8",
   "metadata": {},
   "outputs": [
    {
     "data": {
      "text/plain": [
       "['my', 'name', 'is', 'Narsimha', '']"
      ]
     },
     "execution_count": 73,
     "metadata": {},
     "output_type": "execute_result"
    }
   ],
   "source": [
    "x=['m','na','i','Nar']\n",
    "y=['y','me','s','simha']\n",
    "z = [i+j for i,j in zip(x,y)]\n",
    "z"
   ]
  },
  {
   "cell_type": "code",
   "execution_count": 76,
   "id": "211b709f-ba8c-491e-81df-61e6c8e180e2",
   "metadata": {},
   "outputs": [
    {
     "name": "stdin",
     "output_type": "stream",
     "text": [
      "enter a number  4\n"
     ]
    },
    {
     "name": "stdout",
     "output_type": "stream",
     "text": [
      "4 * 1 = 4\n",
      "4 * 2 = 8\n",
      "4 * 3 = 12\n",
      "4 * 4 = 16\n",
      "4 * 5 = 20\n",
      "4 * 6 = 24\n",
      "4 * 7 = 28\n",
      "4 * 8 = 32\n",
      "4 * 9 = 36\n",
      "4 * 10 = 40\n"
     ]
    }
   ],
   "source": [
    "n=int(input(\"enter a number \"))\n",
    "for i in range(1,11):\n",
    "    print(n,\"*\",i,\"=\",n*i)"
   ]
  },
  {
   "cell_type": "code",
   "execution_count": 84,
   "id": "981f5187-96a3-4a23-8d09-fd42473232a5",
   "metadata": {},
   "outputs": [
    {
     "name": "stdout",
     "output_type": "stream",
     "text": [
      "PYTHON LOVE I\n",
      "I EVOL NOHTYP "
     ]
    }
   ],
   "source": [
    "sen=\"I LOVE PYTHON\"\n",
    "n = sen.split()\n",
    "print(' '.join(n[::-1]))\n",
    "for i in n:\n",
    "    b=i[::-1]\n",
    "    print(b,end=' ')"
   ]
  },
  {
   "cell_type": "code",
   "execution_count": 85,
   "id": "68853ebd-7d70-43a5-8493-0cc63fe9c04f",
   "metadata": {},
   "outputs": [
    {
     "name": "stdout",
     "output_type": "stream",
     "text": [
      "2 6\n",
      "3 5\n"
     ]
    }
   ],
   "source": [
    "x=[4,2,3,5,6]\n",
    "target=8\n",
    "for i in range(len(x)):\n",
    "    for j in range(i+1,len(x)):\n",
    "        if x[i]+x[j]==target:\n",
    "            print(x[i],x[j])"
   ]
  },
  {
   "cell_type": "code",
   "execution_count": 1,
   "id": "a6f30655-6615-434e-ad8c-49efefc79706",
   "metadata": {},
   "outputs": [
    {
     "data": {
      "text/plain": [
       "2"
      ]
     },
     "execution_count": 1,
     "metadata": {},
     "output_type": "execute_result"
    }
   ],
   "source": [
    "x=[1,2,3,4,2,2,2,2,2,2,2,2,2,2,2,2,2,2,2,2,2,2,2,2,3,3,3,4,6,6,6,6,66,6,6,6,66,6,6,6,6,6,6,6,6,6,6,6,6]\n",
    "\n",
    "# member = x[0]\n",
    "# count = 1\n",
    "\n",
    "# for i in range(1, len(x)):\n",
    "#     if x[i] == member:\n",
    "#         count+=1\n",
    "#     else:\n",
    "#         count-=1\n",
    "#         if count<=0:\n",
    "#             member = x[i]\n",
    "#             count=1\n",
    "# print(member)\n",
    "\n",
    "\n",
    "\n",
    "c= {}\n",
    "for i in x:\n",
    "    if i not in c.keys():\n",
    "        c[i]=1\n",
    "    else:\n",
    "        c[i]+=1\n",
    "maxy = 0\n",
    "common = None\n",
    "for key,val in c.items():\n",
    "    if val > maxy:\n",
    "        maxy = val\n",
    "        common = key\n",
    "common"
   ]
  },
  {
   "cell_type": "code",
   "execution_count": null,
   "id": "de807338-c6a1-4d84-87fc-e81d4994223b",
   "metadata": {},
   "outputs": [],
   "source": [
    "def flatten(iterable):\n",
    "    flat = []\n",
    "    for item in iterable:\n",
    "        if isinstance(item, list):\n",
    "            flat.extend(flatten(item))\n",
    "        elif item is not None:\n",
    "            flat.append(item)\n",
    "    return(flat)\n",
    "print(flatten([[1, 2, 3], [4, 5, 6], [7, 8, [9, 10, 11], 12], [13, 14, 15]]))"
   ]
  },
  {
   "cell_type": "code",
   "execution_count": 5,
   "id": "0988c47a-c838-43d1-9cba-fc4b5df923a5",
   "metadata": {},
   "outputs": [
    {
     "name": "stdout",
     "output_type": "stream",
     "text": [
      "[('a', 2), ('b', 3), ('c', 2), ('b', 2), ('d', 2)]\n"
     ]
    }
   ],
   "source": [
    "A=['a','a','b','b','b','c','c','b','b','d','d']\n",
    "c = []\n",
    "ch = A[0]\n",
    "count = 1\n",
    "for i in range(1,len(A)):\n",
    "    if A[i]==ch:\n",
    "        count+=1\n",
    "    else:\n",
    "        c.append((ch, count))\n",
    "        ch = A[i]\n",
    "        count=1\n",
    "c.append((ch, count))\n",
    "print(c)\n",
    "    \n",
    "#     if i not in c.keys():\n",
    "#         c[i]=1\n",
    "#     else:\n",
    "#         c[i]+=1\n",
    "    \n",
    "# val = [(k,v) for k,v in c.items()]\n",
    "# val"
   ]
  },
  {
   "cell_type": "code",
   "execution_count": 2,
   "id": "5d6089cd-8fe8-4181-b93f-61290a7baa4f",
   "metadata": {},
   "outputs": [
    {
     "name": "stdout",
     "output_type": "stream",
     "text": [
      "yes\n"
     ]
    }
   ],
   "source": [
    "word = \"Rotavator\"\n",
    "s = word.lower()\n",
    "start = 0\n",
    "end = len(s)-1\n",
    "while start < end:\n",
    "    if s[start] != s[end]:\n",
    "        print(\"NO\")\n",
    "        break\n",
    "    start +=1\n",
    "    end -=1\n",
    "else:\n",
    "    print(\"YES\")"
   ]
  },
  {
   "cell_type": "code",
   "execution_count": 164,
   "id": "96c70dcc-86d1-466f-a09f-fd92c3be4f29",
   "metadata": {},
   "outputs": [
    {
     "data": {
      "text/plain": [
       "{'name': 'narsimha', 'age': '23', 'deg': 'Software'}"
      ]
     },
     "execution_count": 164,
     "metadata": {},
     "output_type": "execute_result"
    }
   ],
   "source": [
    "x=\"name:narsimha,age;23,deg:Software\"\n",
    "x = x.replace(\";\",\":\")\n",
    "x = x.split(',')\n",
    "c={}\n",
    "for i in x:\n",
    "    key,val =  i.split(\":\")\n",
    "    c[key]=val\n",
    "c"
   ]
  },
  {
   "cell_type": "code",
   "execution_count": 167,
   "id": "7a19320b-1f5d-414e-8f6c-fecda9378387",
   "metadata": {},
   "outputs": [
    {
     "name": "stdout",
     "output_type": "stream",
     "text": [
      "[{'name': 'srinu', 'id': '1'}, {'name': 'narsimha', 'id': '2'}, {'name': 'hackathon', 'id': '3'}]\n"
     ]
    }
   ],
   "source": [
    "a='srinu:1,narsimha:2,hackathon:3'\n",
    "a = a.split(',')\n",
    "c = []\n",
    "for i in a:\n",
    "    key,val = i.split(\":\")\n",
    "    c.append({\"name\":key,\"id\":val})\n",
    "print(c)"
   ]
  },
  {
   "cell_type": "code",
   "execution_count": 174,
   "id": "4e0587c5-b534-48f9-9851-f4c9e3dd5311",
   "metadata": {},
   "outputs": [
    {
     "data": {
      "text/plain": [
       "{'amount': 25, 'deg': 15, 'id': 3, 'name': 'vasu'}"
      ]
     },
     "execution_count": 174,
     "metadata": {},
     "output_type": "execute_result"
    }
   ],
   "source": [
    "a={'name':'vasu','id':3,'deg':15,'amount':25}\n",
    "c = {key:val for key,val in reversed(a.items())}\n",
    "c"
   ]
  },
  {
   "cell_type": "code",
   "execution_count": 176,
   "id": "d3154c31-38e2-4d07-aea5-26f8ff614698",
   "metadata": {},
   "outputs": [
    {
     "data": {
      "text/plain": [
       "24"
      ]
     },
     "execution_count": 176,
     "metadata": {},
     "output_type": "execute_result"
    }
   ],
   "source": [
    "a={'name':'vasu','id':3,'deg':15,'amount':25} \n",
    "sum = 0\n",
    "for i,j in a.items():\n",
    "    sum = sum+len(i)+len(str(j))\n",
    "sum"
   ]
  },
  {
   "cell_type": "code",
   "execution_count": 178,
   "id": "f85b5822-a40a-40d9-93fa-e2f90e9ce911",
   "metadata": {},
   "outputs": [
    {
     "name": "stdout",
     "output_type": "stream",
     "text": [
      "[{'name': 'ganesh', 'id': 2}, {'name': 'hari', 'id': 1}, {'name': 'hari', 'id': 1}, {'name': 'simha', 'id': 2}]\n"
     ]
    }
   ],
   "source": [
    "x=[{\"name\":\"hari\",\"id\":1},{\"name\":\"ganesh\",\"id\":2},{\"name\":\"simha\",\"id\":2},{\"name\":\"hari\",\"id\":1}]\n",
    "for i in range(len(x)):\n",
    "    for j in range(i+1,len(x)):\n",
    "        if x[i]['name']>x[j]['name']:\n",
    "            x[i],x[j]=x[j],x[i]\n",
    "print(x)"
   ]
  },
  {
   "cell_type": "raw",
   "id": "6791a8a2-92de-4dc9-bacc-46e6144f6ecf",
   "metadata": {},
   "source": [
    "d={'a':3,'b':5,'c':2,'d':1,'e':-2}\n",
    "c = list(d.items())\n",
    "for i in range(len(c)):\n",
    "    for j in range(i+1,len(c)):\n",
    "        if c[i][1]>c[j][1]:\n",
    "            c[i],c[j]=c[j],c[i]\n",
    "x = dict(c)\n",
    "x"
   ]
  },
  {
   "cell_type": "code",
   "execution_count": 186,
   "id": "25457933-f35e-4532-88d3-a9dda55b4c64",
   "metadata": {},
   "outputs": [
    {
     "name": "stdout",
     "output_type": "stream",
     "text": [
      "[{'name': 'AP', 'city': 2, 'city with A': ['Amravathi', 'Anakala', 'Abd', 'Ade']}, {'name': 'MP', 'city': 4, 'city with A': ['Amravathi', 'Anakala', 'Abd', 'Ade']}]\n"
     ]
    }
   ],
   "source": [
    "a=[{\"name\":\"AP\",\"city\":[\"vizag\",\"Amravathi\",\"Anakala\",\"kur\",\"nandyala\"]},{\"name\":\"MP\",\"city\":[\"Abd\",\"cda\",\"Ade\",\"kur\",\"d\"]}]\n",
    "l=[]\n",
    "count=0\n",
    "for i in a:\n",
    "    for j in i['city']:\n",
    "        if j[0]==\"A\":\n",
    "            count+=1\n",
    "            l.append(j)\n",
    "        i['city']=count\n",
    "        i['city with A']=l\n",
    "print(a)"
   ]
  },
  {
   "cell_type": "code",
   "execution_count": 191,
   "id": "55fe8bb9-c229-425c-a70d-87f0b14811f2",
   "metadata": {},
   "outputs": [
    {
     "name": "stdout",
     "output_type": "stream",
     "text": [
      "['abhi', 'adoos', 'narsimha', 'anioballehc', 'goud', 'hsenag', 'pollu', 'ias', 'chnadra']\n"
     ]
    }
   ],
   "source": [
    "a='abhi sooda narsimha chellaboina goud ganesh pollu sai chnadra'\n",
    "a=a.split()\n",
    "c=[]\n",
    "for i in range(len(a)):\n",
    "    if i%2 ==1:\n",
    "        s=a[i]\n",
    "        r=s[::-1]\n",
    "        c.append(r)\n",
    "    else:\n",
    "        c.append(a[i])\n",
    "print(c)\n",
    "        "
   ]
  },
  {
   "cell_type": "code",
   "execution_count": 9,
   "id": "0e4b7303-32c6-47dd-a5b1-5d0700d72af6",
   "metadata": {},
   "outputs": [
    {
     "data": {
      "text/plain": [
       "'geekskeeg'"
      ]
     },
     "execution_count": 9,
     "metadata": {},
     "output_type": "execute_result"
    }
   ],
   "source": [
    "x=\"forgeekskeegfor\"\n",
    "y = ''\n",
    "length = 0\n",
    "for i in range(len(x)):\n",
    "    for j in range(i+1,len(x)):\n",
    "        match = x[i:j]\n",
    "        if match == match[::-1] and len(match)>length:\n",
    "            y = match\n",
    "            length = len(match)\n",
    "y\n",
    "            \n",
    "        "
   ]
  },
  {
   "cell_type": "code",
   "execution_count": 7,
   "id": "beebcf34-2a50-479e-b14d-94d1a64d6dcd",
   "metadata": {},
   "outputs": [
    {
     "data": {
      "text/plain": [
       "{'B', 'C'}"
      ]
     },
     "execution_count": 7,
     "metadata": {},
     "output_type": "execute_result"
    }
   ],
   "source": [
    "a= \"ABCBC\"\n",
    "charSet = set()\n",
    "l = 0\n",
    "res = 0\n",
    "for r in range(len(a)):\n",
    "    while a[r] in charSet:\n",
    "        charSet.remove(a[l])\n",
    "        l+=1\n",
    "    charSet.add(a[r])\n",
    "    res = max(res,r-l+1)\n",
    "charSet\n"
   ]
  },
  {
   "cell_type": "code",
   "execution_count": 12,
   "id": "e336febc-ac8e-4b9f-a0fd-e4cdc23d8232",
   "metadata": {},
   "outputs": [
    {
     "name": "stdout",
     "output_type": "stream",
     "text": [
      "{'john': 5, 'johnny': 4, 'jackie': 2, 'jamie': 3}\n"
     ]
    },
    {
     "data": {
      "text/plain": [
       "'john'"
      ]
     },
     "execution_count": 12,
     "metadata": {},
     "output_type": "execute_result"
    }
   ],
   "source": [
    "x =['john','john','johnny','jackie','johnny','john','jackie','jamie','jamie','john','johnny','jamie','johnny','john']\n",
    "sample_dict = {}\n",
    "for i in x:\n",
    "    if i not in sample_dict.keys():\n",
    "        sample_dict[i] = 1\n",
    "    else:\n",
    "        sample_dict[i]+=1\n",
    "maxV = 0\n",
    "common = None\n",
    "# for key,val in sample_dict.items():\n",
    "#     if val > maxV:\n",
    "#         maxV = val\n",
    "#         common = key\n",
    "for i in sample_dict:\n",
    "    if sample_dict[i] > maxV:\n",
    "        maxV = len(i)\n",
    "        common = i\n",
    "common\n"
   ]
  },
  {
   "cell_type": "code",
   "execution_count": 28,
   "id": "082a1fc5-61b8-4909-b224-3e48752712c8",
   "metadata": {},
   "outputs": [
    {
     "data": {
      "text/plain": [
       "<function list.count(value, /)>"
      ]
     },
     "execution_count": 28,
     "metadata": {},
     "output_type": "execute_result"
    }
   ],
   "source": [
    "x=[1,2,2,3,4]\n",
    "v = max(set(x),key=x.count)\n",
    "v"
   ]
  },
  {
   "cell_type": "code",
   "execution_count": 32,
   "id": "d11d469f-209a-43f1-9e3f-a4e9ce8a0203",
   "metadata": {},
   "outputs": [
    {
     "data": {
      "text/plain": [
       "3"
      ]
     },
     "execution_count": 32,
     "metadata": {},
     "output_type": "execute_result"
    }
   ],
   "source": [
    "x=[1,2,2,3,3,3,3,3,4]\n",
    "common_num = x[0]\n",
    "count = 0\n",
    "for i in x:\n",
    "    common_val = x.count(i)\n",
    "    if common_val > count:\n",
    "        count = common_val\n",
    "        common_num = i\n",
    "common_num"
   ]
  },
  {
   "cell_type": "code",
   "execution_count": 35,
   "id": "6a2c437e-1993-426e-8482-ebf7767c242b",
   "metadata": {},
   "outputs": [
    {
     "name": "stdout",
     "output_type": "stream",
     "text": [
      "2\n",
      "3\n",
      "5\n",
      "7\n",
      "11\n",
      "13\n",
      "17\n",
      "19\n"
     ]
    }
   ],
   "source": [
    "def prime_numbers_btw_two_values(l,u):\n",
    "    for num in range(l,u+1):\n",
    "        if num > 1:\n",
    "            for i in range(2,num):\n",
    "                if num%i ==0:\n",
    "                    break\n",
    "            else:\n",
    "                print(num)\n",
    "prime_numbers_btw_two_values(1,20)"
   ]
  },
  {
   "cell_type": "code",
   "execution_count": 3,
   "id": "afa4951a-50f7-440d-9a84-46a0ac0f74e8",
   "metadata": {},
   "outputs": [
    {
     "name": "stdout",
     "output_type": "stream",
     "text": [
      "2\n",
      "3\n",
      "5\n",
      "7\n",
      "11\n",
      "13\n",
      "17\n",
      "19\n",
      "prime nums b/w 1,20\n"
     ]
    }
   ],
   "source": [
    "def prime_decorator(func):\n",
    "    def wrapper(l,u):\n",
    "        for num in range(l,u):\n",
    "            if num > 1:\n",
    "                for i in range(2,num):\n",
    "                    if num%i==0:\n",
    "                        break\n",
    "                else:\n",
    "                    print(num)\n",
    "        return func(l,u)\n",
    "    return wrapper\n",
    "@prime_decorator\n",
    "def primenums(a,b):\n",
    "    print(f\"prime nums b/w {a},{b}\")\n",
    "a =  primenums(1,20)\n",
    "        "
   ]
  },
  {
   "cell_type": "markdown",
   "id": "a32a7dd2-c5c6-4a87-aa21-ba95329cfc3c",
   "metadata": {},
   "source": [
    "# Lambda Functions"
   ]
  },
  {
   "cell_type": "code",
   "execution_count": 2,
   "id": "52163c5e-b053-4230-b8ac-e071b468f838",
   "metadata": {},
   "outputs": [
    {
     "data": {
      "text/plain": [
       "[2, 4, 6]"
      ]
     },
     "execution_count": 2,
     "metadata": {},
     "output_type": "execute_result"
    }
   ],
   "source": [
    "data = [2,4,5,6,7,9]\n",
    "d = list(filter(lambda x : x%2 == 0, data)) # filter the data retive the values divisiable by 2\n",
    "d"
   ]
  },
  {
   "cell_type": "code",
   "execution_count": 3,
   "id": "cb5f8062-50cc-4fe8-9a43-38b7159e2664",
   "metadata": {},
   "outputs": [
    {
     "data": {
      "text/plain": [
       "[4, 8, 10, 12, 14, 18]"
      ]
     },
     "execution_count": 3,
     "metadata": {},
     "output_type": "execute_result"
    }
   ],
   "source": [
    "data = [2,4,5,6,7,9]\n",
    "d = list(map(lambda x : x*2, data)) # map every element and multiply by 2\n",
    "d"
   ]
  },
  {
   "cell_type": "code",
   "execution_count": 5,
   "id": "749330c9-6d81-4e40-9524-665dfdf2f92b",
   "metadata": {},
   "outputs": [
    {
     "data": {
      "text/plain": [
       "33"
      ]
     },
     "execution_count": 5,
     "metadata": {},
     "output_type": "execute_result"
    }
   ],
   "source": [
    "from functools import reduce\n",
    "data = [2,4,5,6,7,9]\n",
    "product = reduce(lambda x,y : x+y, data)\n",
    "product"
   ]
  },
  {
   "cell_type": "code",
   "execution_count": 1,
   "id": "262c6ef7-7c39-4e2f-85e0-2d2ee72a89a8",
   "metadata": {},
   "outputs": [
    {
     "name": "stdout",
     "output_type": "stream",
     "text": [
      "[False, False, False, False, True, True]\n"
     ]
    }
   ],
   "source": [
    "# Map ()\n",
    "x = [1000,2000,5000,9000,12000,15000]\n",
    "\n",
    "def greater_than_9000(x):\n",
    "    if x > 9000:\n",
    "        return True\n",
    "    return False\n",
    "mapped = list(map(greater_than_9000,x))\n",
    "print(mapped)"
   ]
  },
  {
   "cell_type": "code",
   "execution_count": 4,
   "id": "073c4627-578f-4ed9-a0ce-edfd58427107",
   "metadata": {},
   "outputs": [
    {
     "name": "stdout",
     "output_type": "stream",
     "text": [
      "False\n",
      "False\n",
      "False\n",
      "False\n",
      "True\n",
      "True\n"
     ]
    }
   ],
   "source": [
    "for m in mapped:\n",
    "    print(m)"
   ]
  },
  {
   "cell_type": "code",
   "execution_count": 6,
   "id": "08bfb11a-c4bd-4d41-8e13-e9bff520e340",
   "metadata": {},
   "outputs": [
    {
     "name": "stdout",
     "output_type": "stream",
     "text": [
      "[False, False, False, False, True, True]\n"
     ]
    }
   ],
   "source": [
    "mapped_list = [*map(greater_than_9000,x)]\n",
    "print(mapped_list)"
   ]
  },
  {
   "cell_type": "code",
   "execution_count": 9,
   "id": "d0089869-9a76-47a1-ab7d-102cc283df61",
   "metadata": {},
   "outputs": [
    {
     "name": "stdout",
     "output_type": "stream",
     "text": [
      "[False, False, False, False, True, True]\n"
     ]
    }
   ],
   "source": [
    "data = [1000,2000,5000,9000,12000,15000]\n",
    "mapped_data = list(map(lambda x : x>9000, data ))\n",
    "print(mapped_data)"
   ]
  },
  {
   "cell_type": "code",
   "execution_count": 12,
   "id": "b10d5d06-5175-4bef-8eb1-e91962cfcaa5",
   "metadata": {},
   "outputs": [
    {
     "data": {
      "text/plain": [
       "[(2, 1), (4, 3), (6, 5), (8, 7)]"
      ]
     },
     "execution_count": 12,
     "metadata": {},
     "output_type": "execute_result"
    }
   ],
   "source": [
    "x = [2,4,6,8]\n",
    "y = [1,3,5,7]\n",
    "z = list(zip(x,y))\n",
    "# z = [*zip(x,y)]\n",
    "z"
   ]
  },
  {
   "cell_type": "code",
   "execution_count": 16,
   "id": "784b6057-7b5f-400d-8d03-f97e733a9132",
   "metadata": {},
   "outputs": [
    {
     "data": {
      "text/plain": [
       "[(2, 1), (4, 3), (6, 5), (8, 7), (None, 9), (None, 11)]"
      ]
     },
     "execution_count": 16,
     "metadata": {},
     "output_type": "execute_result"
    }
   ],
   "source": [
    "from itertools import zip_longest\n",
    "x = [2,4,6,8]\n",
    "y = [1,3,5,7,9,11]\n",
    "# z = list(zip(x,y)) # will consider the shorter kength only\n",
    "z = list(zip_longest(x,y,fillvalue=None))\n",
    "z"
   ]
  },
  {
   "cell_type": "code",
   "execution_count": 19,
   "id": "0630e5a2-2b8d-42a7-a471-ac931a80aad3",
   "metadata": {},
   "outputs": [
    {
     "name": "stdout",
     "output_type": "stream",
     "text": [
      "True\n",
      "True\n",
      "False\n"
     ]
    }
   ],
   "source": [
    "# all () and any() any = will return if one item is true all = will return true if all is True\n",
    "\n",
    "x = [True,True,True]\n",
    "y = [True,False,True]\n",
    "z = [False,False,False]\n",
    "print(all(x))\n",
    "print(any(y))\n",
    "print(all(y))"
   ]
  },
  {
   "cell_type": "code",
   "execution_count": 22,
   "id": "ae55ef4f-fd7d-46dd-8a14-85d4539371e6",
   "metadata": {},
   "outputs": [
    {
     "name": "stdout",
     "output_type": "stream",
     "text": [
      "{'Vegeta': [7, 12], 'Goku': [1, 2, 6, 11, 13], 'Piccolo': [4, 9, 10, 14], 'Gohan': [3, 8], 'Krillin': [0, 5]}\n"
     ]
    }
   ],
   "source": [
    "characters = [\"Krillin\",\"Goku\", \"Goku\", \"Gohan\", \"Piccolo\",\n",
    "              \"Krillin\",\"Goku\", \"Vegeta\", \"Gohan\", \"Piccolo\",\n",
    "              \"Piccolo\",\"Goku\", \"Vegeta\", \"Goku\", \"Piccolo\"]\n",
    "character_map = {character:[] for character in set(characters)}\n",
    "for index,character in enumerate(characters):\n",
    "    character_map[character].append(index)\n",
    "    \n",
    "print(character_map)"
   ]
  },
  {
   "cell_type": "markdown",
   "id": "68deab0f-6f3c-444a-80ce-eecd149ee245",
   "metadata": {},
   "source": [
    "# Asynchronous Process"
   ]
  },
  {
   "cell_type": "code",
   "execution_count": null,
   "id": "3bf15b11-3798-4b0f-a35e-d0b69dd05cb9",
   "metadata": {},
   "outputs": [],
   "source": []
  },
  {
   "cell_type": "markdown",
   "id": "6941f182-a0ff-4dad-ba6d-7b74d21e418e",
   "metadata": {},
   "source": [
    "# threading"
   ]
  },
  {
   "cell_type": "code",
   "execution_count": 6,
   "id": "d3d9cd33-ab47-46ce-aa7b-bcf92b1dc590",
   "metadata": {},
   "outputs": [
    {
     "name": "stdout",
     "output_type": "stream",
     "text": [
      "Number: 0\n",
      "Letter: A\n",
      "Number: 1Letter: B\n",
      "\n",
      "Number: 2Letter: C\n",
      "\n",
      "Letter: D\n",
      "Number: 3\n",
      "Number: 4Letter: E\n",
      "\n",
      "Finished executing threads.\n"
     ]
    }
   ],
   "source": [
    "import threading\n",
    "import time\n",
    "\n",
    "def print_numbers():\n",
    "    for i in range(5):\n",
    "        print(f\"Number: {i}\")\n",
    "        time.sleep(1)\n",
    "\n",
    "def print_letters():\n",
    "    for letter in 'ABCDE':\n",
    "        print(f\"Letter: {letter}\")\n",
    "        time.sleep(1)\n",
    "\n",
    "# Creating threads\n",
    "thread1 = threading.Thread(target=print_numbers)\n",
    "thread2 = threading.Thread(target=print_letters)\n",
    "\n",
    "# Starting threads\n",
    "thread1.start()\n",
    "thread2.start()\n",
    "\n",
    "# Wait for threads to complete\n",
    "thread1.join()\n",
    "thread2.join()\n",
    "\n",
    "print(\"Finished executing threads.\")\n"
   ]
  },
  {
   "cell_type": "code",
   "execution_count": 26,
   "id": "308b6509-c092-4ee4-80ae-fbd27f46b382",
   "metadata": {},
   "outputs": [
    {
     "name": "stdout",
     "output_type": "stream",
     "text": [
      "Multiprocessing example completed!\n"
     ]
    }
   ],
   "source": [
    "import multiprocessing\n",
    "import time\n",
    "\n",
    "def square_numbers(numbers):\n",
    "    for n in numbers:\n",
    "        print(f\"Square of {n}: {n ** 2}\")\n",
    "        time.sleep(1)\n",
    "\n",
    "def cube_numbers(numbers):\n",
    "    for n in numbers:\n",
    "        print(f\"Cube of {n}: {n ** 3}\")\n",
    "        time.sleep(1)\n",
    "\n",
    "# Define data\n",
    "numbers = [1, 2, 3, 4, 5]\n",
    "\n",
    "# Create processes\n",
    "process1 = multiprocessing.Process(target=square_numbers, args=(numbers,))\n",
    "process2 = multiprocessing.Process(target=cube_numbers, args=(numbers,))\n",
    "\n",
    "# Start processes\n",
    "process1.start()\n",
    "process2.start()\n",
    "\n",
    "# Wait for processes to finish\n",
    "process1.join()\n",
    "process2.join()\n",
    "\n",
    "print(\"Multiprocessing example completed!\")\n"
   ]
  },
  {
   "cell_type": "markdown",
   "id": "a3b45846-c0ec-4aee-b184-c28a10c0d68d",
   "metadata": {},
   "source": [
    "# file handling"
   ]
  },
  {
   "cell_type": "code",
   "execution_count": 27,
   "id": "d1bf1e4a-60a6-40d2-b0c9-5d3720025a6e",
   "metadata": {},
   "outputs": [],
   "source": [
    "with open(\"sample.txt\",\"w\") as file: # Write a file\n",
    "    file.write(\"Hello Narsimha\")\n",
    "    file.close()\n",
    "    "
   ]
  },
  {
   "cell_type": "code",
   "execution_count": 31,
   "id": "00215164-a732-4ce4-96a3-9ae484474fc5",
   "metadata": {},
   "outputs": [
    {
     "name": "stdout",
     "output_type": "stream",
     "text": [
      "Hello Narsimha\n"
     ]
    }
   ],
   "source": [
    "with open(\"sample.txt\",\"r\") as file: # Reading a file\n",
    "    content = file.read()\n",
    "    print(content)\n",
    "    file.close()"
   ]
  }
 ],
 "metadata": {
  "kernelspec": {
   "display_name": "Python 3 (ipykernel)",
   "language": "python",
   "name": "python3"
  },
  "language_info": {
   "codemirror_mode": {
    "name": "ipython",
    "version": 3
   },
   "file_extension": ".py",
   "mimetype": "text/x-python",
   "name": "python",
   "nbconvert_exporter": "python",
   "pygments_lexer": "ipython3",
   "version": "3.11.9"
  }
 },
 "nbformat": 4,
 "nbformat_minor": 5
}
