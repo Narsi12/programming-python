{
 "cells": [
  {
   "cell_type": "markdown",
   "id": "75fccb20-f770-470b-ac93-de32b0abb3c6",
   "metadata": {},
   "source": [
    "## For definations refer copart"
   ]
  },
  {
   "cell_type": "code",
   "execution_count": null,
   "id": "c029214c-5a47-434d-8b79-ab6980f1dc1f",
   "metadata": {},
   "outputs": [],
   "source": [
    "from functools import reduce\n",
    "data = [2,4,5,6,7,9]\n",
    "sq_nums = list(map(lambda x : x**2 , data))\n",
    "fil_nums = list(filter(lambda x : x%2!=0, data))\n",
    "sum_nums = reduce(lambda x,y : x+y, data)\n",
    "print(sum_nums)"
   ]
  },
  {
   "cell_type": "code",
   "execution_count": 8,
   "id": "6e9bbc12-0fc5-4e0d-b6fa-dd73ec1b4e39",
   "metadata": {},
   "outputs": [
    {
     "name": "stdout",
     "output_type": "stream",
     "text": [
      "-------------------------shallow copy -----------------------\n",
      "[2, 4, 5, 6, 7, [99, 10, 11]]\n",
      "[2, 4, 5, 6, 7, [99, 10, 11]]\n",
      "----------------------deep copy ------------------------\n",
      "[2, 4, 5, 6, 7, [99, 2000, 11]]\n",
      "[2, 4, 5, 6, 7, [99, 10, 11]]\n"
     ]
    }
   ],
   "source": [
    "import copy\n",
    "data = [2,4,5,6,7,[9,10,11]]\n",
    "# shallow copy\n",
    "print(\"-------------------------shallow copy -----------------------\")\n",
    "shallow = copy.copy(data)\n",
    "shallow[5][0]=99\n",
    "print(shallow)\n",
    "print(data)\n",
    "print(\"----------------------deep copy ------------------------\")\n",
    "deep = copy.deepcopy(data)\n",
    "deep[5][1]=2000\n",
    "print(deep)\n",
    "print(data)"
   ]
  },
  {
   "cell_type": "code",
   "execution_count": 3,
   "id": "27e5a8c8-f56f-441d-96fd-d05d5347e50b",
   "metadata": {},
   "outputs": [
    {
     "name": "stdout",
     "output_type": "stream",
     "text": [
      "1\n",
      "2\n",
      "3\n",
      "4\n",
      "5\n"
     ]
    }
   ],
   "source": [
    "class MyNumbers:\n",
    "    def __iter__(self):\n",
    "        self.num = 1\n",
    "        return self\n",
    "    def __next__(self):\n",
    "        if self.num <=5:\n",
    "            val = self.num\n",
    "            self.num+=1\n",
    "            return val\n",
    "        else:\n",
    "            raise StopIteration\n",
    "nums = MyNumbers()\n",
    "for i in nums:\n",
    "    print(i)"
   ]
  },
  {
   "cell_type": "code",
   "execution_count": 6,
   "id": "f2fe33da-b40d-400f-9284-fb46452be505",
   "metadata": {},
   "outputs": [
    {
     "name": "stdout",
     "output_type": "stream",
     "text": [
      "1\n",
      "2\n",
      "3\n",
      "4\n",
      "5\n",
      "6\n",
      "7\n",
      "8\n",
      "9\n"
     ]
    }
   ],
   "source": [
    "class NumVals:\n",
    "    def __init__(self,start,end):\n",
    "        self.start=start\n",
    "        self.end = end\n",
    "    def __iter__(self):\n",
    "        return self\n",
    "    def __next__(self):\n",
    "        if self.start < self.end:\n",
    "            self.start+=1\n",
    "            return self.start-1\n",
    "        else:\n",
    "            raise StopIteration\n",
    "nums = NumVals(1,10)\n",
    "for i in nums:\n",
    "    print(i)\n",
    "        "
   ]
  },
  {
   "cell_type": "code",
   "execution_count": 8,
   "id": "78175259-60d5-4b4c-9599-491f6377f183",
   "metadata": {},
   "outputs": [
    {
     "name": "stdout",
     "output_type": "stream",
     "text": [
      "1\n",
      "2\n",
      "3\n",
      "4\n",
      "5\n",
      "6\n",
      "7\n",
      "8\n",
      "9\n",
      "10\n"
     ]
    }
   ],
   "source": [
    "def generators_nums(start,end):\n",
    "    while start <=end :\n",
    "        yield start\n",
    "        start+=1\n",
    "nums = generators_nums(1,10)\n",
    "for i in nums:\n",
    "    print(i)"
   ]
  },
  {
   "cell_type": "code",
   "execution_count": 10,
   "id": "90607d97-80df-47f9-aae8-98928653511a",
   "metadata": {},
   "outputs": [
    {
     "name": "stdout",
     "output_type": "stream",
     "text": [
      "threading : 0\n",
      "threading : 1\n",
      "threading : 2\n",
      "threading : 3\n",
      "threading : 4\n",
      "threading : 5\n",
      "threading : 6\n",
      "threading : 7\n",
      "threading : 8\n",
      "threading : 9\n",
      "Done\n"
     ]
    }
   ],
   "source": [
    "## Threading\n",
    "import threading\n",
    "def example():\n",
    "    for i in range(10):\n",
    "        print(f\"threading : {i}\")\n",
    "p1 = threading.Thread(target=example())\n",
    "p1.start()\n",
    "p1.join()\n",
    "print(\"Done\")"
   ]
  },
  {
   "cell_type": "code",
   "execution_count": 13,
   "id": "cf420518-6140-4257-80a7-262afac173f4",
   "metadata": {},
   "outputs": [
    {
     "name": "stdout",
     "output_type": "stream",
     "text": [
      "checking...\n",
      "checking...\n",
      "File Downloaded\n",
      "File Downloaded\n",
      "Done\n"
     ]
    }
   ],
   "source": [
    "from threading import Thread\n",
    "import time\n",
    "def downloading():\n",
    "    print(\"checking...\")\n",
    "    time.sleep(2)\n",
    "    print(\"File Downloaded\")\n",
    "\n",
    "p1 = Thread(target=downloading)\n",
    "p2 = Thread(target=downloading)\n",
    "\n",
    "p1.start()\n",
    "p2.start()\n",
    "p1.join()\n",
    "p2.join()\n",
    "print(\"Done\")"
   ]
  },
  {
   "cell_type": "code",
   "execution_count": 20,
   "id": "5da704b5-a3d9-418d-9f08-f90c8c9e506a",
   "metadata": {},
   "outputs": [
    {
     "name": "stdout",
     "output_type": "stream",
     "text": [
      "Function 'count_nums' returned the count is 200 in 10.000126900000396 seconds\n"
     ]
    }
   ],
   "source": [
    "## Decorator\n",
    "import time\n",
    "def exection_time(func):\n",
    "    def wrapper(*args,**kwargs):\n",
    "        start = time.perf_counter()\n",
    "        res = func(*args,**kwargs)\n",
    "        end = time.perf_counter()\n",
    "        exe_time = end-start\n",
    "        formatted_time = round(exe_time,2)\n",
    "        return f\"Function '{func.__name__}' returned {res} in {exe_time} seconds\"\n",
    "    return wrapper\n",
    "@exection_time\n",
    "def count_nums(n):\n",
    "    count=0\n",
    "    time.sleep(10)\n",
    "    for i in range(n):\n",
    "        count+=1\n",
    "    return f\"the count is {count}\"\n",
    "print(count_nums(200))"
   ]
  },
  {
   "cell_type": "code",
   "execution_count": 22,
   "id": "6be320b8-4e32-406e-b0ee-92914dc48fc4",
   "metadata": {},
   "outputs": [
    {
     "name": "stdout",
     "output_type": "stream",
     "text": [
      "45\n"
     ]
    }
   ],
   "source": [
    "## sums\n",
    "def second_largest(lst):\n",
    "    large = sceond = float('-inf')\n",
    "    for num in lst:\n",
    "        if num > large:\n",
    "            second = large\n",
    "            large = num\n",
    "        elif second > num and num!=large:\n",
    "            second = num\n",
    "    return second\n",
    "\n",
    "lst = [10, 20, 4, 45, 99,]\n",
    "print(second_largest(lst))"
   ]
  },
  {
   "cell_type": "code",
   "execution_count": 28,
   "id": "a326c695-24d0-4db0-9239-204b4227c140",
   "metadata": {},
   "outputs": [
    {
     "name": "stdout",
     "output_type": "stream",
     "text": [
      "10\n"
     ]
    }
   ],
   "source": [
    "def sum_digits(num):\n",
    "    total = 0\n",
    "    while num > 0:\n",
    "        rem = num%10\n",
    "        total=total+rem\n",
    "        num=num//10\n",
    "    return total\n",
    "num = 1234\n",
    "print(sum_digits(num))"
   ]
  },
  {
   "cell_type": "code",
   "execution_count": 30,
   "id": "168ed21d-594e-4a05-97e9-a0d64eabdd2e",
   "metadata": {},
   "outputs": [
    {
     "name": "stdout",
     "output_type": "stream",
     "text": [
      "120\n"
     ]
    }
   ],
   "source": [
    "def factorial(n):\n",
    "    fact = 1\n",
    "    for i in range(1,n+1):\n",
    "        fact = fact*i\n",
    "    return fact\n",
    "print(factorial(5))"
   ]
  },
  {
   "cell_type": "code",
   "execution_count": 37,
   "id": "4d69433c-4372-47d1-ab89-90114bb0bc08",
   "metadata": {},
   "outputs": [
    {
     "name": "stdout",
     "output_type": "stream",
     "text": [
      "not prime\n"
     ]
    }
   ],
   "source": [
    "def prime(n):\n",
    "    if n>1:\n",
    "        for i in range(2,n):\n",
    "            if n%i==0:\n",
    "                return \"not prime\"\n",
    "        else:\n",
    "            return \"prime number\"\n",
    "    else:\n",
    "        return \"number should greater then 1\"\n",
    "\n",
    "n=4\n",
    "print(prime(n))"
   ]
  },
  {
   "cell_type": "code",
   "execution_count": 47,
   "id": "ff62e801-b819-48c8-a31f-6e481260a6b9",
   "metadata": {},
   "outputs": [
    {
     "name": "stdout",
     "output_type": "stream",
     "text": [
      "[2, 3, 5, 7]\n"
     ]
    }
   ],
   "source": [
    "def prime_btw_two_nums(start,end):\n",
    "    Prime = []\n",
    "    for num in range(start,end):\n",
    "        if num >1:\n",
    "            is_prime = True\n",
    "            for i in range(2,num):\n",
    "                if num%i==0:\n",
    "                    is_prime = False\n",
    "                    break\n",
    "            if is_prime:\n",
    "                Prime.append(num)\n",
    "    return Prime\n",
    "        \n",
    "print(prime_btw_two_nums(1,10))"
   ]
  },
  {
   "cell_type": "code",
   "execution_count": 48,
   "id": "1e93bd32-0aba-4541-9f4c-f32c48992930",
   "metadata": {},
   "outputs": [
    {
     "name": "stdout",
     "output_type": "stream",
     "text": [
      "[0, 1, 1, 2, 3, 5, 8, 13]\n"
     ]
    }
   ],
   "source": [
    "def fiboo(n):\n",
    "    fibseries = [0,1]\n",
    "    while fibseries[-1]+fibseries[-2] <= n:\n",
    "        fibseries.append(fibseries[-1]+fibseries[-2])\n",
    "    return fibseries\n",
    "\n",
    "n=16\n",
    "print(fiboo(n))"
   ]
  },
  {
   "cell_type": "code",
   "execution_count": 53,
   "id": "516c3c70-3f53-46b8-8194-ecef9ed8f89c",
   "metadata": {},
   "outputs": [
    {
     "name": "stdout",
     "output_type": "stream",
     "text": [
      "[[0, 1], [2, 3]]\n"
     ]
    }
   ],
   "source": [
    "def two_sum(arr,target):\n",
    "    seen = {}\n",
    "    pairs = []\n",
    "    for index, num in enumerate(arr):\n",
    "        val = target - num\n",
    "        if val in seen:\n",
    "            pairs.append([seen[val],index])\n",
    "        else:\n",
    "            seen[num]=index\n",
    "    return pairs\n",
    "arr=[1, 8, 4, 5, 87]\n",
    "target=9\n",
    "print(two_sum(arr,target))"
   ]
  },
  {
   "cell_type": "code",
   "execution_count": 56,
   "id": "6ea23b27-46a9-4943-9655-ea4c05cd8559",
   "metadata": {},
   "outputs": [
    {
     "name": "stdout",
     "output_type": "stream",
     "text": [
      "2\n"
     ]
    }
   ],
   "source": [
    "x=[1,2,3,4,2,2,2,2,2,2,2,2,2,2,2,2,2,2,2,2,2,2,2,2,3,3,3,4,6,6,6,6,66,6,6,6,66,6,6,6,6,6,6,6,6,6,6,6,6]\n",
    "c = {}\n",
    "for i in x:\n",
    "    if i not in c.keys():\n",
    "        c[i]=1\n",
    "    else:\n",
    "        c[i]+=1\n",
    "maxy = 0\n",
    "common = None\n",
    "for key,val in c.items():\n",
    "    if val > maxy:\n",
    "        maxy = val\n",
    "        common = key\n",
    "\n",
    "print(common)"
   ]
  },
  {
   "cell_type": "code",
   "execution_count": 57,
   "id": "bdf37d64-43af-47b8-9bec-c8d1b42919d8",
   "metadata": {},
   "outputs": [
    {
     "name": "stdout",
     "output_type": "stream",
     "text": [
      "[['a', 2], ['b', 3], ['c', 2], ['b', 2], ['d', 2]]\n"
     ]
    }
   ],
   "source": [
    "A=['a','a','b','b','b','c','c','b','b','d','d']\n",
    "res = []\n",
    "count = 1\n",
    "for i in range(1,len(A)):\n",
    "    if A[i] == A[i-1]:\n",
    "        count+=1\n",
    "    elif count >1:\n",
    "        res.append([A[i-1],count])\n",
    "        count = 1\n",
    "if count > 1:\n",
    "    res.append([A[i-1],count])\n",
    "print(res)"
   ]
  },
  {
   "cell_type": "code",
   "execution_count": 65,
   "id": "5edbe249-f17d-4072-a61d-2c6104ee7159",
   "metadata": {},
   "outputs": [
    {
     "name": "stdout",
     "output_type": "stream",
     "text": [
      "[['a', 2], ['b', 3], ['c', 2], ['b', 2], ['d', 2]]\n"
     ]
    }
   ],
   "source": [
    "A=['a','a','b','b','b','c','c','b','b','d','d']\n",
    "res = []\n",
    "count = 1\n",
    "current = A[0]\n",
    "for i in range(1,len(A)):\n",
    "    if A[i] == current:\n",
    "        count+=1\n",
    "    elif count > 1:\n",
    "        res.append([current,count])\n",
    "        current = A[i]\n",
    "        count=1\n",
    "if count > 1:\n",
    "    res.append([current,count])\n",
    "print(res)    \n",
    "    "
   ]
  },
  {
   "cell_type": "code",
   "execution_count": 72,
   "id": "91bbba79-5eda-4ad1-961a-c991709059dc",
   "metadata": {},
   "outputs": [
    {
     "name": "stdout",
     "output_type": "stream",
     "text": [
      "yes\n"
     ]
    }
   ],
   "source": [
    "word = \"Rotavator\"\n",
    "sen = word.lower()\n",
    "start = 0\n",
    "end = len(word)-1\n",
    "while start <= end:\n",
    "    if sen[start]!=sen[end]:\n",
    "        print(\"no\")\n",
    "        break\n",
    "    start+=1\n",
    "    end-=1\n",
    "else:\n",
    "    print(\"yes\")"
   ]
  },
  {
   "cell_type": "code",
   "execution_count": 78,
   "id": "d6caee11-117b-4736-a7b7-64235006b76b",
   "metadata": {},
   "outputs": [
    {
     "data": {
      "text/plain": [
       "{'name': 'narsimha', 'age': '23', 'deg': 'Software'}"
      ]
     },
     "execution_count": 78,
     "metadata": {},
     "output_type": "execute_result"
    }
   ],
   "source": [
    "x=\"name:narsimha,age;23,deg:Software\"\n",
    "x = x.replace(\";\",\":\")\n",
    "sen = x.split(',')\n",
    "c = {}\n",
    "for i in sen:\n",
    "    key,val = i.split(\":\")\n",
    "    c[key]=val\n",
    "c"
   ]
  },
  {
   "cell_type": "code",
   "execution_count": 80,
   "id": "f5bafdd7-3d9a-428c-b56e-d4f073105845",
   "metadata": {},
   "outputs": [
    {
     "data": {
      "text/plain": [
       "[{'name': 'ganesh', 'id': 2},\n",
       " {'name': 'hari', 'id': 1},\n",
       " {'name': 'hari', 'id': 1},\n",
       " {'name': 'simha', 'id': 2}]"
      ]
     },
     "execution_count": 80,
     "metadata": {},
     "output_type": "execute_result"
    }
   ],
   "source": [
    "x=[{\"name\":\"hari\",\"id\":1},{\"name\":\"ganesh\",\"id\":2},{\"name\":\"simha\",\"id\":2},{\"name\":\"hari\",\"id\":1}]\n",
    "for i in range(len(x)):\n",
    "    for j in range(i+1,len(x)):\n",
    "        if x[i][\"name\"] > x[j][\"name\"]:\n",
    "            x[i],x[j]=x[j],x[i]\n",
    "x"
   ]
  },
  {
   "cell_type": "code",
   "execution_count": 83,
   "id": "d0c3d21d-55d0-48c3-bd06-47c1c9e86408",
   "metadata": {},
   "outputs": [
    {
     "data": {
      "text/plain": [
       "'geekskeeg'"
      ]
     },
     "execution_count": 83,
     "metadata": {},
     "output_type": "execute_result"
    }
   ],
   "source": [
    "x=\"forgeekskeegfor\"\n",
    "leen = 0\n",
    "longest = ''\n",
    "for i in range(len(x)):\n",
    "    for j in range(i+1,len(x)):\n",
    "        match = x[i:j]\n",
    "        if match == match[::-1] and len(match) > leen:\n",
    "            leen = len(match)\n",
    "            longest = match\n",
    "longest"
   ]
  },
  {
   "cell_type": "code",
   "execution_count": 103,
   "id": "a7f7ee97-ce5d-41a4-bd5a-c10415d5c852",
   "metadata": {},
   "outputs": [
    {
     "name": "stdout",
     "output_type": "stream",
     "text": [
      "abc\n"
     ]
    }
   ],
   "source": [
    "def sub_st(word):\n",
    "    charSet = set ()\n",
    "    l = 0\n",
    "    res = 0\n",
    "    sub_str = ''\n",
    "    for r in range(len(word)):\n",
    "        while word[r] in charSet:\n",
    "            charSet.remove(word[l])\n",
    "            l+=1\n",
    "        charSet.add(word[r])\n",
    "        if (r-l+1)>res:\n",
    "            res = max(res,r-l+1)\n",
    "            sub_str = word[l:r+1]\n",
    "    return sub_str\n",
    "            \n",
    "    print(charSet)\n",
    "print(sub_st(\"abcabcbbkk\"))"
   ]
  },
  {
   "cell_type": "code",
   "execution_count": 2,
   "id": "a96d5469-a0d6-4004-a09a-3c48d87cf68f",
   "metadata": {},
   "outputs": [
    {
     "name": "stdout",
     "output_type": "stream",
     "text": [
      "[[1, 3]]\n",
      "[[1, 4], [5, 8]]\n"
     ]
    }
   ],
   "source": [
    "def merge_intervals(intervals):\n",
    "    intervals.sort(key = lambda x:x[0])\n",
    "    merged = [intervals[0]]\n",
    "    print(merged)\n",
    "    for start,end in intervals[1:]:\n",
    "        last_end = merged[-1][1]\n",
    "        if start <= last_end:\n",
    "            merged[-1][1] = end\n",
    "        else:\n",
    "            merged.append([start,end])\n",
    "    return merged\n",
    "\n",
    "\n",
    "intervals = [[1,3], [2,4], [5,7], [6,8]]\n",
    "print(merge_intervals(intervals))"
   ]
  },
  {
   "cell_type": "code",
   "execution_count": 10,
   "id": "6bd07336-6b7e-4b9b-86cf-e6e0dc8661f0",
   "metadata": {},
   "outputs": [
    {
     "name": "stdout",
     "output_type": "stream",
     "text": [
      "geekskeeg\n"
     ]
    }
   ],
   "source": [
    "def longest_palindrom(s):\n",
    "    def expand_middle(left,right):\n",
    "        while left >= 0 and right < len(s) and s[left] == s[right]:\n",
    "            left-=1\n",
    "            right+=1\n",
    "        return s[left+1:right]\n",
    "    longest = ''\n",
    "    for i in range(len(s)):\n",
    "        even = expand_middle(i,i+1)\n",
    "        odd = expand_middle(i,i)\n",
    "        if len(even) > len(longest):\n",
    "            longest = even\n",
    "        elif len(odd) > len(longest):\n",
    "            longest = odd\n",
    "    return longest\n",
    "\n",
    "\n",
    "print(longest_palindrom(\"forgeekskeegfor\"))"
   ]
  },
  {
   "cell_type": "code",
   "execution_count": 13,
   "id": "37167819-5c2d-4eb3-ba46-15fae61ee540",
   "metadata": {},
   "outputs": [
    {
     "name": "stdout",
     "output_type": "stream",
     "text": [
      "5\n"
     ]
    }
   ],
   "source": [
    "nums=[9,2,3,4,2,4,5,5,5,6,7,8,8]\n",
    "common = None\n",
    "count = 0\n",
    "for i in nums:\n",
    "    val = nums.count(i)\n",
    "    if val > count:\n",
    "        count = val\n",
    "        common = i\n",
    "print(common)"
   ]
  },
  {
   "cell_type": "code",
   "execution_count": 16,
   "id": "9f66b362-38ae-41cf-989e-27f2cb14365f",
   "metadata": {},
   "outputs": [
    {
     "name": "stdout",
     "output_type": "stream",
     "text": [
      "[1, 2, 3, 4, 5, 6, 7, 8, 9, 10, 11, 12, 13, 14, 15]\n"
     ]
    }
   ],
   "source": [
    "def flatten(lst):\n",
    "    flat = []\n",
    "    for i in lst:\n",
    "        if isinstance(i,list):\n",
    "            flat.extend(flatten(i))\n",
    "        elif i is not None:\n",
    "            flat.append(i)\n",
    "    return flat\n",
    "print(flatten([[1, 2, 3], [4, 5, 6], [7, 8, [9, 10, 11], 12], [13, 14, 15]]))"
   ]
  },
  {
   "cell_type": "code",
   "execution_count": 24,
   "id": "c43a00d8-1677-4a84-9caa-a441356692cd",
   "metadata": {},
   "outputs": [
    {
     "name": "stdout",
     "output_type": "stream",
     "text": [
      "True\n"
     ]
    }
   ],
   "source": [
    "def valid_partheses(s):\n",
    "    stack = []\n",
    "    mapping = {\")\":\"(\",\"}\":\"{\",\"]\":\"[\"}\n",
    "    for char in s:\n",
    "        if char in mapping:\n",
    "            top_element = stack.pop() if stack else \"#\"\n",
    "            if mapping[char]!= top_element:\n",
    "                return False\n",
    "        else:\n",
    "            stack.append(char)\n",
    "    return not stack\n",
    "\n",
    "\n",
    "\n",
    "print(valid_partheses(\"([])\"))"
   ]
  },
  {
   "cell_type": "code",
   "execution_count": 31,
   "id": "6077929e-0fb4-437b-8f2f-f309e08206b3",
   "metadata": {},
   "outputs": [
    {
     "name": "stdout",
     "output_type": "stream",
     "text": [
      "flo\n"
     ]
    }
   ],
   "source": [
    "x = [\"flower\",\"flow\",\"floask\"]\n",
    "prefix = x[0]\n",
    "for i in x[1:]:\n",
    "    while not i.startswith(prefix):\n",
    "        prefix = prefix[:-1]\n",
    "        if not prefix:\n",
    "            break\n",
    "print(prefix)"
   ]
  },
  {
   "cell_type": "code",
   "execution_count": 33,
   "id": "db6c60a1-aa47-4bdc-bedf-0b33dc505a41",
   "metadata": {},
   "outputs": [
    {
     "ename": "RuntimeError",
     "evalue": "asyncio.run() cannot be called from a running event loop",
     "output_type": "error",
     "traceback": [
      "\u001b[31m---------------------------------------------------------------------------\u001b[39m",
      "\u001b[31mRuntimeError\u001b[39m                              Traceback (most recent call last)",
      "\u001b[36mCell\u001b[39m\u001b[36m \u001b[39m\u001b[32mIn[33]\u001b[39m\u001b[32m, line 13\u001b[39m\n\u001b[32m     11\u001b[39m \u001b[38;5;28;01masync\u001b[39;00m \u001b[38;5;28;01mdef\u001b[39;00m\u001b[38;5;250m \u001b[39m\u001b[34mmain\u001b[39m():\n\u001b[32m     12\u001b[39m     \u001b[38;5;28;01mawait\u001b[39;00m asyncio.gather(task1(),task2())\n\u001b[32m---> \u001b[39m\u001b[32m13\u001b[39m \u001b[43masyncio\u001b[49m\u001b[43m.\u001b[49m\u001b[43mrun\u001b[49m\u001b[43m(\u001b[49m\u001b[43mmain\u001b[49m\u001b[43m(\u001b[49m\u001b[43m)\u001b[49m\u001b[43m)\u001b[49m\n",
      "\u001b[36mFile \u001b[39m\u001b[32mC:\\Program Files\\Python313\\Lib\\asyncio\\runners.py:191\u001b[39m, in \u001b[36mrun\u001b[39m\u001b[34m(main, debug, loop_factory)\u001b[39m\n\u001b[32m    161\u001b[39m \u001b[38;5;250m\u001b[39m\u001b[33;03m\"\"\"Execute the coroutine and return the result.\u001b[39;00m\n\u001b[32m    162\u001b[39m \n\u001b[32m    163\u001b[39m \u001b[33;03mThis function runs the passed coroutine, taking care of\u001b[39;00m\n\u001b[32m   (...)\u001b[39m\u001b[32m    187\u001b[39m \u001b[33;03m    asyncio.run(main())\u001b[39;00m\n\u001b[32m    188\u001b[39m \u001b[33;03m\"\"\"\u001b[39;00m\n\u001b[32m    189\u001b[39m \u001b[38;5;28;01mif\u001b[39;00m events._get_running_loop() \u001b[38;5;129;01mis\u001b[39;00m \u001b[38;5;129;01mnot\u001b[39;00m \u001b[38;5;28;01mNone\u001b[39;00m:\n\u001b[32m    190\u001b[39m     \u001b[38;5;66;03m# fail fast with short traceback\u001b[39;00m\n\u001b[32m--> \u001b[39m\u001b[32m191\u001b[39m     \u001b[38;5;28;01mraise\u001b[39;00m \u001b[38;5;167;01mRuntimeError\u001b[39;00m(\n\u001b[32m    192\u001b[39m         \u001b[33m\"\u001b[39m\u001b[33masyncio.run() cannot be called from a running event loop\u001b[39m\u001b[33m\"\u001b[39m)\n\u001b[32m    194\u001b[39m \u001b[38;5;28;01mwith\u001b[39;00m Runner(debug=debug, loop_factory=loop_factory) \u001b[38;5;28;01mas\u001b[39;00m runner:\n\u001b[32m    195\u001b[39m     \u001b[38;5;28;01mreturn\u001b[39;00m runner.run(main)\n",
      "\u001b[31mRuntimeError\u001b[39m: asyncio.run() cannot be called from a running event loop"
     ]
    }
   ],
   "source": [
    "import asyncio\n",
    "async def task1():\n",
    "    print(\"Task 1 started\")\n",
    "    await asyncio.sleep(2)\n",
    "    print(\"Task 1 is completed\")\n",
    "async def task2():\n",
    "    print(\"Task 2 is started\")\n",
    "    await asyncio.sleep(2)\n",
    "    print(\"Task 2 is completed\")\n",
    "\n",
    "async def main():\n",
    "    await asyncio.gather(task1(),task2())\n",
    "asyncio.run(main())\n",
    "\n",
    "# it was execution on python online compiler"
   ]
  },
  {
   "cell_type": "code",
   "execution_count": 2,
   "id": "3fc50839-0d3a-4e28-bb90-05e655ca4d61",
   "metadata": {},
   "outputs": [
    {
     "name": "stdout",
     "output_type": "stream",
     "text": [
      "{'name': 'laxmi', 'age': 45}\n"
     ]
    }
   ],
   "source": [
    "x = [{\"name\":\"Narsimha\",\"age\":24},{\"name\":\"sai-shiva\",\"age\":\"27\"},{\"name\":\"laxmi\",\"age\":45}]\n",
    "max_age = max(x, key = lambda a : int(a[\"age\"]))\n",
    "print(max_age)"
   ]
  },
  {
   "cell_type": "code",
   "execution_count": 3,
   "id": "327a05f3-d97e-4687-98ad-4009303fc36a",
   "metadata": {},
   "outputs": [
    {
     "name": "stdout",
     "output_type": "stream",
     "text": [
      "('David', 35)\n"
     ]
    }
   ],
   "source": [
    "data = {\n",
    "    \"Alice\": 25,\n",
    "    \"Bob\": 30,\n",
    "    \"Charlie\": 22,\n",
    "    \"David\": 35\n",
    "}\n",
    "max_age = max(data.items(), key = lambda x:x[1])\n",
    "print(max_age)"
   ]
  },
  {
   "cell_type": "code",
   "execution_count": 5,
   "id": "16dd4952-3ac7-4188-960b-f17cd150433b",
   "metadata": {},
   "outputs": [
    {
     "name": "stdout",
     "output_type": "stream",
     "text": [
      "['A', 'B', 'BA', 'C', 'CA', 'CB', 'CBA']\n"
     ]
    }
   ],
   "source": [
    "def subset(s):\n",
    "    sub = [\"\"]\n",
    "    for i in s:\n",
    "        new = [i+item for item in sub]\n",
    "        sub.extend(new)\n",
    "    return sub[1:]\n",
    "\n",
    "print(subset(\"ABC\"))"
   ]
  },
  {
   "cell_type": "code",
   "execution_count": 6,
   "id": "68847202-df23-45e9-929e-5eae9f8d93ef",
   "metadata": {},
   "outputs": [
    {
     "name": "stdout",
     "output_type": "stream",
     "text": [
      "['A', 'AB', 'ABC', 'AC', 'ACB', 'B', 'BA', 'BAC', 'BC', 'BCA', 'C', 'CA', 'CAB', 'CB', 'CBA']\n"
     ]
    }
   ],
   "source": [
    "def unique_partial_permutations_number(n):\n",
    "    s = str(n)\n",
    "    result = set()\n",
    "\n",
    "    def backtrack(path, remaining):\n",
    "        if path:\n",
    "            result.add(''.join(path))\n",
    "        for i in range(len(remaining)):\n",
    "            backtrack(path + [remaining[i]], remaining[:i] + remaining[i+1:])\n",
    "\n",
    "    backtrack([], list(s))\n",
    "    return sorted(result)\n",
    "\n",
    "# Example usage\n",
    "print(unique_partial_permutations_number(\"ABC\"))\n"
   ]
  },
  {
   "cell_type": "code",
   "execution_count": 9,
   "id": "3c42c6e9-82c5-4ac0-9aa6-d4de0006afca",
   "metadata": {},
   "outputs": [],
   "source": [
    "# https://chatgpt.com/c/68959565-75b8-8324-bf38-7b1bf32ba966\n",
    "# permutation explaination"
   ]
  },
  {
   "cell_type": "code",
   "execution_count": 21,
   "id": "ace9b967-d2d0-4662-a03a-308d6a75b91e",
   "metadata": {},
   "outputs": [
    {
     "name": "stdout",
     "output_type": "stream",
     "text": [
      "['0', '01', '012', '0122', '02', '021', '0212', '022', '0221', '1', '10', '102', '1022', '12', '120', '1202', '122', '1220', '2', '20', '201', '2012', '202', '2021', '21', '210', '2102', '212', '2120', '22', '220', '2201', '221', '2210']\n"
     ]
    }
   ],
   "source": [
    "def partial_permutations(n):\n",
    "    s = str(n)\n",
    "    result = set()\n",
    "    def backtrack(path,remaning):\n",
    "        if path:\n",
    "            result.add(\"\".join(path))\n",
    "        for i in range(len(remaning)):\n",
    "            backtrack(path+[remaning[i]],remaning[:i]+remaning[i+1:])\n",
    "            # here we using the recursion call we taking [remaining[i]] as a list when we add two list it wont throw an error.\n",
    "\n",
    "    backtrack([],list(s))\n",
    "    return sorted(result)\n",
    "print(partial_permutations(1220))"
   ]
  },
  {
   "cell_type": "code",
   "execution_count": 26,
   "id": "8fe8c0ab-9955-4158-a6a1-cef60cdc6ba3",
   "metadata": {},
   "outputs": [
    {
     "name": "stdout",
     "output_type": "stream",
     "text": [
      "chellaboina\n"
     ]
    }
   ],
   "source": [
    "def longest_word_string(s):\n",
    "    longest = \"\"\n",
    "    maxy = 0\n",
    "    word = s.split()\n",
    "    for i in word:\n",
    "        ss = len(i)\n",
    "        if ss>maxy:\n",
    "            maxy = ss\n",
    "            longest = i\n",
    "    return longest\n",
    "print(longest_word_string(\"Narsimha chellaboina goud\"))  \n",
    "\n",
    "def longest_word_string(s):\n",
    "    word = s.split()\n",
    "    return max(word,key=len)\n",
    "    \n",
    "print(longest_word_string(\"Narsimha chellaboina goud\")) \n"
   ]
  },
  {
   "cell_type": "code",
   "execution_count": 27,
   "id": "8324fa33-e823-429d-a740-318718570bd5",
   "metadata": {},
   "outputs": [
    {
     "name": "stdout",
     "output_type": "stream",
     "text": [
      "3\n"
     ]
    }
   ],
   "source": [
    "def vowels_in_str(name):\n",
    "    vowels = \"aeiou\"\n",
    "    word = name.lower()\n",
    "    count = 0\n",
    "    for i in name:\n",
    "        if i in vowels:\n",
    "            count+=1\n",
    "    return count\n",
    "\n",
    "print(vowels_in_str(\"Narsimha\"))"
   ]
  },
  {
   "cell_type": "code",
   "execution_count": 31,
   "id": "ae0e3642-b9f6-4e02-a989-98e13291e82e",
   "metadata": {},
   "outputs": [
    {
     "name": "stdout",
     "output_type": "stream",
     "text": [
      "['N', 'r', 's', 'i', 'm', 'h']\n"
     ]
    }
   ],
   "source": [
    "def first_unique_char(name):\n",
    "    unique = {}\n",
    "    res = []\n",
    "    for i in name:\n",
    "        unique[i] = unique.get(i,0)+1\n",
    "        # if i not in unique:\n",
    "        #     unique[i]=1\n",
    "        # else:\n",
    "        #     unique[i]+=1\n",
    "    for i in name:\n",
    "        if unique[i] == 1:\n",
    "            res.append(i)\n",
    "    return res\n",
    "\n",
    "print(first_unique_char(\"Narsimha\"))"
   ]
  },
  {
   "cell_type": "code",
   "execution_count": 37,
   "id": "261de357-a187-473b-ad53-e51708709a62",
   "metadata": {},
   "outputs": [
    {
     "name": "stdout",
     "output_type": "stream",
     "text": [
      "True\n"
     ]
    }
   ],
   "source": [
    "def anagrams(l1,l2):\n",
    "    if len(l1)!=len(l2):\n",
    "        return False\n",
    "    count1,count2 = {},{}\n",
    "    for i in l1:\n",
    "        count1[i] = count1.get(i,0)+1\n",
    "    for j in l2:\n",
    "        count2[j] = count2.get(j,0)+1\n",
    "    return count1 == count2\n",
    "    \n",
    "print(anagrams(\"listen\", \"silent\"))"
   ]
  },
  {
   "cell_type": "code",
   "execution_count": 40,
   "id": "2af558c3-9c71-4d53-9408-a1911e6bc2bb",
   "metadata": {},
   "outputs": [
    {
     "name": "stdout",
     "output_type": "stream",
     "text": [
      "a\n",
      "None\n"
     ]
    }
   ],
   "source": [
    "def remove_duplicates(name):\n",
    "    dup=\"\"\n",
    "    unique = \"\"\n",
    "    for i in name:\n",
    "        if i not in unique:\n",
    "            unique+=i\n",
    "        elif name.count(i)>1 and i not in dup:\n",
    "            dup+=i\n",
    "    return (dup,)\n",
    "print(remove_duplicates(\"Narsimha\"))"
   ]
  },
  {
   "cell_type": "code",
   "execution_count": 50,
   "id": "3d613f72-cd1d-43dd-bac2-c50ee52e8f23",
   "metadata": {},
   "outputs": [
    {
     "name": "stdout",
     "output_type": "stream",
     "text": [
      "Chellaboina Narsimha \n"
     ]
    }
   ],
   "source": [
    "def rev_str(s):\n",
    "    rev = \"\"\n",
    "    new = s.split()\n",
    "    for i in new:\n",
    "        rev = i+\" \"+rev\n",
    "    return \"\".join(rev)\n",
    "print(rev_str(\"Narsimha Chellaboina\"))"
   ]
  },
  {
   "cell_type": "code",
   "execution_count": 52,
   "id": "fc6238e8-44fe-4e0a-9e67-5db8c40f4c2c",
   "metadata": {},
   "outputs": [
    {
     "data": {
      "text/plain": [
       "[2, 3, 8]"
      ]
     },
     "execution_count": 52,
     "metadata": {},
     "output_type": "execute_result"
    }
   ],
   "source": [
    "x = [2, 3, 4, 7, 8]\n",
    "y = [5, 9, 2, 8, 3]\n",
    "z = [2, 8, 10, 3]\n",
    "common = [i for i in x if i in y and i in z]\n",
    "common"
   ]
  },
  {
   "cell_type": "code",
   "execution_count": 54,
   "id": "1142b669-4a0f-4697-bfcf-ab9a56698004",
   "metadata": {},
   "outputs": [
    {
     "data": {
      "text/plain": [
       "[4, 7, 5, 9]"
      ]
     },
     "execution_count": 54,
     "metadata": {},
     "output_type": "execute_result"
    }
   ],
   "source": [
    "x = [2, 3, 4, 7, 8]\n",
    "y = [5, 9, 2, 8, 3]\n",
    "unique = [i for i in x if i not in y]+[j for j in y if  j not in x]\n",
    "unique"
   ]
  },
  {
   "cell_type": "code",
   "execution_count": 58,
   "id": "4a8a0581-e7a0-4f6a-a128-bc4e79ae5671",
   "metadata": {},
   "outputs": [
    {
     "name": "stdout",
     "output_type": "stream",
     "text": [
      "YES\n"
     ]
    }
   ],
   "source": [
    "# disjoint\n",
    "x = [0, 9, 2, 8, 3]\n",
    "y = [5, 6, 7, 1, 4]\n",
    "dis = True\n",
    "for i in x:\n",
    "    if i in y:\n",
    "        dis = False\n",
    "        break\n",
    "if dis:\n",
    "    print(\"YES\")\n",
    "else:\n",
    "    print(\"NO\")"
   ]
  },
  {
   "cell_type": "code",
   "execution_count": 70,
   "id": "ebb69e8e-551a-476f-88b3-25fb39d502c2",
   "metadata": {},
   "outputs": [
    {
     "data": {
      "text/plain": [
       "'r t a e v j i a'"
      ]
     },
     "execution_count": 70,
     "metadata": {},
     "output_type": "execute_result"
    }
   ],
   "source": [
    "a = \"ravi\"\n",
    "b = \"teja\"\n",
    "lst = []\n",
    "max_len = max(len(a),len(b))\n",
    "for i in range(max_len):\n",
    "    if i<len(a):\n",
    "        lst.append(a[i])\n",
    "    if i<len(b):\n",
    "        lst.append(b[i])\n",
    "res = \" \".join(lst)\n",
    "res\n"
   ]
  },
  {
   "cell_type": "code",
   "execution_count": 71,
   "id": "cf0dbd89-c4b8-4e8a-8a33-386e85b8c7c5",
   "metadata": {},
   "outputs": [],
   "source": [
    "with open(\"sample.txt\", \"w\") as file:\n",
    "    file.write(\"software engineer @google\")\n",
    "    file.close"
   ]
  },
  {
   "cell_type": "code",
   "execution_count": 72,
   "id": "e703e75b-5b26-4d6e-91e4-30d2d6eaf504",
   "metadata": {},
   "outputs": [
    {
     "name": "stdout",
     "output_type": "stream",
     "text": [
      "software engineer @google\n"
     ]
    }
   ],
   "source": [
    "with open(\"sample.txt\",\"r\") as file:\n",
    "    context = file.read()\n",
    "    print(context)\n",
    "    file.close()"
   ]
  },
  {
   "cell_type": "code",
   "execution_count": 73,
   "id": "aea881af-e542-4123-9cc8-742b05e3ae3f",
   "metadata": {},
   "outputs": [
    {
     "name": "stdout",
     "output_type": "stream",
     "text": [
      "['my', 'name', 'is', 'Narsimha']\n"
     ]
    }
   ],
   "source": [
    "x=['m','na','i','Nar']\n",
    "y=['y','me','s','simha']\n",
    "combined = [i+j for i,j in zip(x,y)]\n",
    "print(combined)"
   ]
  },
  {
   "cell_type": "markdown",
   "id": "ecc218c2-18f6-4647-934a-70bfdac8fcac",
   "metadata": {},
   "source": [
    "# OOPS"
   ]
  },
  {
   "cell_type": "code",
   "execution_count": 10,
   "id": "dc187040-536a-47b2-9651-82d0b5056b97",
   "metadata": {},
   "outputs": [
    {
     "name": "stdout",
     "output_type": "stream",
     "text": [
      "The car name is X001 and car brand is Audi\n",
      "None\n"
     ]
    }
   ],
   "source": [
    "class Car:\n",
    "    def __init__(self,name,brand):\n",
    "        self.name= name\n",
    "        self.brand = brand\n",
    "    def show(self):\n",
    "        print(f\"The car name is {self.name} and car brand is {self.brand}\")\n",
    "\n",
    "c1 = Car(\"X001\",\"Audi\")\n",
    "print(c1.show())"
   ]
  },
  {
   "cell_type": "markdown",
   "id": "b511e1ba-812c-4c88-a379-d5e89f0c9b25",
   "metadata": {},
   "source": [
    "# Inheritance"
   ]
  },
  {
   "cell_type": "code",
   "execution_count": 12,
   "id": "bab72d57-76a7-4921-b638-c7dfa1cccc36",
   "metadata": {},
   "outputs": [
    {
     "name": "stdout",
     "output_type": "stream",
     "text": [
      "Bow Bow\n",
      "Parent calss\n"
     ]
    }
   ],
   "source": [
    "# single Inheritance = A subclass inheritates from parent class\n",
    "class Animal:\n",
    "    def eats(self):\n",
    "        print(\"Parent calss\")\n",
    "class Dog(Animal):\n",
    "    def bark(self):\n",
    "        print(\"Bow Bow\")\n",
    "dog_object = Dog()\n",
    "dog_object.bark()\n",
    "dog_object.eats()"
   ]
  },
  {
   "cell_type": "code",
   "execution_count": 15,
   "id": "64d2c695-49fb-48d8-9aa9-34d735c06805",
   "metadata": {},
   "outputs": [
    {
     "name": "stdout",
     "output_type": "stream",
     "text": [
      "This animal can fly\n",
      "This animal can walk\n",
      "This animal can swim\n",
      "I am full stack\n"
     ]
    }
   ],
   "source": [
    "# multiple Inheritance = A subclass is derived from more than 2 parent calsses\n",
    "class Fly:\n",
    "    def flying(self):\n",
    "        print(\"This animal can fly\")\n",
    "class Walk:\n",
    "    def walking(self):\n",
    "        print(\"This animal can walk\")\n",
    "class Swim:\n",
    "    def swimming(self):\n",
    "        print(\"This animal can swim\")\n",
    "class Duck(Fly,Walk,Swim):\n",
    "    def all(self):\n",
    "        print(\"I am full stack\")\n",
    "d = Duck()\n",
    "d.flying()\n",
    "d.walking()\n",
    "d.swimming()\n",
    "d.all()"
   ]
  },
  {
   "cell_type": "code",
   "execution_count": 16,
   "id": "0c1d8d55-7bde-4807-99e1-b4bf2e9b6fa8",
   "metadata": {},
   "outputs": [
    {
     "name": "stdout",
     "output_type": "stream",
     "text": [
      "It can make a good sound\n",
      "A Bird can fly\n",
      "A animal can eat\n"
     ]
    }
   ],
   "source": [
    "# multilevel Inheritance = A chain of inheritance where a class is dervied from a class that is also derived from another class\n",
    "class Animal:\n",
    "    def eats(self):\n",
    "        print(\"A animal can eat\")\n",
    "class Bird(Animal):\n",
    "    def fly(self):\n",
    "        print(\"A Bird can fly\")\n",
    "class Sparrow(Bird):\n",
    "    def sound(self):\n",
    "        print(\"It can make a good sound\")\n",
    "spa = Sparrow()\n",
    "spa.sound()\n",
    "spa.fly()\n",
    "spa.eats()"
   ]
  },
  {
   "cell_type": "code",
   "execution_count": 17,
   "id": "5eda79f1-fbe1-41c3-9765-f5cbcbb3c125",
   "metadata": {},
   "outputs": [
    {
     "name": "stdout",
     "output_type": "stream",
     "text": [
      "meow\n",
      "etas a food\n",
      "It barks\n",
      "etas a food\n"
     ]
    }
   ],
   "source": [
    "# hiraricale inheritance = Multiple subclasses are inheritates from single parent calss\n",
    "class Animal:\n",
    "    def eats(self):\n",
    "        print(\"etas a food\")\n",
    "class Dog(Animal):\n",
    "    def sound(self):\n",
    "        print(\"It barks\")\n",
    "class Cat(Animal):\n",
    "    def sound(self):\n",
    "        print(\"meow\")\n",
    "cat = Cat()\n",
    "cat.sound()\n",
    "cat.eats()\n",
    "dog = Dog()\n",
    "dog.sound()\n",
    "dog.eats()"
   ]
  },
  {
   "cell_type": "code",
   "execution_count": 18,
   "id": "9d9253d2-7989-4602-9471-ad02f614a762",
   "metadata": {},
   "outputs": [
    {
     "name": "stdout",
     "output_type": "stream",
     "text": [
      "Which can do the multi-tasking\n",
      "The animal which can swims in water\n",
      "eats a food\n",
      "flys high sky\n"
     ]
    }
   ],
   "source": [
    "# Hybrid Inheritance = It a combination of two or more inheritances (multiple, multilevel)\n",
    "class Animal:\n",
    "    def eats(self):\n",
    "        print(\"eats a food\")\n",
    "class Bird(Animal):\n",
    "    def fly(self):\n",
    "        print(\"flys high sky\")\n",
    "class Swim(Animal):\n",
    "    def swims(self):\n",
    "        print(\"The animal which can swims in water\")\n",
    "class Duck(Bird,Swim):\n",
    "    def both(self):\n",
    "        print(\"Which can do the multi-tasking\")\n",
    "D = Duck()\n",
    "D.both()\n",
    "D.swims()\n",
    "D.eats()\n",
    "D.fly()"
   ]
  },
  {
   "cell_type": "markdown",
   "id": "68bb3808-042e-4f95-b2e3-267a428cf012",
   "metadata": {},
   "source": [
    "# polymorphisum"
   ]
  },
  {
   "cell_type": "code",
   "execution_count": 19,
   "id": "b32eab0f-62cf-4564-b5bf-3a27b7c25600",
   "metadata": {},
   "outputs": [
    {
     "name": "stdout",
     "output_type": "stream",
     "text": [
      "Bow\n"
     ]
    }
   ],
   "source": [
    "# polymorphisum = Is a ability objec can take multiple forms\n",
    "# we can implement the polymorpisum into 2 types one is method overridng and method overloading\n",
    "# mthod overriding = We are defining a method with same name and same aruguments with diffrent functionality the same name and attributes as Parent calss\n",
    "# method overloading = writing the same name and diffrent aruguments\n",
    "\n",
    "class Animal:\n",
    "    def sound(self):\n",
    "        print(\"Diffrent types of sound\")\n",
    "class Dog(Animal):\n",
    "    def sound(self):\n",
    "        print(\"Bow\")\n",
    "d = Dog()\n",
    "d.sound()"
   ]
  },
  {
   "cell_type": "code",
   "execution_count": 25,
   "id": "42f588a6-8d5e-4dbb-85e3-1e288989a729",
   "metadata": {},
   "outputs": [
    {
     "data": {
      "text/plain": [
       "60"
      ]
     },
     "execution_count": 25,
     "metadata": {},
     "output_type": "execute_result"
    }
   ],
   "source": [
    "# Mthod overloading\n",
    "class Math:\n",
    "    def total(self,a=0,b=0,c=0):\n",
    "        return a+b+c\n",
    "math = Math()\n",
    "math.total(10,20)\n",
    "\n",
    "# method overloading with *args\n",
    "class Math:\n",
    "    def total(self,*args):\n",
    "        return sum(args)\n",
    "math = Math()\n",
    "math.total(10,20,30)"
   ]
  },
  {
   "cell_type": "code",
   "execution_count": 7,
   "id": "6888bccb-9085-4570-b5a4-68b931603b0a",
   "metadata": {},
   "outputs": [
    {
     "name": "stdout",
     "output_type": "stream",
     "text": [
      "narsimha\n",
      "Software\n",
      "Engineer\n"
     ]
    }
   ],
   "source": [
    "# Access modifiers\n",
    "# public = var (Which is access inside and outside of class)\n",
    "# protected = _var ( Access inside the calss and subclass)\n",
    "# protected = __var (Access only inside the class -- name manaling is appilied)\n",
    "\n",
    "# public\n",
    "class Public:\n",
    "    def __init__(self,name):\n",
    "        self.name = name\n",
    "pub_obj = Public(\"narsimha\")\n",
    "print(pub_obj.name)\n",
    "\n",
    "# Protected\n",
    "class Protected:\n",
    "    def __init__(self):\n",
    "        self._name = \"Software\"\n",
    "pro_obj = Protected()\n",
    "print(pro_obj._name)\n",
    "\n",
    "# Private\n",
    "class Private:\n",
    "    def __init__(self):\n",
    "        self.__name = \"Engineer\"\n",
    "priva_obj = Private()\n",
    "print(priva_obj._Private__name)\n",
    "\n",
    "\n",
    "\n"
   ]
  },
  {
   "cell_type": "code",
   "execution_count": 11,
   "id": "dc6c5cc2-0bc1-4a45-865b-ee4e3eeec023",
   "metadata": {},
   "outputs": [
    {
     "name": "stdout",
     "output_type": "stream",
     "text": [
      "The amount 1001 is deposited sucessfully , your current balance is 1001\n"
     ]
    },
    {
     "data": {
      "text/plain": [
       "1001"
      ]
     },
     "execution_count": 11,
     "metadata": {},
     "output_type": "execute_result"
    }
   ],
   "source": [
    "# encpasulation\n",
    "# It is used to protect the sentisitive information from the outsiders\n",
    "class Bank:\n",
    "    def __init__(self,accountNumber, balance=0):\n",
    "        self.__balance = balance\n",
    "        self.__accountNumber = accountNumber\n",
    "    def deposit(self,amount):\n",
    "        if amount >0:\n",
    "            self.__balance += amount\n",
    "            print(f\"The amount {amount} is deposited sucessfully , your current balance is {self.__balance}\")\n",
    "        else:\n",
    "            print(f\"the amount {amount} is failed to deposit to connect with your nearest branch\")\n",
    "    def withdraw(self,amount):\n",
    "        if amount > 0 and amount <= self.__balance:\n",
    "            print(f\"The amount {amount} is deducted and your current balance is {self.__balance}\")\n",
    "        else:\n",
    "            print(f\"The amount {amount} is failed to withdraw\")\n",
    "    def get_balance(self):\n",
    "        return (self.__balance)\n",
    "B = Bank(\"1234567\")\n",
    "B.deposit(1001)\n",
    "B.get_balance()"
   ]
  },
  {
   "cell_type": "code",
   "execution_count": 19,
   "id": "bf8a1cb2-055b-4ec2-8c11-898419abde82",
   "metadata": {},
   "outputs": [
    {
     "name": "stdout",
     "output_type": "stream",
     "text": [
      "car started\n",
      "Bike started\n",
      "Bike stops\n"
     ]
    }
   ],
   "source": [
    "# Data abstraction = show the esstential features and hide the unnecssary data and prgram functionality from the user\n",
    "from abc import ABC, abstractmethod\n",
    "class Vechile(ABC):\n",
    "    @abstractmethod\n",
    "    def start(self):\n",
    "        pass\n",
    "    @abstractmethod\n",
    "    def stop(self):\n",
    "        pass\n",
    "class Car(Vechile):\n",
    "    def start(self):\n",
    "        print(\"car started\")\n",
    "    def stop(self):\n",
    "        print(\"Car stops\")\n",
    "class Bike(Vechile):\n",
    "    def start(self):\n",
    "        print(\"Bike started\")\n",
    "    def stop(self):\n",
    "        print(\"Bike stops\")\n",
    "c = Car()\n",
    "c.start()\n",
    "b = Bike()\n",
    "b.start()\n",
    "b.stop()\n"
   ]
  },
  {
   "cell_type": "markdown",
   "id": "dbf9c99c-0aac-482d-862c-ef100b76afed",
   "metadata": {},
   "source": [
    "# class one class into a nother class"
   ]
  },
  {
   "cell_type": "code",
   "execution_count": 22,
   "id": "e5d125ad-d107-42d7-aad1-16d24c57f62b",
   "metadata": {},
   "outputs": [
    {
     "name": "stdout",
     "output_type": "stream",
     "text": [
      "Your age is 25\n"
     ]
    }
   ],
   "source": [
    "class Narsimha:\n",
    "    def __init__(self,age):\n",
    "        self.age = age\n",
    "    def show(self):\n",
    "        print(f\"Your age is {self.age}\")\n",
    "class User:\n",
    "    def __init__(self,age):\n",
    "        self.class_Narsimha = Narsimha(age)\n",
    "    def display(self):\n",
    "        return self.class_Narsimha.show()\n",
    "u = User(25)\n",
    "u.display()"
   ]
  },
  {
   "cell_type": "code",
   "execution_count": null,
   "id": "281a1603-6a1b-496c-bc36-63bca443ab49",
   "metadata": {},
   "outputs": [],
   "source": []
  },
  {
   "cell_type": "markdown",
   "id": "ddb20b66-e87f-49c6-b8c9-9071d2cedf77",
   "metadata": {},
   "source": [
    "# static method"
   ]
  },
  {
   "cell_type": "code",
   "execution_count": null,
   "id": "58a77c79-a1f8-4fec-a679-734551c9d6fc",
   "metadata": {},
   "outputs": [],
   "source": [
    "# static method = it is independent method inside a class which is not depend on instances and class attributes"
   ]
  },
  {
   "cell_type": "code",
   "execution_count": 24,
   "id": "e9fd2efc-4c15-4e9e-bbdd-768072d1ec70",
   "metadata": {},
   "outputs": [
    {
     "data": {
      "text/plain": [
       "1000.0"
      ]
     },
     "execution_count": 24,
     "metadata": {},
     "output_type": "execute_result"
    }
   ],
   "source": [
    "class RateOfIntrest:\n",
    "    @staticmethod\n",
    "    def calculation(principal,rate,time):\n",
    "        return (principal*rate*time)/100\n",
    "Intrest = RateOfIntrest()\n",
    "Intrest.calculation(10000,2,5)"
   ]
  },
  {
   "cell_type": "markdown",
   "id": "61930310-1e22-47c9-922f-55ddbe350fe9",
   "metadata": {},
   "source": [
    "# class method "
   ]
  },
  {
   "cell_type": "code",
   "execution_count": null,
   "id": "f34acc99-b744-4102-812a-fe8b0bb9cff1",
   "metadata": {},
   "outputs": [],
   "source": [
    "# class method = A class method is bound to the class rather the instances which is able to access the class level attrubutes bit \n",
    "# cant do any changes on instance level attributes\n"
   ]
  },
  {
   "cell_type": "code",
   "execution_count": 26,
   "id": "99d0d491-8c5d-4991-bb66-2bb23b6dc1c5",
   "metadata": {},
   "outputs": [
    {
     "name": "stdout",
     "output_type": "stream",
     "text": [
      "20\n"
     ]
    }
   ],
   "source": [
    "class Store:\n",
    "    discount = 10\n",
    "    @classmethod\n",
    "    def new_discount(cls,new_off):\n",
    "        cls.discount = new_off\n",
    "Store.new_discount(20)\n",
    "print(Store.discount)"
   ]
  },
  {
   "cell_type": "code",
   "execution_count": null,
   "id": "6e23bd1b-a439-47ac-927c-b415d251efbe",
   "metadata": {},
   "outputs": [],
   "source": []
  },
  {
   "cell_type": "markdown",
   "id": "e20313ca-f240-43b9-8025-61a6c28d031c",
   "metadata": {},
   "source": [
    "# Dependency Injection"
   ]
  },
  {
   "cell_type": "code",
   "execution_count": 29,
   "id": "0efd8d5d-3026-4a1f-bb7e-c2cb8caac464",
   "metadata": {},
   "outputs": [
    {
     "name": "stdout",
     "output_type": "stream",
     "text": [
      "Your name is Narsimha\n"
     ]
    }
   ],
   "source": [
    "class A:\n",
    "    @staticmethod\n",
    "    def show(name):\n",
    "        print(f\"Your name is {name}\")\n",
    "class B:\n",
    "    def display(self,val):\n",
    "        return A.show(val)\n",
    "b = B()\n",
    "b.display(\"Narsimha\")"
   ]
  },
  {
   "cell_type": "code",
   "execution_count": 30,
   "id": "87371093-379f-4453-bfca-86e43db54de6",
   "metadata": {},
   "outputs": [
    {
     "data": {
      "text/plain": [
       "'Your name is Narsimha'"
      ]
     },
     "execution_count": 30,
     "metadata": {},
     "output_type": "execute_result"
    }
   ],
   "source": [
    "# Dependency injection\n",
    "# one class instance we are sending into the another class as a parameter\n",
    "\n",
    "class A:\n",
    "    def __init__(self,name):\n",
    "        self.name = name\n",
    "    def show(self):\n",
    "        return f\"Your name is {self.name}\"\n",
    "\n",
    "class B:\n",
    "    def __init__(self,class_a):\n",
    "        self.class_a = class_a\n",
    "    def display(self):\n",
    "        return self.class_a.show()\n",
    "\n",
    "a = A(\"Narsimha\")\n",
    "b = B(a)\n",
    "b.display()"
   ]
  },
  {
   "cell_type": "markdown",
   "id": "6fb8c171-6738-40ce-8964-3e5c906e6492",
   "metadata": {},
   "source": [
    "# class inside a class"
   ]
  },
  {
   "cell_type": "code",
   "execution_count": 41,
   "id": "d644fa6d-9bfb-4f69-ae8e-fa665d8e6f70",
   "metadata": {},
   "outputs": [
    {
     "name": "stdout",
     "output_type": "stream",
     "text": [
      "{\"name\": \"micron\", \"code\": \"mcu\", \"location\": [[{\"location\": \"hyderabad\", \"count\": 233}], [{\"location\": \"dubai\", \"count\": \"233\"}]]}\n"
     ]
    }
   ],
   "source": [
    "import json\n",
    "class Parent:\n",
    "    def __init__(self,name,code):\n",
    "        self.name = name\n",
    "        self.code = code\n",
    "        self.locations = []\n",
    "    def set_location(self,location,count,res=None):\n",
    "        if res is None:\n",
    "            res=[]\n",
    "        location_obj = self.Location(location,count)\n",
    "        self.locations.append(location_obj.to_dict(res))\n",
    "    class Location:\n",
    "        def __init__(self,location,count):\n",
    "            self.location = location\n",
    "            self.count = count\n",
    "        def to_dict(self,res):\n",
    "            res.append( {\n",
    "                \"location\":self.location,\n",
    "                \"count\" : self.count\n",
    "            })\n",
    "            return res\n",
    "    def to_dict(self):\n",
    "        return{\n",
    "            \"name\":self.name,\n",
    "            \"code\":self.code,\n",
    "            \"location\":self.locations\n",
    "        }\n",
    "P = Parent(\"micron\",\"mcu\")\n",
    "P.set_location(location = \"hyderabad\",count=233)\n",
    "P.set_location(\"dubai\",\"233\")\n",
    "x = json.dumps(P.to_dict())\n",
    "print(x)"
   ]
  },
  {
   "cell_type": "code",
   "execution_count": null,
   "id": "6a19b9e6-0285-4caf-b391-53a8bef73ef2",
   "metadata": {},
   "outputs": [],
   "source": []
  }
 ],
 "metadata": {
  "kernelspec": {
   "display_name": "Python 3 (ipykernel)",
   "language": "python",
   "name": "python3"
  },
  "language_info": {
   "codemirror_mode": {
    "name": "ipython",
    "version": 3
   },
   "file_extension": ".py",
   "mimetype": "text/x-python",
   "name": "python",
   "nbconvert_exporter": "python",
   "pygments_lexer": "ipython3",
   "version": "3.13.5"
  }
 },
 "nbformat": 4,
 "nbformat_minor": 5
}
