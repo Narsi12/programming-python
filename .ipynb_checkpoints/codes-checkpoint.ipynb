{
 "cells": [
  {
   "cell_type": "markdown",
   "id": "fa3c5dd9-5b95-4938-90e0-03e6c719eaf8",
   "metadata": {},
   "source": [
    "# Custom Exceptions"
   ]
  },
  {
   "cell_type": "code",
   "execution_count": 4,
   "id": "69695767-3192-4ccb-bdd7-a829f37186bb",
   "metadata": {},
   "outputs": [
    {
     "name": "stdin",
     "output_type": "stream",
     "text": [
      "Please enter your age :  21\n"
     ]
    },
    {
     "name": "stdout",
     "output_type": "stream",
     "text": [
      "Eligible to vote\n"
     ]
    }
   ],
   "source": [
    "class AgeInfoException(Exception):\n",
    "    def __init__(self,message):\n",
    "        super().__init__(message)\n",
    "    pass\n",
    "age = int(input(\"Please enter your age : \"))\n",
    "try:\n",
    "    if age < 19:\n",
    "        raise AgeInfoException(\"Not elogible\")\n",
    "    else:\n",
    "        print(\"Eligible to vote\")\n",
    "except AgeInfoException as e:\n",
    "    print(e)"
   ]
  },
  {
   "cell_type": "markdown",
   "id": "24dc90ac-918e-407c-a371-4bb760e1783a",
   "metadata": {},
   "source": [
    "# Sample problems"
   ]
  },
  {
   "cell_type": "code",
   "execution_count": 9,
   "id": "e547e9f4-e89e-4aa8-8445-68e4b530ab3a",
   "metadata": {},
   "outputs": [
    {
     "name": "stdout",
     "output_type": "stream",
     "text": [
      "99\n"
     ]
    }
   ],
   "source": [
    "from functools import reduce\n",
    "def findlargest(lst):\n",
    "    # approach 1\n",
    "    # maxy = lst[0]\n",
    "    # for i in lst:\n",
    "    #     if i > maxy:\n",
    "    #         maxy = i\n",
    "    # return maxy\n",
    "    maxy = reduce(lambda x,y : x if x > y else y, [i for i in lst])\n",
    "    print(maxy)\n",
    "findlargest([10, 20, 4, 45, 99])"
   ]
  },
  {
   "cell_type": "code",
   "execution_count": 18,
   "id": "3e8c121f-6f2e-4af8-b489-f36d84df597e",
   "metadata": {},
   "outputs": [
    {
     "name": "stdout",
     "output_type": "stream",
     "text": [
      "True\n"
     ]
    }
   ],
   "source": [
    "def is_palindrome(word):\n",
    "    return word == word[::-1]\n",
    "    # copy = word\n",
    "    # if copy == word[::-1]:\n",
    "    #     return True\n",
    "    # False\n",
    "\n",
    "print(is_palindrome(\"radar\"))     \n"
   ]
  },
  {
   "cell_type": "code",
   "execution_count": 22,
   "id": "43665d2d-ab0c-48d1-a9b0-0871694252e0",
   "metadata": {},
   "outputs": [
    {
     "name": "stdout",
     "output_type": "stream",
     "text": [
      "3\n"
     ]
    }
   ],
   "source": [
    "def count_vowels(text):\n",
    "    vowels = \"aeiouAEIOU\"\n",
    "    # count = 0\n",
    "    # for i in text:\n",
    "    #     if i in vowels:\n",
    "    #         count+=1\n",
    "    # return count\n",
    "    return sum(1 for i in text if i in vowels)\n",
    "\n",
    "print(count_vowels(\"hello world\"))    # Output: 3\n"
   ]
  },
  {
   "cell_type": "code",
   "execution_count": 32,
   "id": "9bedd829-0c03-46ae-a363-65df36baf0ee",
   "metadata": {},
   "outputs": [
    {
     "name": "stdout",
     "output_type": "stream",
     "text": [
      "45\n"
     ]
    }
   ],
   "source": [
    "def second_largest(nums):\n",
    "    # return sorted(set(nums))[-2]\n",
    "    large = second = float('-inf')\n",
    "    for num in nums:\n",
    "        if num > large:\n",
    "            second = large\n",
    "            large = num\n",
    "        elif num > second and num != large:\n",
    "            second = num\n",
    "    return second\n",
    "\n",
    "print(second_largest([10, 20, 4, 45, 99,]))\n"
   ]
  },
  {
   "cell_type": "code",
   "execution_count": 34,
   "id": "cc8b3e77-a421-4412-aec9-c57235e72bcf",
   "metadata": {},
   "outputs": [
    {
     "name": "stdout",
     "output_type": "stream",
     "text": [
      "{'h': 1, 'e': 1, 'l': 3, 'o': 2, ' ': 1, 'w': 1, 'r': 1, 'd': 1}\n"
     ]
    }
   ],
   "source": [
    "def char_frequency(text):\n",
    "    c = {}\n",
    "    for i in text:\n",
    "        if i not in c.keys():\n",
    "            c[i] = 1\n",
    "        else:\n",
    "            c[i]+=1\n",
    "    return c\n",
    "\n",
    "print(char_frequency(\"hello world\"))\n"
   ]
  },
  {
   "cell_type": "code",
   "execution_count": 42,
   "id": "f4580e6a-c1a2-41ae-b0e5-8e49865e5319",
   "metadata": {},
   "outputs": [
    {
     "name": "stdout",
     "output_type": "stream",
     "text": [
      "6\n"
     ]
    }
   ],
   "source": [
    "def sum_of_digits(num):\n",
    "    sum =  0\n",
    "    while num >0:\n",
    "        rem = num%10\n",
    "        sum+=rem\n",
    "        num=num//10\n",
    "    return sum\n",
    "\n",
    "print(sum_of_digits(123))   # Output: 6 (1 + 2 + 3)\n",
    "# print(sum_of_digits(987))   # Output: 24 (9 + 8 + 7)\n"
   ]
  },
  {
   "cell_type": "code",
   "execution_count": 45,
   "id": "dc8efa61-98dc-4d97-80c3-6452ba33c4a9",
   "metadata": {},
   "outputs": [
    {
     "name": "stdout",
     "output_type": "stream",
     "text": [
      "120\n"
     ]
    }
   ],
   "source": [
    "def factorial(n):\n",
    "    fact = 1\n",
    "    for i in range(1,n+1):\n",
    "        fact = fact*i\n",
    "    return fact\n",
    "        \n",
    "print(factorial(5))"
   ]
  },
  {
   "cell_type": "code",
   "execution_count": 6,
   "id": "5b84bc35-6132-4e74-9792-73de5d5340a0",
   "metadata": {},
   "outputs": [
    {
     "name": "stdout",
     "output_type": "stream",
     "text": [
      "True\n",
      "False\n"
     ]
    }
   ],
   "source": [
    "def is_prime(n):\n",
    "    if n <= 1:\n",
    "        return False\n",
    "        \n",
    "    for i in range(2,n):\n",
    "        if n % i == 0:\n",
    "            return False\n",
    "    return True\n",
    "\n",
    "print(is_prime(11))   # Output: True\n",
    "print(is_prime(15))   # Output: False\n"
   ]
  },
  {
   "cell_type": "code",
   "execution_count": 19,
   "id": "56da2179-bbe5-488f-b911-37e42d60e81f",
   "metadata": {},
   "outputs": [
    {
     "name": "stdout",
     "output_type": "stream",
     "text": [
      "world hello\n"
     ]
    }
   ],
   "source": [
    "def reverse_string(word):\n",
    "    sen = word.split()\n",
    "    return ' '.join(sen[::-1])\n",
    "     \n",
    "print(reverse_string(\"hello world\")) # Output: \"world hello\""
   ]
  },
  {
   "cell_type": "markdown",
   "id": "9b69a377-4f5d-4d0e-ba01-1d190a85b028",
   "metadata": {},
   "source": [
    "# Decorators"
   ]
  },
  {
   "cell_type": "code",
   "execution_count": 25,
   "id": "ce9d1c3f-4017-48ff-bca3-311fdd202945",
   "metadata": {},
   "outputs": [
    {
     "name": "stdout",
     "output_type": "stream",
     "text": [
      "before excution\n",
      "1\n",
      "2\n",
      "3\n",
      "4\n",
      "5\n",
      "6\n",
      "7\n",
      "8\n",
      "9\n",
      "None\n",
      "after excution\n"
     ]
    }
   ],
   "source": [
    "def sample(func):\n",
    "    def wrapper():\n",
    "        print(\"before excution\")\n",
    "        print(func())\n",
    "        print(\"after excution\")\n",
    "    return wrapper\n",
    "@sample\n",
    "def range_values():\n",
    "    for i in range(1,10):\n",
    "        print(i)\n",
    "range_values()"
   ]
  },
  {
   "cell_type": "code",
   "execution_count": 26,
   "id": "e908c390-6e03-4b77-899e-76898f53e140",
   "metadata": {},
   "outputs": [
    {
     "data": {
      "text/plain": [
       "50"
      ]
     },
     "execution_count": 26,
     "metadata": {},
     "output_type": "execute_result"
    }
   ],
   "source": [
    "def multiple_of_ten(func):\n",
    "    def wrapper(x,y):\n",
    "        return (x+y)*10\n",
    "    return wrapper\n",
    "@multiple_of_ten\n",
    "def add(x,y):\n",
    "    return(x+y)\n",
    "add(2,3)"
   ]
  },
  {
   "cell_type": "markdown",
   "id": "37e41ba9-c500-4318-add8-4037da70b0be",
   "metadata": {},
   "source": [
    "# *args and **kwargs"
   ]
  },
  {
   "cell_type": "code",
   "execution_count": 28,
   "id": "10bc8ffa-30ed-417a-8696-c51c571d661f",
   "metadata": {},
   "outputs": [
    {
     "name": "stdout",
     "output_type": "stream",
     "text": [
      "hi\n",
      "2\n",
      "3\n",
      "4\n",
      "5\n"
     ]
    }
   ],
   "source": [
    "def values(*args):\n",
    "    for i in args:\n",
    "        print(i)\n",
    "values(\"hi\",2,3,4,5)"
   ]
  },
  {
   "cell_type": "code",
   "execution_count": 30,
   "id": "67e1f761-05f1-4185-af26-cf24da019102",
   "metadata": {},
   "outputs": [
    {
     "name": "stdout",
     "output_type": "stream",
     "text": [
      "name:narsimha\n"
     ]
    }
   ],
   "source": [
    "def key_values(**vals):\n",
    "    for key,val in vals.items():\n",
    "        print(f\"{key}:{val}\")\n",
    "key_values(name=\"narsimha\")"
   ]
  },
  {
   "cell_type": "markdown",
   "id": "12e09b9f-b5a6-4639-aa8b-ab1d865322e9",
   "metadata": {},
   "source": [
    "# sample problems"
   ]
  },
  {
   "cell_type": "code",
   "execution_count": 47,
   "id": "477fa4bc-fba4-4333-bb0d-f52ed356be6e",
   "metadata": {},
   "outputs": [
    {
     "name": "stdout",
     "output_type": "stream",
     "text": [
      "narsimh a\n"
     ]
    }
   ],
   "source": [
    "v='narsimha'\n",
    "x = ''\n",
    "uni = ''\n",
    "for i in v:\n",
    "    if v.count(i)>1 and i not in x:\n",
    "        x+=i\n",
    "    if i not in uni:\n",
    "        uni+=i\n",
    " \n",
    "print(uni,x)\n"
   ]
  },
  {
   "cell_type": "code",
   "execution_count": 48,
   "id": "6295400c-4e6f-4c80-b683-30195f914190",
   "metadata": {},
   "outputs": [
    {
     "data": {
      "text/plain": [
       "[9, 2, 3, 4, 5, 6, 7, 8]"
      ]
     },
     "execution_count": 48,
     "metadata": {},
     "output_type": "execute_result"
    }
   ],
   "source": [
    "nums=[9,2,3,4,2,4,5,5,5,6,7,8,8]\n",
    "u=[]\n",
    "[u.append(i) for i in nums if i not in u]\n",
    "u"
   ]
  },
  {
   "cell_type": "code",
   "execution_count": 51,
   "id": "20165b60-94c7-4240-9bda-4f04b086fc7c",
   "metadata": {},
   "outputs": [
    {
     "data": {
      "text/plain": [
       "[9, 3, 6, 7]"
      ]
     },
     "execution_count": 51,
     "metadata": {},
     "output_type": "execute_result"
    }
   ],
   "source": [
    "nums=[9,2,3,4,2,4,5,5,5,6,7,8,8]\n",
    "u = [i for i in  nums if nums.count(i)==1]\n",
    "u"
   ]
  },
  {
   "cell_type": "code",
   "execution_count": 59,
   "id": "113610e3-cf5a-4cbb-ada5-35580e4752d0",
   "metadata": {},
   "outputs": [
    {
     "data": {
      "text/plain": [
       "[(2, 1), (1, 2), (2, 3), (4, 4), (2, 5)]"
      ]
     },
     "execution_count": 59,
     "metadata": {},
     "output_type": "execute_result"
    }
   ],
   "source": [
    "l = [(2, 5), (1, 2), (4, 4), (2, 3), (2, 1)]\n",
    "for i in range(len(l)):\n",
    "    for j in range(i+1,len(l)):\n",
    "        if l[i][1]>l[j][1]:\n",
    "            l[i],l[j]=l[j],l[i]\n",
    "l"
   ]
  },
  {
   "cell_type": "code",
   "execution_count": 73,
   "id": "1e6020b4-df9f-4e5b-b6cb-c3cdff6c4aa8",
   "metadata": {},
   "outputs": [
    {
     "data": {
      "text/plain": [
       "['my', 'name', 'is', 'Narsimha', '']"
      ]
     },
     "execution_count": 73,
     "metadata": {},
     "output_type": "execute_result"
    }
   ],
   "source": [
    "x=['m','na','i','Nar']\n",
    "y=['y','me','s','simha']\n",
    "z = [i+j for i,j in zip(x,y)]\n",
    "z"
   ]
  },
  {
   "cell_type": "code",
   "execution_count": 76,
   "id": "211b709f-ba8c-491e-81df-61e6c8e180e2",
   "metadata": {},
   "outputs": [
    {
     "name": "stdin",
     "output_type": "stream",
     "text": [
      "enter a number  4\n"
     ]
    },
    {
     "name": "stdout",
     "output_type": "stream",
     "text": [
      "4 * 1 = 4\n",
      "4 * 2 = 8\n",
      "4 * 3 = 12\n",
      "4 * 4 = 16\n",
      "4 * 5 = 20\n",
      "4 * 6 = 24\n",
      "4 * 7 = 28\n",
      "4 * 8 = 32\n",
      "4 * 9 = 36\n",
      "4 * 10 = 40\n"
     ]
    }
   ],
   "source": [
    "n=int(input(\"enter a number \"))\n",
    "for i in range(1,11):\n",
    "    print(n,\"*\",i,\"=\",n*i)"
   ]
  },
  {
   "cell_type": "code",
   "execution_count": 84,
   "id": "981f5187-96a3-4a23-8d09-fd42473232a5",
   "metadata": {},
   "outputs": [
    {
     "name": "stdout",
     "output_type": "stream",
     "text": [
      "PYTHON LOVE I\n",
      "I EVOL NOHTYP "
     ]
    }
   ],
   "source": [
    "sen=\"I LOVE PYTHON\"\n",
    "n = sen.split()\n",
    "print(' '.join(n[::-1]))\n",
    "for i in n:\n",
    "    b=i[::-1]\n",
    "    print(b,end=' ')"
   ]
  },
  {
   "cell_type": "code",
   "execution_count": 85,
   "id": "68853ebd-7d70-43a5-8493-0cc63fe9c04f",
   "metadata": {},
   "outputs": [
    {
     "name": "stdout",
     "output_type": "stream",
     "text": [
      "2 6\n",
      "3 5\n"
     ]
    }
   ],
   "source": [
    "x=[4,2,3,5,6]\n",
    "target=8\n",
    "for i in range(len(x)):\n",
    "    for j in range(i+1,len(x)):\n",
    "        if x[i]+x[j]==target:\n",
    "            print(x[i],x[j])"
   ]
  },
  {
   "cell_type": "code",
   "execution_count": 89,
   "id": "a6f30655-6615-434e-ad8c-49efefc79706",
   "metadata": {},
   "outputs": [
    {
     "name": "stdout",
     "output_type": "stream",
     "text": [
      "6\n"
     ]
    }
   ],
   "source": [
    "x=[1,2,3,4,2,2,2,2,2,2,2,2,2,2,2,2,2,2,2,2,2,2,2,2,3,3,3,4,6,6,6,6,66,6,6,6,66,6,6,6,6,6,6,6,6,6,6,6,6]\n",
    "\n",
    "member = x[0]\n",
    "count = 1\n",
    "\n",
    "for i in range(1, len(x)):\n",
    "    if x[i] == member:\n",
    "        count+=1\n",
    "    else:\n",
    "        count-=1\n",
    "        if count<=0:\n",
    "            member = x[i]\n",
    "            count=1\n",
    "print(member)\n",
    "\n",
    "\n",
    "\n",
    "# c= {}\n",
    "# for i in x:\n",
    "#     if i not in c.keys():\n",
    "#         c[i]=1\n",
    "#     else:\n",
    "#         c[i]+=1\n",
    "# maxy = 0\n",
    "# common = None\n",
    "# for key,val in c.items():\n",
    "#     if val > maxy:\n",
    "#         maxy = val\n",
    "#         common = key\n",
    "# common"
   ]
  },
  {
   "cell_type": "code",
   "execution_count": 96,
   "id": "0988c47a-c838-43d1-9cba-fc4b5df923a5",
   "metadata": {},
   "outputs": [
    {
     "ename": "NameError",
     "evalue": "name 'a' is not defined",
     "output_type": "error",
     "traceback": [
      "\u001b[1;31m---------------------------------------------------------------------------\u001b[0m",
      "\u001b[1;31mNameError\u001b[0m                                 Traceback (most recent call last)",
      "Cell \u001b[1;32mIn[96], line 1\u001b[0m\n\u001b[1;32m----> 1\u001b[0m A\u001b[38;5;241m=\u001b[39m{\u001b[43ma\u001b[49m,a,b,b,b,c,c,b,b,d}\n\u001b[0;32m      2\u001b[0m \u001b[38;5;28mprint\u001b[39m(\u001b[38;5;28mtype\u001b[39m(A))\n",
      "\u001b[1;31mNameError\u001b[0m: name 'a' is not defined"
     ]
    }
   ],
   "source": [
    "A={a,a,b,b,b,c,c,b,b,d}\n",
    "print(type(A))"
   ]
  },
  {
   "cell_type": "code",
   "execution_count": null,
   "id": "5d6089cd-8fe8-4181-b93f-61290a7baa4f",
   "metadata": {},
   "outputs": [],
   "source": []
  },
  {
   "cell_type": "code",
   "execution_count": null,
   "id": "96c70dcc-86d1-466f-a09f-fd92c3be4f29",
   "metadata": {},
   "outputs": [],
   "source": []
  },
  {
   "cell_type": "code",
   "execution_count": null,
   "id": "7a19320b-1f5d-414e-8f6c-fecda9378387",
   "metadata": {},
   "outputs": [],
   "source": []
  },
  {
   "cell_type": "code",
   "execution_count": null,
   "id": "4e0587c5-b534-48f9-9851-f4c9e3dd5311",
   "metadata": {},
   "outputs": [],
   "source": []
  }
 ],
 "metadata": {
  "kernelspec": {
   "display_name": "Python 3 (ipykernel)",
   "language": "python",
   "name": "python3"
  },
  "language_info": {
   "codemirror_mode": {
    "name": "ipython",
    "version": 3
   },
   "file_extension": ".py",
   "mimetype": "text/x-python",
   "name": "python",
   "nbconvert_exporter": "python",
   "pygments_lexer": "ipython3",
   "version": "3.11.9"
  }
 },
 "nbformat": 4,
 "nbformat_minor": 5
}
