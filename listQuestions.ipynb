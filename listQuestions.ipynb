{
 "cells": [
  {
   "cell_type": "code",
   "execution_count": 1,
   "id": "7a2f53df-ed1d-4452-9faf-e15dce03f973",
   "metadata": {},
   "outputs": [
    {
     "name": "stdout",
     "output_type": "stream",
     "text": [
      "[500, 400, 300, 200, 100]\n"
     ]
    }
   ],
   "source": [
    "# Reverse list\n",
    "list1 = [100, 200, 300, 400, 500]\n",
    "print(list1[::-1])"
   ]
  },
  {
   "cell_type": "code",
   "execution_count": 4,
   "id": "38b0086a-fecd-427b-898c-c9560e2155da",
   "metadata": {},
   "outputs": [
    {
     "data": {
      "text/plain": [
       "['My', 'name', 'is', 'Kelly']"
      ]
     },
     "execution_count": 4,
     "metadata": {},
     "output_type": "execute_result"
    }
   ],
   "source": [
    "# merge two list\n",
    "list1 = [\"M\", \"na\", \"i\", \"Ke\"]\n",
    "list2 = [\"y\", \"me\", \"s\", \"lly\"]\n",
    "sol = [x+y for x,y in zip(list1,list2)]\n",
    "sol"
   ]
  },
  {
   "cell_type": "code",
   "execution_count": 5,
   "id": "17b388e7-3c8c-4112-b71b-bf78be4234e2",
   "metadata": {},
   "outputs": [
    {
     "data": {
      "text/plain": [
       "[1, 4, 9, 16, 25, 36, 49]"
      ]
     },
     "execution_count": 5,
     "metadata": {},
     "output_type": "execute_result"
    }
   ],
   "source": [
    "numbers = [1, 2, 3, 4, 5, 6, 7]\n",
    "sol = list(map(lambda x: x**2,numbers))\n",
    "sol"
   ]
  },
  {
   "cell_type": "code",
   "execution_count": 16,
   "id": "5739e650-f811-418e-ba03-19ec1071cab6",
   "metadata": {},
   "outputs": [
    {
     "data": {
      "text/plain": [
       "['Hello Dear', 'Hello Sir', 'take Dear', 'take Sir']"
      ]
     },
     "execution_count": 16,
     "metadata": {},
     "output_type": "execute_result"
    }
   ],
   "source": [
    "# concantinate two list\n",
    "list1 = [\"Hello \", \"take \"]\n",
    "list2 = [\"Dear\", \"Sir\"]\n",
    "y = [x+y for x in list1 for y in list2]\n",
    "y"
   ]
  },
  {
   "cell_type": "code",
   "execution_count": 19,
   "id": "da3b204a-88b8-491b-a769-042b35a93794",
   "metadata": {},
   "outputs": [
    {
     "name": "stdout",
     "output_type": "stream",
     "text": [
      "10 400\n",
      "20 300\n",
      "30 200\n",
      "40 100\n"
     ]
    }
   ],
   "source": [
    "#Iterate both lists simultaneously\n",
    "list1 = [10, 20, 30, 40]\n",
    "list2 = [100, 200, 300, 400]\n",
    "list2=list2[::-1]\n",
    "for i,j in zip(list1,list2):\n",
    "    print(i,j)"
   ]
  },
  {
   "cell_type": "code",
   "execution_count": 29,
   "id": "f26848f8-1c0d-4089-84d5-4fa1824bb863",
   "metadata": {},
   "outputs": [
    {
     "name": "stdout",
     "output_type": "stream",
     "text": [
      "['Mike', 'Emma', 'Kelly', 'Brad']\n"
     ]
    }
   ],
   "source": [
    "list1 = [\"Mike\", \"\", \"Emma\", \"Kelly\", \"\", \"Brad\"]\n",
    "\n",
    "result = []\n",
    "for item in list1:\n",
    "    if item != \"\":  \n",
    "        result.append(item)\n",
    "\n",
    "print(result)\n"
   ]
  },
  {
   "cell_type": "code",
   "execution_count": 43,
   "id": "73e832b1-ecfc-41e8-a0f5-264fb2fd39ce",
   "metadata": {},
   "outputs": [
    {
     "name": "stdout",
     "output_type": "stream",
     "text": [
      "[10, 20, [300, 400, [5000, 6000, 7000], 500], 30, 40]\n"
     ]
    }
   ],
   "source": [
    "list1 = [10, 20, [300, 400, [5000, 6000], 500], 30, 40]\n",
    "list1[2][2].append(7000)\n",
    "print(list1)  "
   ]
  },
  {
   "cell_type": "code",
   "execution_count": 48,
   "id": "74f8d98d-49d0-46ad-9ebd-228e27c8e729",
   "metadata": {},
   "outputs": [
    {
     "name": "stdout",
     "output_type": "stream",
     "text": [
      "['a', 'b', ['c', ['d', 'e', ['f', 'g', 'h', 'i', 'j'], 'k'], 'l'], 'm', 'n']\n"
     ]
    }
   ],
   "source": [
    "list1 = [\"a\", \"b\", [\"c\", [\"d\", \"e\", [\"f\", \"g\"], \"k\"], \"l\"], \"m\", \"n\"]\n",
    "\n",
    "# sub list to add\n",
    "sub_list = [\"h\", \"i\", \"j\"]\n",
    "\n",
    "for i in sub_list:\n",
    "    list1[2][1][2].append(i)\n",
    "print(list1)\n",
    "\n",
    " "
   ]
  },
  {
   "cell_type": "code",
   "execution_count": 57,
   "id": "7b1fc9f9-74c5-4b73-979b-3331ce5a71a3",
   "metadata": {},
   "outputs": [
    {
     "data": {
      "text/plain": [
       "[5, 10, 15, 200, 25, 50, 200]"
      ]
     },
     "execution_count": 57,
     "metadata": {},
     "output_type": "execute_result"
    }
   ],
   "source": [
    "list1 = [5, 10, 15, 20, 25, 50, 20]\n",
    "for i in range(len(list1)):\n",
    "    if list1[i] == 20:\n",
    "        list1[i] = 200\n",
    "list1\n",
    "        "
   ]
  },
  {
   "cell_type": "code",
   "execution_count": 60,
   "id": "1b93d31f-69ea-42ed-9e16-29efea691396",
   "metadata": {},
   "outputs": [
    {
     "data": {
      "text/plain": [
       "[5, 15, 25, 50]"
      ]
     },
     "execution_count": 60,
     "metadata": {},
     "output_type": "execute_result"
    }
   ],
   "source": [
    "list1 = [5, 20, 15, 20, 25, 50, 20]\n",
    "for i in list1:\n",
    "    if i == 20:\n",
    "        list1.remove(i)\n",
    "list1"
   ]
  },
  {
   "cell_type": "code",
   "execution_count": null,
   "id": "cdc02a42-0592-448b-817e-b0bfed2b9bf0",
   "metadata": {},
   "outputs": [],
   "source": [
    "1. missing number in list if it was multiple\n",
    "2. flatted list\n",
    "3. a = \"a1b2c3\" output:abbccc"
   ]
  },
  {
   "cell_type": "code",
   "execution_count": 19,
   "id": "0904a26f-02c7-4205-9af1-81ac1ddf0b71",
   "metadata": {},
   "outputs": [
    {
     "data": {
      "text/plain": [
       "5"
      ]
     },
     "execution_count": 19,
     "metadata": {},
     "output_type": "execute_result"
    }
   ],
   "source": [
    "(lambda x, y: x + y)(2, 3)"
   ]
  },
  {
   "cell_type": "code",
   "execution_count": 25,
   "id": "b5173469-880c-4596-9a5f-98af3da2f745",
   "metadata": {},
   "outputs": [
    {
     "name": "stdout",
     "output_type": "stream",
     "text": [
      "[1, 2, 3, 4, 5, 6, 7, 8, 9, 10]\n"
     ]
    }
   ],
   "source": [
    "def missing_nums(lst):\n",
    "    range_nums = set(range(1,max(lst)+1))\n",
    "    actual = set(lst)\n",
    "    miss_nums = range_nums - actual\n",
    "    lst.extend(sorted(miss_nums))\n",
    "    return sorted(lst)\n",
    "lst = [1,2,3,5,7,9,10]\n",
    "print(missing_nums(lst))"
   ]
  },
  {
   "cell_type": "code",
   "execution_count": 4,
   "id": "134b591b-9785-4bb8-b97b-18c4c59cbbb2",
   "metadata": {},
   "outputs": [
    {
     "name": "stdout",
     "output_type": "stream",
     "text": [
      "5\n"
     ]
    }
   ],
   "source": [
    "x = [1,2,3,4,6]\n",
    "n = len(x)+1\n",
    "res = n*(n+1)//2\n",
    "sumx = sum(x)\n",
    "out = res - sumx\n",
    "print(out)\n"
   ]
  },
  {
   "cell_type": "code",
   "execution_count": 16,
   "id": "5cb4c7ea-560e-499d-81d7-0efe502698c8",
   "metadata": {},
   "outputs": [
    {
     "name": "stdout",
     "output_type": "stream",
     "text": [
      "aaabbccddd\n"
     ]
    }
   ],
   "source": [
    "def transform_string(s):\n",
    "    res = []\n",
    "    i = 0\n",
    "    while i < len(s):\n",
    "        char = s[i]\n",
    "        if i+1 < len(s) and s[i+1].isdigit():\n",
    "            count = int(s[i+1])\n",
    "            res.append(char*count)\n",
    "            i+=2\n",
    "        else:\n",
    "            res.append(char)\n",
    "            i+=1\n",
    "    return \"\".join(res)\n",
    "            \n",
    "print(transform_string(\"aaab2ccd3\"))"
   ]
  },
  {
   "cell_type": "code",
   "execution_count": 3,
   "id": "c729ccef-748c-45b1-aad2-32022c1cae2a",
   "metadata": {},
   "outputs": [
    {
     "name": "stdout",
     "output_type": "stream",
     "text": [
      "2\n",
      "3\n",
      "aaabbbccdddd\n"
     ]
    }
   ],
   "source": [
    "rr = \"aaab2ccd3\"\n",
    "result=''\n",
    "for i in rr:\n",
    "    if i.isalpha():\n",
    "        val=i\n",
    "        result+=i\n",
    "    else:\n",
    "        result=result+val*int(i)\n",
    "print(result)"
   ]
  },
  {
   "cell_type": "code",
   "execution_count": 15,
   "id": "673ae5ae-37e3-4d66-b3b0-202feae5a658",
   "metadata": {},
   "outputs": [
    {
     "name": "stdout",
     "output_type": "stream",
     "text": [
      "a3b2c2d3\n"
     ]
    }
   ],
   "source": [
    "def transform_string(s):\n",
    "    res = []\n",
    "    count = 1\n",
    "    for i in range(len(s)):\n",
    "        if i<len(s)-1 and s[i] == s[i+1]:\n",
    "            count+=1\n",
    "        else:\n",
    "            res.append(f\"{s[i]}{count}\")\n",
    "            count = 1\n",
    "    return \"\".join(res)\n",
    "print(transform_string(\"aaabbccddd\"))\n",
    "            "
   ]
  },
  {
   "cell_type": "code",
   "execution_count": 27,
   "id": "522fefb2-880e-49f0-a687-36626e779c4a",
   "metadata": {},
   "outputs": [
    {
     "name": "stdout",
     "output_type": "stream",
     "text": [
      "4\n",
      "8\n",
      "12\n",
      "12\n"
     ]
    }
   ],
   "source": [
    "a,b=3,4\n",
    "s = 0\n",
    "for i in range(a):\n",
    "    s+=b\n",
    "print(s)"
   ]
  },
  {
   "cell_type": "markdown",
   "id": "ad564c48-47d7-4126-b4f0-6d3283abb639",
   "metadata": {},
   "source": [
    "# array questions"
   ]
  },
  {
   "cell_type": "code",
   "execution_count": 2,
   "id": "9315335b-dfdc-438c-a5cb-4f37538b22c1",
   "metadata": {},
   "outputs": [
    {
     "name": "stdout",
     "output_type": "stream",
     "text": [
      "array('i', [1, 2, 3])\n"
     ]
    }
   ],
   "source": [
    "from array import *\n",
    "arr = array('i',[1,2,3])\n",
    "print(arr)"
   ]
  },
  {
   "cell_type": "code",
   "execution_count": null,
   "id": "4ae50c26-d024-49d3-9be6-77e2efe416c0",
   "metadata": {},
   "outputs": [],
   "source": [
    " "
   ]
  },
  {
   "cell_type": "code",
   "execution_count": null,
   "id": "963d18e8-7da2-4c59-b51c-f8b9e389379d",
   "metadata": {},
   "outputs": [],
   "source": []
  },
  {
   "cell_type": "code",
   "execution_count": null,
   "id": "1efe1156-bc16-4f11-9086-5d1852236479",
   "metadata": {},
   "outputs": [],
   "source": []
  },
  {
   "cell_type": "code",
   "execution_count": null,
   "id": "2e1a46cf-9782-4f63-89a7-5f648d5833ea",
   "metadata": {},
   "outputs": [],
   "source": []
  },
  {
   "cell_type": "code",
   "execution_count": null,
   "id": "ab0a1c0e-db78-4cca-ba91-f005de9b8591",
   "metadata": {},
   "outputs": [],
   "source": []
  },
  {
   "cell_type": "code",
   "execution_count": null,
   "id": "837a9e8a-c7c4-4635-b176-9468d3ab3085",
   "metadata": {},
   "outputs": [],
   "source": []
  },
  {
   "cell_type": "code",
   "execution_count": null,
   "id": "a014a0c2-495a-4f7b-916f-151549d05949",
   "metadata": {},
   "outputs": [],
   "source": []
  },
  {
   "cell_type": "code",
   "execution_count": null,
   "id": "b442b21c-0f2b-4839-9256-90fb28c56ca5",
   "metadata": {},
   "outputs": [],
   "source": []
  },
  {
   "cell_type": "code",
   "execution_count": null,
   "id": "a3ceef66-86f7-4fcb-92e3-537325aa0a68",
   "metadata": {},
   "outputs": [],
   "source": []
  },
  {
   "cell_type": "code",
   "execution_count": null,
   "id": "de42a5af-6077-402a-8ae4-4f82917cc765",
   "metadata": {},
   "outputs": [],
   "source": []
  },
  {
   "cell_type": "code",
   "execution_count": null,
   "id": "1d2ff07e-f877-4eec-90c4-2b8d9578a3c7",
   "metadata": {},
   "outputs": [],
   "source": []
  },
  {
   "cell_type": "code",
   "execution_count": null,
   "id": "c1fd6985-2ae1-4d04-a398-c547c5ab8c18",
   "metadata": {},
   "outputs": [],
   "source": []
  },
  {
   "cell_type": "code",
   "execution_count": null,
   "id": "62ca21c6-33f3-4c80-b993-2ec07f8d9716",
   "metadata": {},
   "outputs": [],
   "source": []
  },
  {
   "cell_type": "code",
   "execution_count": null,
   "id": "5e8bc853-9e1b-40e3-8af4-561ad425a7a9",
   "metadata": {},
   "outputs": [],
   "source": []
  },
  {
   "cell_type": "code",
   "execution_count": null,
   "id": "e88866f5-dc9a-4090-984d-e939c2d38443",
   "metadata": {},
   "outputs": [],
   "source": []
  },
  {
   "cell_type": "code",
   "execution_count": null,
   "id": "0232ea97-c966-49fb-85be-e01adf145cfa",
   "metadata": {},
   "outputs": [],
   "source": []
  },
  {
   "cell_type": "code",
   "execution_count": null,
   "id": "54b9c72c-23d5-4a00-8808-97d350b6fb53",
   "metadata": {},
   "outputs": [],
   "source": []
  },
  {
   "cell_type": "code",
   "execution_count": null,
   "id": "4423e726-d113-4c8a-964f-129b1579150a",
   "metadata": {},
   "outputs": [],
   "source": []
  },
  {
   "cell_type": "code",
   "execution_count": null,
   "id": "e2405e78-d854-4dfd-8a4f-ac09fca9e6f6",
   "metadata": {},
   "outputs": [],
   "source": []
  },
  {
   "cell_type": "code",
   "execution_count": null,
   "id": "36428e1d-5ec8-4571-9950-04b34fa2b4f0",
   "metadata": {},
   "outputs": [],
   "source": []
  },
  {
   "cell_type": "code",
   "execution_count": null,
   "id": "38341caa-c90e-414f-8276-230e629088dd",
   "metadata": {},
   "outputs": [],
   "source": []
  },
  {
   "cell_type": "code",
   "execution_count": null,
   "id": "f0d21537-bfe4-4c4c-a21c-01273a047670",
   "metadata": {},
   "outputs": [],
   "source": []
  },
  {
   "cell_type": "code",
   "execution_count": null,
   "id": "149ccb5f-e38a-4b10-8609-ab13426f9037",
   "metadata": {},
   "outputs": [],
   "source": []
  }
 ],
 "metadata": {
  "kernelspec": {
   "display_name": "Python 3 (ipykernel)",
   "language": "python",
   "name": "python3"
  },
  "language_info": {
   "codemirror_mode": {
    "name": "ipython",
    "version": 3
   },
   "file_extension": ".py",
   "mimetype": "text/x-python",
   "name": "python",
   "nbconvert_exporter": "python",
   "pygments_lexer": "ipython3",
   "version": "3.11.9"
  }
 },
 "nbformat": 4,
 "nbformat_minor": 5
}
