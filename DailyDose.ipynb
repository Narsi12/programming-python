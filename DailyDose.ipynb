{
 "cells": [
  {
   "cell_type": "code",
   "execution_count": 4,
   "id": "3c4f8fed-269d-4dca-b787-aa08e7546503",
   "metadata": {},
   "outputs": [
    {
     "data": {
      "text/plain": [
       "'Narsimha'"
      ]
     },
     "execution_count": 4,
     "metadata": {},
     "output_type": "execute_result"
    }
   ],
   "source": [
    "class A:\n",
    "    def __init__(self,name):\n",
    "        self.name = name\n",
    "    def show(self):\n",
    "        return self.name\n",
    "\n",
    "class B:\n",
    "    def __init__(self,class_a_instance):\n",
    "        self.class_a_instance = class_a_instance\n",
    "    def dis(self):\n",
    "        return self.class_a_instance.show()\n",
    "a = A(\"Narsimha\")\n",
    "b = B(a)\n",
    "b.dis()"
   ]
  },
  {
   "cell_type": "code",
   "execution_count": 8,
   "id": "4cd1d505-ac85-4d0e-8dd9-b50ac997f84d",
   "metadata": {},
   "outputs": [
    {
     "data": {
      "text/plain": [
       "'{\"company_name\": \"micron\", \"code\": 1234, \"location\": {\"location\": \"Hyd\", \"count\": 900}}'"
      ]
     },
     "execution_count": 8,
     "metadata": {},
     "output_type": "execute_result"
    }
   ],
   "source": [
    "import json\n",
    "class Parent:\n",
    "    def __init__(self,company,code):\n",
    "        self.company = company\n",
    "        self.code = code\n",
    "    def set_location(self,location,count):\n",
    "        self.location = self.Location(location,count)\n",
    "    class Location:\n",
    "        def __init__(self,location,count):\n",
    "            self.location = location\n",
    "            self.count = count\n",
    "        \n",
    "        def todict(self):\n",
    "            return {\n",
    "                \"location\":self.location,\n",
    "                \"count\":self.count\n",
    "            }\n",
    "    def to_dict(self):\n",
    "        return {\n",
    "            \"company_name\":self.company,\n",
    "            \"code\":self.code,\n",
    "            \"location\":self.location.todict() if self.location else None\n",
    "        }\n",
    "p = Parent(\"micron\",1234)\n",
    "p.set_location(\"Hyd\",900)\n",
    "x = json.dumps(p.to_dict())\n",
    "x        "
   ]
  },
  {
   "cell_type": "code",
   "execution_count": 9,
   "id": "a032a625-042f-4d19-bf38-4f7e352eeead",
   "metadata": {},
   "outputs": [
    {
     "name": "stdout",
     "output_type": "stream",
     "text": [
      "1\n",
      "2\n",
      "3\n",
      "4\n"
     ]
    }
   ],
   "source": [
    "class Iteration:\n",
    "    def __init__(self,start,end):\n",
    "        self.start = start\n",
    "        self.end = end\n",
    "    def __iter__(self):\n",
    "        return self\n",
    "    def __next__(self):\n",
    "        if self.start < self.end:\n",
    "            self.start+=1\n",
    "            return self.start -1\n",
    "        else:\n",
    "            raise StopIteration\n",
    "m = Iteration(1,5)\n",
    "for i in m:\n",
    "    print(i)"
   ]
  },
  {
   "cell_type": "code",
   "execution_count": 12,
   "id": "3c276fb2-d7f8-4a88-acf4-e6152354b398",
   "metadata": {},
   "outputs": [
    {
     "name": "stdout",
     "output_type": "stream",
     "text": [
      "0\n",
      "1\n",
      "2\n",
      "3\n",
      "4\n",
      "5\n",
      "<generator object loop at 0x000001C2C8F12880>\n"
     ]
    }
   ],
   "source": [
    "def loop(n):\n",
    "    for i in range(n+1):\n",
    "        yield i\n",
    "v = loop(5)\n",
    "print(next(v))\n",
    "for i in v:\n",
    "    print(i)\n",
    "print(loop(5))"
   ]
  },
  {
   "cell_type": "code",
   "execution_count": 14,
   "id": "45a08057-d4cc-4735-950a-d0b5baa8b4ad",
   "metadata": {},
   "outputs": [
    {
     "name": "stdin",
     "output_type": "stream",
     "text": [
      "Enter age : 21\n"
     ]
    },
    {
     "name": "stdout",
     "output_type": "stream",
     "text": [
      "Your eligible\n"
     ]
    }
   ],
   "source": [
    "class AgeException(Exception):\n",
    "    def __init__(self,message):\n",
    "        super().__init__(message)\n",
    "    pass\n",
    "age = int(input(\"Enter age :\"))\n",
    "try:\n",
    "    if age < 18:\n",
    "        raise AgeException (\"Your not eligible to vote\")\n",
    "    else:\n",
    "        print(\"Your eligible\")\n",
    "except AgeException as e:\n",
    "    print(e)\n",
    "              "
   ]
  },
  {
   "cell_type": "code",
   "execution_count": 16,
   "id": "d3f6b5ac-48e1-4197-a93a-dfc8cd9c63dd",
   "metadata": {},
   "outputs": [
    {
     "name": "stdout",
     "output_type": "stream",
     "text": [
      "threading 0\n",
      "threading 1\n",
      "threading 2\n",
      "threading 3\n",
      "threading 4\n",
      "threading 5\n",
      "threading 6\n",
      "threading 7\n",
      "threading 8\n",
      "threading 9\n",
      "Done\n"
     ]
    }
   ],
   "source": [
    "from threading import Thread\n",
    "\n",
    "def nums():\n",
    "    for i in range(10):\n",
    "        print(f\"threading {i}\")\n",
    "th = Thread(target = nums)\n",
    "th.start()\n",
    "th.join()\n",
    "print(\"Done\")"
   ]
  },
  {
   "cell_type": "code",
   "execution_count": 18,
   "id": "7d712da3-9815-4229-a0a5-1c69cc7f478d",
   "metadata": {},
   "outputs": [
    {
     "name": "stdout",
     "output_type": "stream",
     "text": [
      "Done\n"
     ]
    }
   ],
   "source": [
    "import multiprocessing\n",
    "def cube(num):\n",
    "    return (num*num*num)\n",
    "def square(num):\n",
    "    return (num*num)\n",
    "if __name__ == \"__main__\":\n",
    "    p1 = multiprocessing.Process(target = cube, args = (10,))\n",
    "    p2 = multiprocessing.Process(target = square, args = (10,))\n",
    "    p1.start()\n",
    "    p2.start()\n",
    "    p1.join()\n",
    "    p2.join()\n",
    "    print(\"Done\")"
   ]
  },
  {
   "cell_type": "code",
   "execution_count": 19,
   "id": "97b58083-a76e-460d-9d05-71709f634124",
   "metadata": {},
   "outputs": [
    {
     "name": "stdout",
     "output_type": "stream",
     "text": [
      "45\n"
     ]
    }
   ],
   "source": [
    "def second_large(lst):\n",
    "    first = second = float('-inf')\n",
    "    for num in lst:\n",
    "        if num > first:\n",
    "            second = first\n",
    "            first = num\n",
    "        elif second > num and num!=first:\n",
    "            second = num\n",
    "    return second\n",
    "\n",
    "    \n",
    "print(second_large([10, 20, 4, 45, 99,]))"
   ]
  },
  {
   "cell_type": "code",
   "execution_count": 22,
   "id": "20258575-019d-44dc-ae04-2f306a27f66b",
   "metadata": {},
   "outputs": [
    {
     "name": "stdout",
     "output_type": "stream",
     "text": [
      "[0, 1, 1, 2, 3, 5, 8]\n"
     ]
    }
   ],
   "source": [
    "def fiboo(n):\n",
    "    fibseries = [0,1]\n",
    "    while fibseries[-1]+fibseries[-2] <=n:\n",
    "        fibseries.append(fibseries[-1]+fibseries[-2])\n",
    "    return fibseries\n",
    "print(fiboo(10))"
   ]
  },
  {
   "cell_type": "code",
   "execution_count": 26,
   "id": "5d59b39e-fe2c-47b2-b8ed-500b8c94993a",
   "metadata": {},
   "outputs": [
    {
     "name": "stdout",
     "output_type": "stream",
     "text": [
      "[2, 3]\n"
     ]
    }
   ],
   "source": [
    "def targe_num(nums,target):\n",
    "    seen = {}\n",
    "    for i,num in enumerate(nums):\n",
    "        val = target - num\n",
    "        if val in seen:\n",
    "            return [seen[val],i]\n",
    "        else:\n",
    "            seen[num] = i\n",
    "    return []\n",
    "nums=[2, 7, 11, 15]\n",
    "target=26\n",
    "print(targe_num(nums, target))"
   ]
  },
  {
   "cell_type": "code",
   "execution_count": 28,
   "id": "76ea2f76-51a2-4060-bb7b-5b2a7c363a1e",
   "metadata": {},
   "outputs": [
    {
     "name": "stdout",
     "output_type": "stream",
     "text": [
      "2\n"
     ]
    }
   ],
   "source": [
    "x=[1,2,3,4,2,2,2,2,2,2,2,2,2,2,2,2,2,2,2,2,2,2,2,2,3,3,3,4,6,6,6,6,66,6,6,6,66,6,6,6,6,6,6,6,6,6,6,6,6]\n",
    "count = 0\n",
    "common = None\n",
    "for i in x:\n",
    "    maxy = x.count(i)\n",
    "    if maxy > count:\n",
    "        count = maxy\n",
    "        common = i\n",
    "print(common)"
   ]
  },
  {
   "cell_type": "code",
   "execution_count": 35,
   "id": "f7c566dc-0558-4b22-9ab3-d65bed542799",
   "metadata": {},
   "outputs": [
    {
     "data": {
      "text/plain": [
       "[('a', 2), ('b', 3), ('c', 2), ('b', 2), ('d', 2)]"
      ]
     },
     "execution_count": 35,
     "metadata": {},
     "output_type": "execute_result"
    }
   ],
   "source": [
    "A=['a','a','b','b','b','c','c','b','b','d','d']\n",
    "c = []\n",
    "ch = A[0]\n",
    "count = 1\n",
    "for i in range(1,len(A)):\n",
    "    if A[i] == ch:\n",
    "        count+=1\n",
    "    else:\n",
    "        c.append((ch,count))\n",
    "        ch =A[i]\n",
    "        count = 1\n",
    "c.append((ch,count))\n",
    "c"
   ]
  },
  {
   "cell_type": "code",
   "execution_count": 37,
   "id": "75a03567-b7e2-45a9-a716-b7ffc5870398",
   "metadata": {},
   "outputs": [
    {
     "name": "stdout",
     "output_type": "stream",
     "text": [
      "YES\n"
     ]
    }
   ],
   "source": [
    "word = \"Rotavator\"\n",
    "word = word.lower()\n",
    "start = 0 \n",
    "end = len(word) -1\n",
    "while start <=end:\n",
    "    if word[start]!=word[end]:\n",
    "        print(\"No\")\n",
    "        break\n",
    "    start+=1\n",
    "    end-=1\n",
    "else:\n",
    "    print(\"YES\")\n",
    "    \n"
   ]
  },
  {
   "cell_type": "code",
   "execution_count": 43,
   "id": "5ac573ed-9e0c-4c2f-a17c-227a31c1bf74",
   "metadata": {},
   "outputs": [
    {
     "data": {
      "text/plain": [
       "'geekskeeg'"
      ]
     },
     "execution_count": 43,
     "metadata": {},
     "output_type": "execute_result"
    }
   ],
   "source": [
    "x=\"forgeekskeegfor\"\n",
    "y = ''\n",
    "length = 0\n",
    "for i in range(len(x)):\n",
    "    for j in range(i+1,len(x)):\n",
    "        match = x[i:j]\n",
    "        if match == match[::-1] and len(match) > len(y):\n",
    "            y = match\n",
    "            length = len(match)\n",
    "            \n",
    "         \n",
    "y\n"
   ]
  },
  {
   "cell_type": "code",
   "execution_count": 45,
   "id": "deedb42a-b52c-433a-9480-6ef372bd9ff7",
   "metadata": {},
   "outputs": [
    {
     "name": "stdout",
     "output_type": "stream",
     "text": [
      "abc\n"
     ]
    }
   ],
   "source": [
    "def sub_st(s):\n",
    "    charSet = set()\n",
    "    l = 0\n",
    "    res = 0\n",
    "    subset = \"\"\n",
    "    for r in range(len(s)):\n",
    "        if s[r] in charSet:\n",
    "            charSet.remove(s[l])\n",
    "            l+=1\n",
    "        charSet.add(s[r])\n",
    "        if (r-l+1)>res:\n",
    "            res = max(res,r-l+1)\n",
    "            subset = s[l:r+1]\n",
    "    return subset\n",
    "\n",
    "print(sub_st(\"abcabcbb\"))"
   ]
  },
  {
   "cell_type": "code",
   "execution_count": 47,
   "id": "e6fa0531-8846-4371-b0e0-5bf1daab9f4e",
   "metadata": {},
   "outputs": [
    {
     "name": "stdout",
     "output_type": "stream",
     "text": [
      "[1, 2, 3, 4, 5, 6, 7, 8, 9, 10, 11, 12, 13, 14, 15]\n"
     ]
    }
   ],
   "source": [
    "def flatten(iterable):\n",
    "    flat = []\n",
    "    for i in iterable:\n",
    "        if isinstance(i,list):\n",
    "            flat.extend(flatten(i))\n",
    "        elif i is not None:\n",
    "            flat.append(i)\n",
    "    return flat\n",
    "\n",
    "print(flatten([[1, 2, 3], [4, 5, 6], [7, 8, [9, 10, 11], 12], [13, 14, 15]]))"
   ]
  },
  {
   "cell_type": "code",
   "execution_count": 64,
   "id": "4c4faa1a-8fc5-46ba-8ac9-309eaf114f6a",
   "metadata": {},
   "outputs": [
    {
     "name": "stdout",
     "output_type": "stream",
     "text": [
      "True\n"
     ]
    }
   ],
   "source": [
    "def valid_p(s):\n",
    "    stack = []\n",
    "    mapping = { \")\":\"(\",\"}\":\"{\",\"]\":\"[\" }\n",
    "    for char in s:\n",
    "        if char in mapping:\n",
    "            top_element = stack.pop() if stack else \"#\"\n",
    "            if mapping[char]!=top_element:\n",
    "                return False\n",
    "        else:\n",
    "            stack.append(char)\n",
    "    return not stack\n",
    "print(valid_partheses(\"({})\"))"
   ]
  },
  {
   "cell_type": "code",
   "execution_count": 71,
   "id": "e5c77d62-cd63-4cc1-b8e1-306991031da2",
   "metadata": {},
   "outputs": [
    {
     "data": {
      "text/plain": [
       "'fl'"
      ]
     },
     "execution_count": 71,
     "metadata": {},
     "output_type": "execute_result"
    }
   ],
   "source": [
    "x = [\"flower\",\"flow\",\"flask\"]\n",
    "prefix = x[0]\n",
    "for i in x[1:]:\n",
    "    while not i.startswith(prefix):\n",
    "        prefix = prefix[:-1]\n",
    "        if not prefix:\n",
    "            break\n",
    "prefix"
   ]
  },
  {
   "cell_type": "code",
   "execution_count": 74,
   "id": "f7824749-a5de-4394-a012-3a2354a147b9",
   "metadata": {},
   "outputs": [
    {
     "name": "stdout",
     "output_type": "stream",
     "text": [
      "Hello\n",
      "Bye\n",
      "Hi i am still there\n",
      "I dont want to in my life bye\n"
     ]
    },
    {
     "data": {
      "text/plain": [
       "[None, None]"
      ]
     },
     "execution_count": 74,
     "metadata": {},
     "output_type": "execute_result"
    }
   ],
   "source": [
    "import asyncio\n",
    "async def hi():\n",
    "    print(\"Hello\")\n",
    "    await asyncio.sleep(3)\n",
    "    print(\"Hi i am still there\")\n",
    "async def bye():\n",
    "    print(\"Bye\")\n",
    "    await asyncio.sleep(4)\n",
    "    print(\"I dont want to in my life bye\")\n",
    "await asyncio.gather(hi(),bye())"
   ]
  },
  {
   "cell_type": "code",
   "execution_count": 86,
   "id": "def9c634-0cfb-4b79-859c-78c6258c3903",
   "metadata": {},
   "outputs": [
    {
     "data": {
      "text/plain": [
       "('David', 35)"
      ]
     },
     "execution_count": 86,
     "metadata": {},
     "output_type": "execute_result"
    }
   ],
   "source": [
    "# x = [{\"name\":\"Narsimha\",\"age\":24},{\"name\":\"sai-shiva\",\"age\":\"27\"},{\"name\":\"laxmi\",\"age\":45}]\n",
    "\n",
    "# new = max(x,key=lambda person:int(person['age']))\n",
    "# print(new['name'])\n",
    "\n",
    "data = {\n",
    "    \"Alice\": 25,\n",
    "    \"Bob\": 30,\n",
    "    \"Charlie\": 22,\n",
    "    \"David\": 35\n",
    "}\n",
    "ww = max(data.items(),key=lambda x:x[1])\n",
    "ww\n"
   ]
  },
  {
   "cell_type": "code",
   "execution_count": 98,
   "id": "526a59d3-3e51-4213-91eb-dd06c613029a",
   "metadata": {},
   "outputs": [
    {
     "name": "stdout",
     "output_type": "stream",
     "text": [
      "['A', 'B', 'BA', 'C', 'CA', 'CB', 'CBA']\n"
     ]
    }
   ],
   "source": [
    "def p(s):\n",
    "    subsets = [\"\"]\n",
    "    for i in s:\n",
    "        new = [i+sub for sub in subsets]\n",
    "        subsets.extend(new)\n",
    "    return subsets[1:]\n",
    "print(p(\"ABC\"))"
   ]
  },
  {
   "cell_type": "code",
   "execution_count": 5,
   "id": "92fe5d2f-d3d4-4dce-abb1-e7766866b82b",
   "metadata": {},
   "outputs": [
    {
     "data": {
      "text/plain": [
       "'r t a e v j i a'"
      ]
     },
     "execution_count": 5,
     "metadata": {},
     "output_type": "execute_result"
    }
   ],
   "source": [
    "a = \"ravi\"\n",
    "b = \"teja\"\n",
    "lst = []\n",
    "max_len = max(len(a),len(b))\n",
    "for i in range(max_len):\n",
    "    if i < len(a):\n",
    "        lst.append(a[i])\n",
    "    if i < len(b):\n",
    "        lst.append(b[i])\n",
    "res = \" \".join(lst)\n",
    "res"
   ]
  },
  {
   "cell_type": "code",
   "execution_count": 8,
   "id": "28ad38be-1746-4fcd-ad4b-f4815f392580",
   "metadata": {},
   "outputs": [
    {
     "data": {
      "text/plain": [
       "'rtaevjia'"
      ]
     },
     "execution_count": 8,
     "metadata": {},
     "output_type": "execute_result"
    }
   ],
   "source": [
    "a = \"ravi\"\n",
    "b = \"teja\"\n",
    "c = \"\".join([x+y for x,y in zip(a,b)])\n",
    "c"
   ]
  },
  {
   "cell_type": "markdown",
   "id": "2daf73fc-fd47-4340-9f74-7f3c1235b434",
   "metadata": {},
   "source": [
    "# time consumption Decorator code"
   ]
  },
  {
   "cell_type": "code",
   "execution_count": 2,
   "id": "0a6b036d-55c5-46d0-a0f0-f2988143b02c",
   "metadata": {},
   "outputs": [
    {
     "name": "stdout",
     "output_type": "stream",
     "text": [
      "0\n",
      "1\n",
      "2\n",
      "3\n",
      "4\n",
      "5\n",
      "6\n",
      "7\n",
      "8\n",
      "9\n",
      "Execution time: 0.000999 seconds\n"
     ]
    }
   ],
   "source": [
    "import time\n",
    "\n",
    "def time_consumption(func):\n",
    "    def wrapper(*args, **kwargs):\n",
    "        start = time.time()   \n",
    "        result = func(*args, **kwargs)   \n",
    "        end = time.time()  \n",
    "        execution_time = end - start   \n",
    "        print(f\"Execution time: {execution_time:.6f} seconds\")   \n",
    "        return result   \n",
    "    return wrapper\n",
    "\n",
    "@time_consumption\n",
    "def nums(n):\n",
    "    for i in range(n):\n",
    "        print(i)\n",
    "\n",
    "nums(10)"
   ]
  },
  {
   "cell_type": "code",
   "execution_count": 11,
   "id": "65c3e183-8126-4723-b7ae-b18047ec051d",
   "metadata": {},
   "outputs": [
    {
     "data": {
      "text/plain": [
       "[[1, 2, 3], [4, 5, 6], [7, 8, 9]]"
      ]
     },
     "execution_count": 11,
     "metadata": {},
     "output_type": "execute_result"
    }
   ],
   "source": [
    "matrix = []\n",
    "val = 1\n",
    "for i in range(3):\n",
    "    row = []\n",
    "    for j in range(3):\n",
    "        row.append(val)\n",
    "        val+=1\n",
    "    matrix.append(row)\n",
    "matrix"
   ]
  },
  {
   "cell_type": "code",
   "execution_count": 12,
   "id": "2ebb82a0-cebb-4b54-9ee7-273c224a2e2b",
   "metadata": {},
   "outputs": [
    {
     "data": {
      "text/plain": [
       "[[1, 2, 3], [4, 5, 6], [7, 8, 9]]"
      ]
     },
     "execution_count": 12,
     "metadata": {},
     "output_type": "execute_result"
    }
   ],
   "source": [
    "val = [[ j+i*3+1 for j in range(3)]for i in range(3)]\n",
    "val"
   ]
  },
  {
   "cell_type": "code",
   "execution_count": 21,
   "id": "0991f751-d582-4495-b360-d2108ad0c79d",
   "metadata": {},
   "outputs": [
    {
     "data": {
      "text/plain": [
       "[2, 3, 4, 7, 8, 5, 9]"
      ]
     },
     "execution_count": 21,
     "metadata": {},
     "output_type": "execute_result"
    }
   ],
   "source": [
    "# Union all\n",
    "x = [2, 3, 4, 7, 8]\n",
    "y = [5, 9, 2, 8, 3]\n",
    "n = x+[i for i in y if i not in x]\n",
    "n"
   ]
  },
  {
   "cell_type": "code",
   "execution_count": 23,
   "id": "39102dcb-3ce1-4d8d-9f2e-c28b8d418657",
   "metadata": {},
   "outputs": [
    {
     "data": {
      "text/plain": [
       "[2, 3, 8]"
      ]
     },
     "execution_count": 23,
     "metadata": {},
     "output_type": "execute_result"
    }
   ],
   "source": [
    "# matched values\n",
    "x = [2, 3, 4, 7, 8]\n",
    "y = [5, 9, 2, 8, 3]\n",
    "n = [i for i in x if i in y]\n",
    "n"
   ]
  },
  {
   "cell_type": "code",
   "execution_count": 24,
   "id": "115a9cac-280a-4bfa-8341-581715d3bfc4",
   "metadata": {},
   "outputs": [
    {
     "data": {
      "text/plain": [
       "[4, 7, 5, 9]"
      ]
     },
     "execution_count": 24,
     "metadata": {},
     "output_type": "execute_result"
    }
   ],
   "source": [
    "# unique elements\n",
    "x = [2, 3, 4, 7, 8]\n",
    "y = [5, 9, 2, 8, 3]\n",
    "n = [i for i in x if i not in y] + [j for j in y if j not in x]\n",
    "n\n"
   ]
  },
  {
   "cell_type": "code",
   "execution_count": 30,
   "id": "4222bbfb-c70d-45db-8d09-c73195e8fb5e",
   "metadata": {},
   "outputs": [
    {
     "data": {
      "text/plain": [
       "3"
      ]
     },
     "execution_count": 30,
     "metadata": {},
     "output_type": "execute_result"
    }
   ],
   "source": [
    "# count common ele\n",
    "x = [2, 3, 4, 7, 8]\n",
    "y = [5, 9, 2, 8, 3]\n",
    "n = [i for i in x if i in y]\n",
    "count = 0\n",
    "for i in x:\n",
    "    if i   in y:\n",
    "        count+=1\n",
    "count\n"
   ]
  },
  {
   "cell_type": "code",
   "execution_count": 42,
   "id": "c598c32c-9cc4-4fe7-af78-17360876a1ff",
   "metadata": {},
   "outputs": [
    {
     "name": "stdout",
     "output_type": "stream",
     "text": [
      "No\n"
     ]
    }
   ],
   "source": [
    "# disjoint\n",
    "x = [2, 3, 4, 7, 8]\n",
    "y = [5, 9, 2, 8, 3]\n",
    "dis = True\n",
    "for i in x:\n",
    "    if i in y:\n",
    "        dis = False\n",
    "        break\n",
    "if dis:\n",
    "    print(\"yes\")\n",
    "else:\n",
    "    print(\"No\")"
   ]
  },
  {
   "cell_type": "code",
   "execution_count": 37,
   "id": "91f81c7e-47af-4cb3-b1f0-18f1fed9c361",
   "metadata": {},
   "outputs": [
    {
     "data": {
      "text/plain": [
       "[2, 3, 8]"
      ]
     },
     "execution_count": 37,
     "metadata": {},
     "output_type": "execute_result"
    }
   ],
   "source": [
    "# common ele\n",
    "x = [2, 3, 4, 7, 8]\n",
    "y = [5, 9, 2, 8, 3]\n",
    "z = [2, 8, 10, 3]\n",
    "n = [i for i in x if i in y and i in z]\n",
    "n"
   ]
  },
  {
   "cell_type": "code",
   "execution_count": null,
   "id": "7bcc73a3-7614-4f77-8367-297ab8193f3b",
   "metadata": {},
   "outputs": [],
   "source": [
    "# Daily Dose"
   ]
  },
  {
   "cell_type": "code",
   "execution_count": null,
   "id": "28bddd46-4cb5-4456-a23c-b49a55f30795",
   "metadata": {},
   "outputs": [],
   "source": [
    "# string manipulation questions"
   ]
  },
  {
   "cell_type": "code",
   "execution_count": 20,
   "id": "b8f34c15-7d0a-4c0b-9f2c-4e638db4b3f7",
   "metadata": {},
   "outputs": [
    {
     "name": "stdout",
     "output_type": "stream",
     "text": [
      "hc ahmisraN\n"
     ]
    }
   ],
   "source": [
    "def reverse_string(s):\n",
    "    rev = \"\"\n",
    "    for i in s:\n",
    "        rev=i+rev\n",
    "    return rev\n",
    "print(reverse_string(\"Narsimha\"))"
   ]
  },
  {
   "cell_type": "code",
   "execution_count": 14,
   "id": "ea53f11f-0ae9-48b8-80cf-8bc7632ef45f",
   "metadata": {},
   "outputs": [
    {
     "name": "stdout",
     "output_type": "stream",
     "text": [
      "Chellaboina Narsimha \n"
     ]
    }
   ],
   "source": [
    "def rev_str(s):\n",
    "    string = s.split()\n",
    "    rev = \"\"\n",
    "    for i in string:\n",
    "        rev=i+\" \"+rev\n",
    "    return \"\".join(rev)\n",
    "print(rev_str(\"Narsimha Chellaboina\"))"
   ]
  },
  {
   "cell_type": "code",
   "execution_count": 16,
   "id": "6050011d-b78d-439b-99dc-f6a931d24a21",
   "metadata": {},
   "outputs": [
    {
     "name": "stdout",
     "output_type": "stream",
     "text": [
      "True\n",
      "False\n"
     ]
    }
   ],
   "source": [
    "def is_palindrome(string):\n",
    "    val = string.lower()\n",
    "    start, end = 0, len(val) - 1   \n",
    "    while start < end:\n",
    "        if val[start] != val[end]:\n",
    "            return False\n",
    "        start += 1\n",
    "        end -= 1\n",
    "    return True\n",
    "print(is_palindrome(\"madam\"))\n",
    "print(is_palindrome(\"Narsimha\"))\n"
   ]
  },
  {
   "cell_type": "code",
   "execution_count": 17,
   "id": "4db030ab-ff97-4efe-ad3b-01b24f2797e9",
   "metadata": {},
   "outputs": [
    {
     "name": "stdout",
     "output_type": "stream",
     "text": [
      "2\n"
     ]
    }
   ],
   "source": [
    "def words(s):\n",
    "    return len(s.split())\n",
    "print(words(\"hello world\"))"
   ]
  },
  {
   "cell_type": "code",
   "execution_count": 23,
   "id": "577f513f-e155-4cae-b9dd-3604a99a9229",
   "metadata": {},
   "outputs": [
    {
     "name": "stdout",
     "output_type": "stream",
     "text": [
      "a\n"
     ]
    }
   ],
   "source": [
    "def most_freq_char(s):\n",
    "    seen = {}\n",
    "    for i in s:\n",
    "        if i != \" \":\n",
    "            if i in seen:\n",
    "                seen[i] += 1\n",
    "            else:\n",
    "                seen[i] = 1   \n",
    "\n",
    "    maxy = 0\n",
    "    common = None\n",
    "    for key, val in seen.items():\n",
    "        if val > maxy:\n",
    "            maxy = val\n",
    "            common = key  \n",
    "\n",
    "    return common\n",
    "\n",
    "print(most_freq_char(\"Narsimha chellaboina\"))\n"
   ]
  },
  {
   "cell_type": "code",
   "execution_count": 31,
   "id": "d4b9a6b4-1052-4cfe-8fe4-fcc5e0b0e955",
   "metadata": {},
   "outputs": [
    {
     "name": "stdout",
     "output_type": "stream",
     "text": [
      "a\n"
     ]
    }
   ],
   "source": [
    "def remove_duplicates(s):\n",
    "    vals = \"\"\n",
    "    removed_char = \"\"\n",
    "    for i in s:\n",
    "        if s.count(i)>1 and i not in removed_char:\n",
    "            removed_char+=i\n",
    "        if i not in vals:\n",
    "            vals+=i\n",
    "    return removed_char\n",
    "print(remove_duplicates(\"Narsimha\"))"
   ]
  },
  {
   "cell_type": "code",
   "execution_count": 3,
   "id": "06ad5d70-87b4-4e1f-bb9a-4404fb32eb57",
   "metadata": {},
   "outputs": [
    {
     "name": "stdout",
     "output_type": "stream",
     "text": [
      "{'l': 1, 'i': 1, 's': 1, 't': 1, 'e': 1, 'n': 1} {'s': 1, 'i': 1, 'l': 1, 'e': 1, 'n': 1, 't': 1}\n",
      "True\n"
     ]
    }
   ],
   "source": [
    "def anagrams(str1,str2):\n",
    "    if len(str1)!=len(str2):\n",
    "        return False\n",
    "    count1,count2 = {},{}\n",
    "    for char in str1:\n",
    "        count1[char]=count1.get(char,0)+1\n",
    "    for char in str2:\n",
    "        count2[char] = count2.get(char,0)+1\n",
    "    return count1 == count2\n",
    "print(anagrams(\"listen\", \"silent\"))\n",
    "        "
   ]
  },
  {
   "cell_type": "code",
   "execution_count": 38,
   "id": "ac39ae30-7958-439d-9540-038dd10ac7b3",
   "metadata": {},
   "outputs": [
    {
     "name": "stdout",
     "output_type": "stream",
     "text": [
      "['N', 'r', 's', 'i', 'm', 'h']\n"
     ]
    }
   ],
   "source": [
    "def first_unique_char(s):\n",
    "    unique = {}\n",
    "    res = []\n",
    "    for i in s:\n",
    "        unique[i] = unique.get(i,0)+1\n",
    "    for i in s:\n",
    "        if unique[i]==1:\n",
    "            res.append(i)\n",
    "    return res if res else None\n",
    "print(first_unique_char(\"Narsimha\"))"
   ]
  },
  {
   "cell_type": "code",
   "execution_count": 39,
   "id": "7832d2b3-b8d3-4b0b-bae5-6b805dfae295",
   "metadata": {},
   "outputs": [
    {
     "name": "stdout",
     "output_type": "stream",
     "text": [
      "3\n"
     ]
    }
   ],
   "source": [
    "def vowels_in_str(s):\n",
    "    vowles = \"aeiou\"\n",
    "    str1 = s.lower()\n",
    "    return sum(1 for i in str1 if i in vowles)\n",
    "print(vowels_in_str(\"Narsimha\"))"
   ]
  },
  {
   "cell_type": "code",
   "execution_count": 40,
   "id": "34abf3d5-2a30-424f-baf6-fb90d32f6740",
   "metadata": {},
   "outputs": [
    {
     "name": "stdout",
     "output_type": "stream",
     "text": [
      "chellaboina\n"
     ]
    }
   ],
   "source": [
    "def longest_word_string(s):\n",
    "    str1 = s.split()\n",
    "    return max(str1,key=len)\n",
    "print(longest_word_string(\"Narsimha chellaboina goud\"))"
   ]
  },
  {
   "cell_type": "code",
   "execution_count": 44,
   "id": "d3649e65-1bd4-45df-bb3d-7b62d72eb2ee",
   "metadata": {},
   "outputs": [
    {
     "name": "stdout",
     "output_type": "stream",
     "text": [
      "geekskeeg\n"
     ]
    }
   ],
   "source": [
    "def longest_palindrome(string):\n",
    "    length = 0\n",
    "    palindrom_str = ''\n",
    "    for i in range(len(string)):\n",
    "        for j in range(i+1,len(string)):\n",
    "            match = string[i:j]\n",
    "            if match == match[::-1] and len(match) > len(palindrom_str):\n",
    "                palindrom_str = match\n",
    "                length = len(match)\n",
    "    return palindrom_str\n",
    "                \n",
    "print(longest_palindrome(\"forgeekskeegfor\"))"
   ]
  },
  {
   "cell_type": "code",
   "execution_count": null,
   "id": "10500835-cdda-4723-9dc7-787828f9f518",
   "metadata": {},
   "outputs": [],
   "source": []
  },
  {
   "cell_type": "code",
   "execution_count": null,
   "id": "21067392-e824-4c1a-95b0-7ebff52524ae",
   "metadata": {},
   "outputs": [],
   "source": []
  },
  {
   "cell_type": "code",
   "execution_count": null,
   "id": "5428be67-7597-41ef-9e34-62fe48d64a9c",
   "metadata": {},
   "outputs": [],
   "source": []
  },
  {
   "cell_type": "code",
   "execution_count": null,
   "id": "3c68a0fc-d432-4d1a-b013-3a59a6b6dc09",
   "metadata": {},
   "outputs": [],
   "source": []
  },
  {
   "cell_type": "code",
   "execution_count": null,
   "id": "49cb9e7f-1caa-4a4f-be15-2f27950714f0",
   "metadata": {},
   "outputs": [],
   "source": []
  },
  {
   "cell_type": "code",
   "execution_count": null,
   "id": "87e5ba84-ffa6-418b-9094-47ee41df52b3",
   "metadata": {},
   "outputs": [],
   "source": []
  },
  {
   "cell_type": "code",
   "execution_count": null,
   "id": "07104a51-c7ff-46ad-9896-20cb67836e9f",
   "metadata": {},
   "outputs": [],
   "source": []
  },
  {
   "cell_type": "code",
   "execution_count": null,
   "id": "1a2899a7-473a-4233-bc95-ca1902cddb13",
   "metadata": {},
   "outputs": [],
   "source": []
  },
  {
   "cell_type": "code",
   "execution_count": null,
   "id": "0aa46890-178a-413d-9708-4c8f4f52ed6b",
   "metadata": {},
   "outputs": [],
   "source": []
  },
  {
   "cell_type": "code",
   "execution_count": null,
   "id": "1ea83808-7b37-4ff5-9620-7db903ceb11e",
   "metadata": {},
   "outputs": [],
   "source": []
  },
  {
   "cell_type": "code",
   "execution_count": null,
   "id": "a175fa81-5940-4157-8511-ee020a86fdd7",
   "metadata": {},
   "outputs": [],
   "source": []
  },
  {
   "cell_type": "code",
   "execution_count": null,
   "id": "b9b8d0a2-1a40-4f51-80db-503bede9b2be",
   "metadata": {},
   "outputs": [],
   "source": []
  },
  {
   "cell_type": "code",
   "execution_count": null,
   "id": "bb010e76-fa2e-483c-94fc-6fe2a2d397e4",
   "metadata": {},
   "outputs": [],
   "source": []
  },
  {
   "cell_type": "code",
   "execution_count": null,
   "id": "98b78f50-eb34-4644-b4bf-1c4f3389456b",
   "metadata": {},
   "outputs": [],
   "source": []
  },
  {
   "cell_type": "code",
   "execution_count": null,
   "id": "8b5408bb-44bd-4924-b9aa-740ef144c08e",
   "metadata": {},
   "outputs": [],
   "source": []
  },
  {
   "cell_type": "code",
   "execution_count": null,
   "id": "a1c102e4-6b93-4229-8a4e-99eaa9682d3c",
   "metadata": {},
   "outputs": [],
   "source": []
  },
  {
   "cell_type": "code",
   "execution_count": null,
   "id": "44857ee1-7658-4123-ba7f-e22cf73e6def",
   "metadata": {},
   "outputs": [],
   "source": []
  },
  {
   "cell_type": "code",
   "execution_count": null,
   "id": "bcbc37a4-55cb-49ff-aad4-14c167fc62f1",
   "metadata": {},
   "outputs": [],
   "source": []
  },
  {
   "cell_type": "code",
   "execution_count": null,
   "id": "bdc00ebb-ae05-4d96-a251-39dc496ec008",
   "metadata": {},
   "outputs": [],
   "source": []
  },
  {
   "cell_type": "code",
   "execution_count": null,
   "id": "54a6f774-5093-4d80-b879-5da77a1b751a",
   "metadata": {},
   "outputs": [],
   "source": []
  }
 ],
 "metadata": {
  "kernelspec": {
   "display_name": "Python 3 (ipykernel)",
   "language": "python",
   "name": "python3"
  },
  "language_info": {
   "codemirror_mode": {
    "name": "ipython",
    "version": 3
   },
   "file_extension": ".py",
   "mimetype": "text/x-python",
   "name": "python",
   "nbconvert_exporter": "python",
   "pygments_lexer": "ipython3",
   "version": "3.13.5"
  }
 },
 "nbformat": 4,
 "nbformat_minor": 5
}
