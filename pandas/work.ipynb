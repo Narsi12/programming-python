{
 "cells": [
  {
   "cell_type": "code",
   "execution_count": 8,
   "id": "385bdd1b-6966-40cf-8274-b2dfb399410f",
   "metadata": {},
   "outputs": [
    {
     "name": "stdout",
     "output_type": "stream",
     "text": [
      "     A      B\n",
      "I    1  apple\n",
      "II   3  mango\n",
      "III  4   gova\n",
      "<class 'pandas.core.frame.DataFrame'>\n",
      "Index: 3 entries, I to III\n",
      "Data columns (total 2 columns):\n",
      " #   Column  Non-Null Count  Dtype \n",
      "---  ------  --------------  ----- \n",
      " 0   A       3 non-null      int64 \n",
      " 1   B       3 non-null      object\n",
      "dtypes: int64(1), object(1)\n",
      "memory usage: 72.0+ bytes\n",
      "None\n",
      "              A\n",
      "count  3.000000\n",
      "mean   2.666667\n",
      "std    1.527525\n",
      "min    1.000000\n",
      "25%    2.000000\n",
      "50%    3.000000\n",
      "75%    3.500000\n",
      "max    4.000000\n",
      "(3, 2)\n",
      "Index(['A', 'B'], dtype='object')\n",
      "A     int64\n",
      "B    object\n",
      "dtype: object\n"
     ]
    }
   ],
   "source": [
    "import pandas as pd\n",
    "data = {\n",
    "    \"A\":[1,3,4],\"B\":[\"apple\",\"mango\",\"gova\"]\n",
    "}\n",
    "read = pd.DataFrame(data,index=['I',\"II\",\"III\"])\n",
    "print(read)\n",
    "print(read.info())\n",
    "print(read.describe())\n",
    "print(read.shape)\n",
    "print(read.columns)\n",
    "print(read.dtypes)"
   ]
  },
  {
   "cell_type": "code",
   "execution_count": 9,
   "id": "98aa5b8f-395b-4be1-882d-fcc05026c432",
   "metadata": {},
   "outputs": [
    {
     "name": "stdout",
     "output_type": "stream",
     "text": [
      "   SNO                                                                   Task                                                                                                            Description       Status           Owner Start Date   End Date                                                               Blockers and Dependencies                                                                                                                                                  Remarks\n",
      "0    1                        Understand the current version of the SAQE code               Coordinate with Mohan to obtain and review the current version of the SAQE code for better understanding  In progress  Shridhar Patil 2025-08-26 2025-09-05  Need access to Windows Server Vizag 192.168.110.110, Need sophos vpn access for vizag   Mohan asked to connect with Praveen,as the code is residing at Windows Server in Vizag 192.168.110.110 , which I need to download and setup in my local\n",
      "1    2                                             RIM JIRA Setup Walkthrough  Coordinate with Farheen to review the RiM JIRA setup and gain understanding of the data configuration and API details  In progress  Shridhar Patil 2025-08-26 2025-09-05                                                     SAQE project need to setup in local                            Discussion started , received excel sheet for dataset from farheen, showed jira of RIM , later I would need jira credentials \n",
      "2    3  Enhance SAQE code for JIRA data extraction and feature implementation                                                                                             Predictive test management  Not Started  Shridhar Patil 2025-09-01 2025-09-12                                                     SAQE project need to setup in local                                                                                                                  Allocated 2 working weeks for each task\n",
      "3    4  Enhance SAQE code for JIRA data extraction and feature implementation                                                                                   Test optimization and prioritization  Not Started  Shridhar Patil 2025-09-15 2025-09-26                                                     SAQE project need to setup in local                                                                                                                  Allocated 2 working weeks for each task\n",
      "4    5  Enhance SAQE code for JIRA data extraction and feature implementation                                                                                                     Defect Predication  Not Started  Shridhar Patil 2025-09-29 2025-10-10                                                     SAQE project need to setup in local                                                                                                                  Allocated 2 working weeks for each task\n",
      "5    6  Enhance SAQE code for JIRA data extraction and feature implementation                                                                                                    Root cause analysis  Not Started  Shridhar Patil 2025-10-13 2025-10-24                                                     SAQE project need to setup in local                                                                                                                  Allocated 2 working weeks for each task\n",
      "6    7                                                     Code Base Analysis                                                                                                     Code Base Analysis  Not Started  Shridhar Patil 2025-10-27 2025-11-07                                                     SAQE project need to setup in local                                                                                                                  Allocated 2 working weeks for each task\n"
     ]
    }
   ],
   "source": [
    "data = pd.read_excel(\"SAQE (1).xlsx\")\n",
    "print(data.to_string())\n",
    "                     "
   ]
  },
  {
   "cell_type": "code",
   "execution_count": 20,
   "id": "91c9f916-29a2-4166-ae55-2df9920809a7",
   "metadata": {},
   "outputs": [
    {
     "name": "stdout",
     "output_type": "stream",
     "text": [
      "       Name  Age       City\n",
      "a  Narsimha   25  Hyderabad\n",
      "b    Ganesh   27     Mumbai\n",
      "c       Sai   24    Chennai\n",
      "d      Abhi   26      Delhi\n"
     ]
    }
   ],
   "source": [
    "data = {\n",
    "    \"Name\": [\"Narsimha\", \"Ganesh\", \"Sai\", \"Abhi\"],\n",
    "    \"Age\": [25, 27, 24, 26],\n",
    "    \"City\": [\"Hyderabad\", \"Mumbai\", \"Chennai\", \"Delhi\"]\n",
    "}\n",
    "np = pd.DataFrame(data,index=[\"a\",\"b\",\"c\",\"d\"]) # cloumns selction\n",
    "print(np[[\"Name\",\"Age\"]]) # selecting multiple columns\n",
    "print(np.loc[\"a\"]) # row selction\n",
    "print(np.loc[[\"a\",\"b\"]]) # multiple row selction\n",
    "\n",
    "# positions selction\n",
    "print(np.iloc[0]) # select the first row\n",
    "print(np.iloc[0:]) # select the entire dataframe with slicing\n",
    "print(np.iloc[0:2]) # select the range dataframe with slicing"
   ]
  },
  {
   "cell_type": "code",
   "execution_count": null,
   "id": "6e734c93-b0ed-4aee-bbe1-7630d5a20627",
   "metadata": {},
   "outputs": [],
   "source": []
  },
  {
   "cell_type": "code",
   "execution_count": null,
   "id": "e7667449-76a2-4699-99e8-bc1c1395165c",
   "metadata": {},
   "outputs": [],
   "source": []
  },
  {
   "cell_type": "code",
   "execution_count": null,
   "id": "8e7b7c57-c5d6-416d-b4ae-295fc786fe73",
   "metadata": {},
   "outputs": [],
   "source": []
  },
  {
   "cell_type": "code",
   "execution_count": null,
   "id": "f212bb1b-ee26-41ba-9cdc-f0b582dc54df",
   "metadata": {},
   "outputs": [],
   "source": []
  },
  {
   "cell_type": "code",
   "execution_count": null,
   "id": "1035c197-03a4-42fd-acb6-e69e4a756b4d",
   "metadata": {},
   "outputs": [],
   "source": []
  },
  {
   "cell_type": "code",
   "execution_count": null,
   "id": "3bef2871-4738-4b22-acbe-516ad74f1819",
   "metadata": {},
   "outputs": [],
   "source": []
  },
  {
   "cell_type": "code",
   "execution_count": null,
   "id": "2aae822b-18bc-4530-be38-0d7183ae79bb",
   "metadata": {},
   "outputs": [],
   "source": []
  },
  {
   "cell_type": "code",
   "execution_count": null,
   "id": "2d8c31fb-6e7c-4885-ada2-acb3ca9f885e",
   "metadata": {},
   "outputs": [],
   "source": []
  },
  {
   "cell_type": "code",
   "execution_count": null,
   "id": "0321e7e5-6f4a-4707-a7ad-2d30207643d4",
   "metadata": {},
   "outputs": [],
   "source": []
  },
  {
   "cell_type": "code",
   "execution_count": null,
   "id": "65827075-f759-455a-8ebd-6ddb465cb3ff",
   "metadata": {},
   "outputs": [],
   "source": []
  },
  {
   "cell_type": "code",
   "execution_count": null,
   "id": "d0d5b8ce-3b91-4a07-aef2-104013ef2c79",
   "metadata": {},
   "outputs": [],
   "source": []
  },
  {
   "cell_type": "code",
   "execution_count": null,
   "id": "2d7136d7-abf3-4748-bed0-2eb556325fe0",
   "metadata": {},
   "outputs": [],
   "source": []
  },
  {
   "cell_type": "code",
   "execution_count": null,
   "id": "ea7f2aba-fa5b-4e7e-be1b-0fbb07e12f8e",
   "metadata": {},
   "outputs": [],
   "source": []
  },
  {
   "cell_type": "code",
   "execution_count": null,
   "id": "1e4b6f2a-ce8b-4922-9a5e-169fd52ff12c",
   "metadata": {},
   "outputs": [],
   "source": []
  },
  {
   "cell_type": "code",
   "execution_count": null,
   "id": "a37f9f45-c98f-435c-a9d6-493fd113d036",
   "metadata": {},
   "outputs": [],
   "source": []
  }
 ],
 "metadata": {
  "kernelspec": {
   "display_name": "Python 3 (ipykernel)",
   "language": "python",
   "name": "python3"
  },
  "language_info": {
   "codemirror_mode": {
    "name": "ipython",
    "version": 3
   },
   "file_extension": ".py",
   "mimetype": "text/x-python",
   "name": "python",
   "nbconvert_exporter": "python",
   "pygments_lexer": "ipython3",
   "version": "3.13.5"
  }
 },
 "nbformat": 4,
 "nbformat_minor": 5
}
