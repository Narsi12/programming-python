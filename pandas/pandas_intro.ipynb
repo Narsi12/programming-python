{
 "cells": [
  {
   "cell_type": "markdown",
   "id": "1f8bbeac-7b80-4c1f-a4fa-1b2caa409760",
   "metadata": {},
   "source": [
    "# Pandas is Python library used for data analysis and data manipulation.\n",
    "# It provides data structures (mainly Series and DataFrame) that make it easy to work with structured data (like tables, spreadsheets, databases).\n",
    "# Series → one-dimensional labeled array (like a column in Excel).\n",
    "# DataFrame → two-dimensional labeled data structure (like an Excel sheet or SQL table).\n",
    "With Pandas, you can:\n",
    "#  --->Load data from CSV, Excel, JSON, SQL, etc.\n",
    "#  --->Clean, filter, and transform datasets.\n",
    "#  --->Perform calculations and aggregations.\n",
    "#  --->Handle time-series and missing values.\n",
    "#  --->Merge, join, and reshape datasets.\n",
    "⚡ In short:\n",
    "# Pandas = Python’s data handling powerhouse, making raw data analysis-friendly."
   ]
  },
  {
   "cell_type": "code",
   "execution_count": null,
   "id": "c22c90cb-1012-44f2-b47c-8c65aa428005",
   "metadata": {},
   "outputs": [],
   "source": [
    "import pandas as pd\n",
    "data = {\n",
    "    \"personas\":[\"narsimha\",\"sai\",\"ganesh\",\"abhi\"],\n",
    "    \"ages\":[25,24,27,26]\n",
    "}\n",
    "vals = pd.DataFrame(data)\n",
    "print(vals)"
   ]
  },
  {
   "cell_type": "code",
   "execution_count": 4,
   "id": "0412e9b2-c9c9-4446-9532-db1bd43ed6b5",
   "metadata": {},
   "outputs": [
    {
     "name": "stdout",
     "output_type": "stream",
     "text": [
      "2.3.2\n"
     ]
    }
   ],
   "source": [
    "print(pd.__version__)"
   ]
  },
  {
   "cell_type": "code",
   "execution_count": 5,
   "id": "3a2aa2c1-af4c-4985-b047-6e1731d3032d",
   "metadata": {},
   "outputs": [
    {
     "name": "stdout",
     "output_type": "stream",
     "text": [
      "0    1\n",
      "1    2\n",
      "2    3\n",
      "3    4\n",
      "4    6\n",
      "dtype: int64\n"
     ]
    }
   ],
   "source": [
    "a = [1,2,3,4,6]\n",
    "myvar = pd.Series(a)\n",
    "print(myvar)"
   ]
  },
  {
   "cell_type": "code",
   "execution_count": null,
   "id": "8b3e0005-e94a-4812-abfa-9be923c7a317",
   "metadata": {},
   "outputs": [],
   "source": [
    "# lables = Is a name or identifier to use access the data inside 'series' or 'DataFrame'\n",
    "# It works like an index name for rows and a column name for columns"
   ]
  },
  {
   "cell_type": "code",
   "execution_count": 7,
   "id": "38ed7c1c-cc50-41cc-a61b-43de6e8f4e20",
   "metadata": {},
   "outputs": [
    {
     "data": {
      "text/plain": [
       "a     2\n",
       "b     3\n",
       "c     4\n",
       "d    55\n",
       "e     6\n",
       "dtype: int64"
      ]
     },
     "execution_count": 7,
     "metadata": {},
     "output_type": "execute_result"
    }
   ],
   "source": [
    "lst = [2,3,4,55,6]\n",
    "data = pd.Series(lst,index = [\"a\",\"b\",\"c\",\"d\",\"e\"])\n",
    "data"
   ]
  },
  {
   "cell_type": "code",
   "execution_count": 13,
   "id": "9ad6fff4-6ca9-4d05-b999-70a411094a69",
   "metadata": {},
   "outputs": [
    {
     "name": "stdout",
     "output_type": "stream",
     "text": [
      "       Name  ages\n",
      "a  Narsimha    25\n",
      "b    ganesh    27\n",
      "c       sai    24\n",
      "d      Abhi    26\n"
     ]
    }
   ],
   "source": [
    "data = {\n",
    "    \"Name\":[\"Narsimha\",\"ganesh\",\"sai\",\"Abhi\"],\n",
    "    \"ages\":[25,27,24,26]\n",
    "}\n",
    "myvar = pd.DataFrame(data,index = ['a','b','c','d'])\n",
    "print(myvar)"
   ]
  },
  {
   "cell_type": "code",
   "execution_count": 16,
   "id": "88c9dc68-e9b6-498c-abce-d67acbc2aca5",
   "metadata": {},
   "outputs": [
    {
     "name": "stdout",
     "output_type": "stream",
     "text": [
      "name    Narsimha\n",
      "age           25\n",
      "dtype: object\n"
     ]
    }
   ],
   "source": [
    "data = {\"name\":\"Narsimha\",\"age\":25,\"disgnation\":\"Softawre\"}\n",
    "vals = pd.Series(data,index=[\"name\",\"age\"])\n",
    "print(vals)"
   ]
  },
  {
   "cell_type": "code",
   "execution_count": 23,
   "id": "8547e217-3979-4e1a-b68b-fa8bb3f155f6",
   "metadata": {},
   "outputs": [
    {
     "name": "stdout",
     "output_type": "stream",
     "text": [
      "       Name  ages\n",
      "0  Narsimha    25\n",
      "1    ganesh    27\n"
     ]
    }
   ],
   "source": [
    "data = {\n",
    "    \"Name\":[\"Narsimha\",\"ganesh\",\"sai\",\"Abhi\"],\n",
    "    \"ages\":[25,27,24,26]\n",
    "}\n",
    "df = pd.DataFrame(data)\n",
    "print(df.loc[[0,1]]) # loc is used to return a one or more specified columns"
   ]
  },
  {
   "cell_type": "code",
   "execution_count": 28,
   "id": "c7193a37-3872-49c8-813c-5a3fe24177f1",
   "metadata": {},
   "outputs": [
    {
     "name": "stdout",
     "output_type": "stream",
     "text": [
      "      claories duration\n",
      "day1       280  50 mins\n",
      "day2       450  70 mins\n",
      "day3       300   1 hour\n",
      "day4       270  30 mins\n"
     ]
    }
   ],
   "source": [
    "#Named indexs\n",
    "data = {\n",
    "    \"claories\":[280,450,300,270],\n",
    "    \"duration\":[\"50 mins\",\"70 mins\",\"1 hour\",\"30 mins\"]\n",
    "}\n",
    "myVar = pd.DataFrame(data,index=[\"day1\",\"day2\",\"day3\",\"day4\"])\n",
    "print(myVar)"
   ]
  },
  {
   "cell_type": "code",
   "execution_count": 33,
   "id": "0234c5c5-780a-4cdc-acd9-5dc7b70f8625",
   "metadata": {},
   "outputs": [
    {
     "ename": "SyntaxError",
     "evalue": "invalid syntax (1239597971.py, line 5)",
     "output_type": "error",
     "traceback": [
      "  \u001b[36mCell\u001b[39m\u001b[36m \u001b[39m\u001b[32mIn[33]\u001b[39m\u001b[32m, line 5\u001b[39m\n\u001b[31m    \u001b[39m\u001b[31mprint(read.to_string())x\u001b[39m\n                           ^\n\u001b[31mSyntaxError\u001b[39m\u001b[31m:\u001b[39m invalid syntax\n"
     ]
    }
   ],
   "source": [
    "# Read CSV format data\n",
    "read = pd.read_csv(\"Saqe_sev.csv\")\n",
    "pd.options.display.max_rows = 99999\n",
    "print(\"rows count\",pd.options.display.max_rows)\n",
    "print(read.to_string())"
   ]
  },
  {
   "cell_type": "code",
   "execution_count": 35,
   "id": "23c12b8d-8a14-4d3b-ae4c-953feb31ecb5",
   "metadata": {},
   "outputs": [
    {
     "name": "stdout",
     "output_type": "stream",
     "text": [
      "     Duration  Pulse  Maxpulse  Calories\n",
      "0          60    110       130     409.1\n",
      "1          60    117       145     479.0\n",
      "2          60    103       135     340.0\n",
      "3          45    109       175     282.4\n",
      "4          45    117       148     406.0\n",
      "5          60    102       127     300.5\n",
      "6          60    110       136     374.0\n",
      "7          45    104       134     253.3\n",
      "8          30    109       133     195.1\n",
      "9          60     98       124     269.0\n",
      "10         60    103       147     329.3\n",
      "11         60    100       120     250.7\n",
      "12         60    106       128     345.3\n",
      "13         60    104       132     379.3\n",
      "14         60     98       123     275.0\n",
      "15         60     98       120     215.2\n",
      "16         60    100       120     300.0\n",
      "17         45     90       112       NaN\n",
      "18         60    103       123     323.0\n",
      "19         45     97       125     243.0\n",
      "20         60    108       131     364.2\n",
      "21         45    100       119     282.0\n",
      "22         60    130       101     300.0\n",
      "23         45    105       132     246.0\n",
      "24         60    102       126     334.5\n",
      "25         60    100       120     250.0\n",
      "26         60     92       118     241.0\n",
      "27         60    103       132       NaN\n",
      "28         60    100       132     280.0\n",
      "29         60    102       129     380.3\n",
      "30         60     92       115     243.0\n",
      "31         45     90       112     180.1\n",
      "32         60    101       124     299.0\n",
      "33         60     93       113     223.0\n",
      "34         60    107       136     361.0\n",
      "35         60    114       140     415.0\n",
      "36         60    102       127     300.5\n",
      "37         60    100       120     300.1\n",
      "38         60    100       120     300.0\n",
      "39         45    104       129     266.0\n",
      "40         45     90       112     180.1\n",
      "41         60     98       126     286.0\n",
      "42         60    100       122     329.4\n",
      "43         60    111       138     400.0\n",
      "44         60    111       131     397.0\n",
      "45         60     99       119     273.0\n",
      "46         60    109       153     387.6\n",
      "47         45    111       136     300.0\n",
      "48         45    108       129     298.0\n",
      "49         60    111       139     397.6\n",
      "50         60    107       136     380.2\n",
      "51         80    123       146     643.1\n",
      "52         60    106       130     263.0\n",
      "53         60    118       151     486.0\n",
      "54         30    136       175     238.0\n",
      "55         60    121       146     450.7\n",
      "56         60    118       121     413.0\n",
      "57         45    115       144     305.0\n",
      "58         20    153       172     226.4\n",
      "59         45    123       152     321.0\n",
      "60        210    108       160    1376.0\n",
      "61        160    110       137    1034.4\n",
      "62        160    109       135     853.0\n",
      "63         45    118       141     341.0\n",
      "64         20    110       130     131.4\n",
      "65        180     90       130     800.4\n",
      "66        150    105       135     873.4\n",
      "67        150    107       130     816.0\n",
      "68         20    106       136     110.4\n",
      "69        300    108       143    1500.2\n",
      "70        150     97       129    1115.0\n",
      "71         60    109       153     387.6\n",
      "72         90    100       127     700.0\n",
      "73        150     97       127     953.2\n",
      "74         45    114       146     304.0\n",
      "75         90     98       125     563.2\n",
      "76         45    105       134     251.0\n",
      "77         45    110       141     300.0\n",
      "78        120    100       130     500.4\n",
      "79        270    100       131    1729.0\n",
      "80         30    159       182     319.2\n",
      "81         45    149       169     344.0\n",
      "82         30    103       139     151.1\n",
      "83        120    100       130     500.0\n",
      "84         45    100       120     225.3\n",
      "85         30    151       170     300.1\n",
      "86         45    102       136     234.0\n",
      "87        120    100       157    1000.1\n",
      "88         45    129       103     242.0\n",
      "89         20     83       107      50.3\n",
      "90        180    101       127     600.1\n",
      "91         45    107       137       NaN\n",
      "92         30     90       107     105.3\n",
      "93         15     80       100      50.5\n",
      "94         20    150       171     127.4\n",
      "95         20    151       168     229.4\n",
      "96         30     95       128     128.2\n",
      "97         25    152       168     244.2\n",
      "98         30    109       131     188.2\n",
      "99         90     93       124     604.1\n",
      "100        20     95       112      77.7\n",
      "101        90     90       110     500.0\n",
      "102        90     90       100     500.0\n",
      "103        90     90       100     500.4\n",
      "104        30     92       108      92.7\n",
      "105        30     93       128     124.0\n",
      "106       180     90       120     800.3\n",
      "107        30     90       120      86.2\n",
      "108        90     90       120     500.3\n",
      "109       210    137       184    1860.4\n",
      "110        60    102       124     325.2\n",
      "111        45    107       124     275.0\n",
      "112        15    124       139     124.2\n",
      "113        45    100       120     225.3\n",
      "114        60    108       131     367.6\n",
      "115        60    108       151     351.7\n",
      "116        60    116       141     443.0\n",
      "117        60     97       122     277.4\n",
      "118        60    105       125       NaN\n",
      "119        60    103       124     332.7\n",
      "120        30    112       137     193.9\n",
      "121        45    100       120     100.7\n",
      "122        60    119       169     336.7\n",
      "123        60    107       127     344.9\n",
      "124        60    111       151     368.5\n",
      "125        60     98       122     271.0\n",
      "126        60     97       124     275.3\n",
      "127        60    109       127     382.0\n",
      "128        90     99       125     466.4\n",
      "129        60    114       151     384.0\n",
      "130        60    104       134     342.5\n",
      "131        60    107       138     357.5\n",
      "132        60    103       133     335.0\n",
      "133        60    106       132     327.5\n",
      "134        60    103       136     339.0\n",
      "135        20    136       156     189.0\n",
      "136        45    117       143     317.7\n",
      "137        45    115       137     318.0\n",
      "138        45    113       138     308.0\n",
      "139        20    141       162     222.4\n",
      "140        60    108       135     390.0\n",
      "141        60     97       127       NaN\n",
      "142        45    100       120     250.4\n",
      "143        45    122       149     335.4\n",
      "144        60    136       170     470.2\n",
      "145        45    106       126     270.8\n",
      "146        60    107       136     400.0\n",
      "147        60    112       146     361.9\n",
      "148        30    103       127     185.0\n",
      "149        60    110       150     409.4\n",
      "150        60    106       134     343.0\n",
      "151        60    109       129     353.2\n",
      "152        60    109       138     374.0\n",
      "153        30    150       167     275.8\n",
      "154        60    105       128     328.0\n",
      "155        60    111       151     368.5\n",
      "156        60     97       131     270.4\n",
      "157        60    100       120     270.4\n",
      "158        60    114       150     382.8\n",
      "159        30     80       120     240.9\n",
      "160        30     85       120     250.4\n",
      "161        45     90       130     260.4\n",
      "162        45     95       130     270.0\n",
      "163        45    100       140     280.9\n",
      "164        60    105       140     290.8\n",
      "165        60    110       145     300.4\n",
      "166        60    115       145     310.2\n",
      "167        75    120       150     320.4\n",
      "168        75    125       150     330.4\n"
     ]
    }
   ],
   "source": [
    "# read json format data\n",
    "read_json = pd.read_json(\"data.json\")\n",
    "print(read_json.to_string())"
   ]
  },
  {
   "cell_type": "code",
   "execution_count": 38,
   "id": "1f5aebaf-1fc2-4994-9c20-264fe13f144a",
   "metadata": {},
   "outputs": [
    {
     "name": "stdout",
     "output_type": "stream",
     "text": [
      "   Duration  Pulse  Maxpulse  Calories\n",
      "0        60    110       130       409\n",
      "1        60    117       145       479\n",
      "2        60    103       135       340\n",
      "3        45    109       175       282\n",
      "4        45    117       148       406\n",
      "5        60    102       127       300\n"
     ]
    }
   ],
   "source": [
    "data = {\n",
    "  \"Duration\":{\n",
    "    \"0\":60,\n",
    "    \"1\":60,\n",
    "    \"2\":60,\n",
    "    \"3\":45,\n",
    "    \"4\":45,\n",
    "    \"5\":60\n",
    "  },\n",
    "  \"Pulse\":{\n",
    "    \"0\":110,\n",
    "    \"1\":117,\n",
    "    \"2\":103,\n",
    "    \"3\":109,\n",
    "    \"4\":117,\n",
    "    \"5\":102\n",
    "  },\n",
    "  \"Maxpulse\":{\n",
    "    \"0\":130,\n",
    "    \"1\":145,\n",
    "    \"2\":135,\n",
    "    \"3\":175,\n",
    "    \"4\":148,\n",
    "    \"5\":127\n",
    "  },\n",
    "  \"Calories\":{\n",
    "    \"0\":409,\n",
    "    \"1\":479,\n",
    "    \"2\":340,\n",
    "    \"3\":282,\n",
    "    \"4\":406,\n",
    "    \"5\":300\n",
    "  }\n",
    "}\n",
    "\n",
    "dp = pd.DataFrame(data)\n",
    "print(dp.to_string())"
   ]
  },
  {
   "cell_type": "code",
   "execution_count": 44,
   "id": "737f039c-c28d-4d2c-9894-a26ac32b4de2",
   "metadata": {},
   "outputs": [
    {
     "name": "stdout",
     "output_type": "stream",
     "text": [
      "   Sprint ID TC_ID  Category                                                                   Test Case Description Test Result  Defect ID                                    Defect Description       Root cause Analysis Defect Severity\n",
      "0      Spr 1   TC1        UI          Verify whether the user is able to click on Reject RRF from pop-up dialog box.        Fail      101.0                         Unable to click on the button    Code Integration issue            Sev1\n",
      "1      Spr 1   TC2        UI  Verify whether the user is able to click on Cancel button in Reject pop-up dialog box.        Fail      102.0              Cancel button is not working as expected  Code missed to integrate            Sev2\n",
      "2      Spr 1   TC3        UI                                     Verify User able to Click on Action Button(3 Dots).        Pass        NaN                                                   NaN                       NaN             NaN\n",
      "3      Spr 1   TC4        UI                                           Verify User able to Click on Status dropdown.        Pass        NaN                                                   NaN                       NaN             NaN\n",
      "4      Spr 1   TC5       API                 Verify Hiring manager/Approver/RMG  able to click On Create Job Button.        Fail      103.0            Page 404 error upon clicking on Job button          API Service down            Sev2\n",
      "5      Spr 1   TC6       API                                            Verify User able to click on Filters Button.        Fail      104.0             Filter options not shown in the drop down   Database not responding            Sev3\n",
      "6      Spr 1   TC7       API                                           Verify user able to click on the back button.        Fail      105.0                                 Seeing 404 error page          API Service down            Sev1\n",
      "7      Spr 1   TC8       API         Verify whether the user is able to click on the submit for the approval button.        Pass        NaN                                                   NaN                       NaN             NaN\n",
      "8      Spr 1   TC9  Database                                Verify User able to edit the Permissions in Share popup.        Pass        NaN                                                   NaN                       NaN             NaN\n",
      "9      Spr 1  TC10  Database                          User able to modify the details in the budget evaluation page.        Fail      106.0  Modified details are not injecting into the database   Database not responding            Sev1\n",
      "10     Spr 1  TC11  Database   Verify whether the user is able to select one or more practices in the Filter window.        Pass        NaN                                                   NaN                       NaN             NaN\n"
     ]
    }
   ],
   "source": [
    "# head = head is used to return the specified number of rows from the top\n",
    "read = pd.read_csv(\"Saqe_sev.csv\")\n",
    "print(read.head(11).to_string())"
   ]
  },
  {
   "cell_type": "code",
   "execution_count": 45,
   "id": "bc20b03a-9025-470c-8b17-2b7a0459c775",
   "metadata": {},
   "outputs": [
    {
     "name": "stdout",
     "output_type": "stream",
     "text": [
      "   Sprint ID TC_ID     Category                                                                   Test Case Description Test Result  Defect ID                              Defect Description Root cause Analysis Defect Severity\n",
      "70     Spr 5  TC11     Database   Verify whether the user is able to select one or more practices in the Filter window.        Pass        NaN                                             NaN                 NaN             NaN\n",
      "71     Spr 5  TC12     Database  Verify whether the user is able to select one or more RRF status in the Filter window.        Fail      107.0  Multiple selection is not allowed for the user    DB services down            Sev3\n",
      "72     Spr 5  TC13  Integration                            Verify whether the user is able to click on Download button.        Pass        NaN                                             NaN                 NaN             NaN\n",
      "73     Spr 5  TC14  Integration                    Verify User able to select multiple checkboxes in location dropdown.        Pass        NaN                                             NaN                 NaN             NaN\n",
      "74     Spr 5  TC15  Integration                RRF - Verify User able to create RRF without entering Mandatory Details.        Pass        NaN                                             NaN                 NaN             NaN\n"
     ]
    }
   ],
   "source": [
    "# tail() method for viewing the last rows of the DataFrame.\n",
    "read = pd.read_csv(\"Saqe_sev.csv\")\n",
    "print(read.tail().to_string())"
   ]
  },
  {
   "cell_type": "code",
   "execution_count": 49,
   "id": "60ca03d9-2a90-4171-9f46-2267b0c727b9",
   "metadata": {},
   "outputs": [
    {
     "name": "stdout",
     "output_type": "stream",
     "text": [
      "<class 'pandas.core.frame.DataFrame'>\n",
      "Index: 2 entries, a to b\n",
      "Data columns (total 2 columns):\n",
      " #   Column  Non-Null Count  Dtype \n",
      "---  ------  --------------  ----- \n",
      " 0   name    2 non-null      object\n",
      " 1   age     2 non-null      int64 \n",
      "dtypes: int64(1), object(1)\n",
      "memory usage: 48.0+ bytes\n",
      "None\n"
     ]
    }
   ],
   "source": [
    "data = {\"name\":\"Narsimha\",\"age\":21}\n",
    "read = pd.DataFrame(data,index=[\"a\",\"b\"])\n",
    "print(read.info())"
   ]
  },
  {
   "cell_type": "code",
   "execution_count": 50,
   "id": "6814daac-00c9-4d16-99bf-4886c2649ea1",
   "metadata": {},
   "outputs": [
    {
     "name": "stdout",
     "output_type": "stream",
     "text": [
      "     A      B\n",
      "I    1  apple\n",
      "II   3  mango\n",
      "III  4   gova\n"
     ]
    }
   ],
   "source": [
    " \n",
    "data = {\n",
    "    \"A\":[1,3,4],\"B\":[\"apple\",\"mango\",\"gova\"]\n",
    "}\n",
    "read = pd.DataFrame(data,index=['I',\"II\",\"III\"])\n",
    "print(read)"
   ]
  },
  {
   "cell_type": "code",
   "execution_count": null,
   "id": "1030567a-d608-4671-b190-ab22f29cc71e",
   "metadata": {},
   "outputs": [],
   "source": []
  },
  {
   "cell_type": "code",
   "execution_count": null,
   "id": "83400a55-4089-45b1-b231-ee5725293979",
   "metadata": {},
   "outputs": [],
   "source": []
  },
  {
   "cell_type": "code",
   "execution_count": null,
   "id": "1b1efae6-a30f-4a2b-96bb-ea052727cdca",
   "metadata": {},
   "outputs": [],
   "source": []
  },
  {
   "cell_type": "code",
   "execution_count": null,
   "id": "bb462ee6-443f-45e5-a1df-22c6227f1171",
   "metadata": {},
   "outputs": [],
   "source": []
  },
  {
   "cell_type": "code",
   "execution_count": null,
   "id": "7c6e02e8-127d-4b0b-845e-b42710231fc7",
   "metadata": {},
   "outputs": [],
   "source": []
  },
  {
   "cell_type": "code",
   "execution_count": null,
   "id": "7b1c69a4-ec45-4ea4-a36c-3ea13adc9b2e",
   "metadata": {},
   "outputs": [],
   "source": []
  },
  {
   "cell_type": "code",
   "execution_count": null,
   "id": "d3f26423-c125-4bdb-8a6d-3fc396a80413",
   "metadata": {},
   "outputs": [],
   "source": []
  },
  {
   "cell_type": "code",
   "execution_count": null,
   "id": "f3030c1c-6c66-4a31-babd-2eec6bfb6e19",
   "metadata": {},
   "outputs": [],
   "source": []
  },
  {
   "cell_type": "code",
   "execution_count": null,
   "id": "f5fda1fc-233c-45aa-b8b7-90d401568daf",
   "metadata": {},
   "outputs": [],
   "source": []
  },
  {
   "cell_type": "code",
   "execution_count": null,
   "id": "54ffe91a-78c8-4ecc-a107-d951bff8f8e8",
   "metadata": {},
   "outputs": [],
   "source": []
  },
  {
   "cell_type": "code",
   "execution_count": null,
   "id": "a603f752-9532-4f1c-aa37-196f29634c5c",
   "metadata": {},
   "outputs": [],
   "source": []
  }
 ],
 "metadata": {
  "kernelspec": {
   "display_name": "Python 3 (ipykernel)",
   "language": "python",
   "name": "python3"
  },
  "language_info": {
   "codemirror_mode": {
    "name": "ipython",
    "version": 3
   },
   "file_extension": ".py",
   "mimetype": "text/x-python",
   "name": "python",
   "nbconvert_exporter": "python",
   "pygments_lexer": "ipython3",
   "version": "3.13.5"
  }
 },
 "nbformat": 4,
 "nbformat_minor": 5
}
