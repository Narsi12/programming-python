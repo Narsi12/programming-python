{
 "cells": [
  {
   "cell_type": "code",
   "execution_count": 2,
   "id": "6df87bb9-e767-4a14-9b82-4eb0e75ffe22",
   "metadata": {},
   "outputs": [
    {
     "data": {
      "text/plain": [
       "[2, 4, 6]"
      ]
     },
     "execution_count": 2,
     "metadata": {},
     "output_type": "execute_result"
    }
   ],
   "source": [
    "data = [2,4,5,6,7,9]\n",
    "x = list(filter(lambda x : x%2==0,data))\n",
    "x"
   ]
  },
  {
   "cell_type": "code",
   "execution_count": 1,
   "id": "78da8f0a-5161-4841-af6b-b8443d40d8f5",
   "metadata": {},
   "outputs": [
    {
     "data": {
      "text/plain": [
       "[4, 16, 25, 36, 49, 81]"
      ]
     },
     "execution_count": 1,
     "metadata": {},
     "output_type": "execute_result"
    }
   ],
   "source": [
    "data = [2,4,5,6,7,9]\n",
    "x = list(map(lambda x : x**2,data))\n",
    "x\n",
    "9345889955\n"
   ]
  },
  {
   "cell_type": "code",
   "execution_count": 5,
   "id": "de8b7258-0311-4a05-b440-758cdd958a63",
   "metadata": {},
   "outputs": [
    {
     "data": {
      "text/plain": [
       "33"
      ]
     },
     "execution_count": 5,
     "metadata": {},
     "output_type": "execute_result"
    }
   ],
   "source": [
    "from functools import reduce\n",
    "data = [2,4,5,6,7,9]\n",
    "x = reduce(lambda x,y:x+y,data)\n",
    "x"
   ]
  },
  {
   "cell_type": "code",
   "execution_count": 11,
   "id": "57cf2210-b1be-4acb-a589-23b2ff9a2e1a",
   "metadata": {},
   "outputs": [
    {
     "data": {
      "text/plain": [
       "5"
      ]
     },
     "execution_count": 11,
     "metadata": {},
     "output_type": "execute_result"
    }
   ],
   "source": [
    "(lambda x, y: x + y)(2, 3)"
   ]
  },
  {
   "cell_type": "markdown",
   "id": "0256bf87-2a43-485c-8a77-605ae0199f55",
   "metadata": {},
   "source": [
    "# shallow copy and deep copy"
   ]
  },
  {
   "cell_type": "code",
   "execution_count": 12,
   "id": "8b5a8d35-0535-4cb6-803e-1dc1b8e9d947",
   "metadata": {},
   "outputs": [
    {
     "name": "stdout",
     "output_type": "stream",
     "text": [
      "[1, 2, [99, 4]]\n",
      "[1, 2, [99, 4]]\n"
     ]
    }
   ],
   "source": [
    "import copy\n",
    "original_list = [1,2,[3,4]]\n",
    "shallow_copied_object = copy.copy(original_list)\n",
    "original_list[2][0]=99\n",
    "print(original_list)\n",
    "print(shallow_copied_object)"
   ]
  },
  {
   "cell_type": "code",
   "execution_count": 14,
   "id": "91c04a25-fbfc-44f2-987a-e5df5fb1264c",
   "metadata": {},
   "outputs": [
    {
     "name": "stdout",
     "output_type": "stream",
     "text": [
      "[1, 2, [99, 4]]\n",
      "[1, 2, [3, 4]]\n"
     ]
    }
   ],
   "source": [
    "import copy\n",
    "original_list = [1,2,[3,4]]\n",
    "shallow_copied_object = copy.deepcopy(original_list)\n",
    "original_list[2][0]=99\n",
    "print(original_list)\n",
    "print(shallow_copied_object)"
   ]
  },
  {
   "cell_type": "code",
   "execution_count": 1,
   "id": "70d469bd-b26a-4cce-af2a-8e9099f70378",
   "metadata": {},
   "outputs": [
    {
     "name": "stdout",
     "output_type": "stream",
     "text": [
      "-------------------------shallow copy -----------------------\n",
      "[2, 4, 5, 6, 7, [99, 10, 11]]\n",
      "[2, 4, 5, 6, 7, [99, 10, 11]]\n",
      "----------------------deep copy ------------------------\n",
      "[2, 4, 5, 6, 7, [99, 2000, 11]]\n",
      "[2, 4, 5, 6, 7, [99, 10, 11]]\n"
     ]
    }
   ],
   "source": [
    "import copy\n",
    "data = [2,4,5,6,7,[9,10,11]]\n",
    "# shallow copy\n",
    "print(\"-------------------------shallow copy -----------------------\")\n",
    "shallow = copy.copy(data)\n",
    "shallow[5][0]=99\n",
    "print(shallow)\n",
    "print(data)\n",
    "print(\"----------------------deep copy ------------------------\")\n",
    "deep = copy.deepcopy(data)\n",
    "deep[5][1]=2000\n",
    "print(deep)\n",
    "print(data)"
   ]
  },
  {
   "cell_type": "markdown",
   "id": "544363b1-1866-4b52-ad3d-826157ccf20c",
   "metadata": {},
   "source": [
    "# Iterators and genrators"
   ]
  },
  {
   "cell_type": "code",
   "execution_count": 19,
   "id": "e846eb3e-168c-446b-a20e-2c177f858331",
   "metadata": {},
   "outputs": [
    {
     "name": "stdout",
     "output_type": "stream",
     "text": [
      "1\n",
      "2\n",
      "3\n",
      "4\n"
     ]
    }
   ],
   "source": [
    "class Iterator:\n",
    "    def __init__(self,start,end):\n",
    "        self.start = start\n",
    "        self.end = end\n",
    "    def __iter__(self):\n",
    "        return self\n",
    "    def __next__(self):\n",
    "        if self.start < self.end:\n",
    "            self.start+=1\n",
    "            return self.start-1\n",
    "        else:\n",
    "            raise StopIteration\n",
    "myiter = Iterator(1,5)\n",
    "# print(next(myiter))\n",
    "for num in myiter:\n",
    "    print(num)\n",
    "    "
   ]
  },
  {
   "cell_type": "code",
   "execution_count": 1,
   "id": "c3c4d01a-7213-4ec8-b0ae-1e77a06ad74d",
   "metadata": {},
   "outputs": [
    {
     "name": "stdout",
     "output_type": "stream",
     "text": [
      "1\n",
      "2\n",
      "3\n",
      "4\n",
      "5\n"
     ]
    }
   ],
   "source": [
    "class MyNumbers:\n",
    "    def __iter__(self):\n",
    "        self.num = 1\n",
    "        return self\n",
    "    def __next__(self):\n",
    "        if self.num <=5:\n",
    "            val = self.num\n",
    "            self.num+=1\n",
    "            return val\n",
    "        else:\n",
    "            raise StopIteration\n",
    "nums = MyNumbers()\n",
    "for i in nums:\n",
    "    print(i)"
   ]
  },
  {
   "cell_type": "code",
   "execution_count": null,
   "id": "cd8b3cea-2632-4a94-9c6c-b459058db5cb",
   "metadata": {},
   "outputs": [],
   "source": [
    "class MyIterator:\n",
    "    def __init__(self, n):\n",
    "        self.n = n\n",
    "        self.current = 1  # Start from 1\n",
    "\n",
    "    def __iter__(self):\n",
    "        return self  # The iterator object itself is returned\n",
    "\n",
    "    def __next__(self):\n",
    "        if self.current <= self.n:\n",
    "            result = self.current\n",
    "            self.current += 1\n",
    "            return result\n",
    "        else:\n",
    "            raise StopIteration  # When the iterator is exhausted\n",
    "\n",
    "# Usage:\n",
    "my_iter = MyIterator(6)\n",
    "\n",
    "# Using the iterator with next()\n",
    "print(next(my_iter))  # Output: 1\n",
    "print(next(my_iter))  # Output: 2\n",
    "print(next(my_iter))  # Output: 3\n",
    "print(next(my_iter))  # Output: 4\n",
    "print(next(my_iter))  # Output: 5\n",
    "print(next(my_iter))  # Output: 6\n",
    "print(next(my_iter))  # Raises StopIteration\n"
   ]
  },
  {
   "cell_type": "code",
   "execution_count": 21,
   "id": "11d9e091-f59a-4ac4-8c69-4aa228d6e9ca",
   "metadata": {},
   "outputs": [
    {
     "name": "stdout",
     "output_type": "stream",
     "text": [
      "1\n",
      "2\n",
      "3\n",
      "4\n",
      "5\n"
     ]
    }
   ],
   "source": [
    "def genrators(start,end):\n",
    "    while start <= end:\n",
    "        yield start\n",
    "        start+=1\n",
    "x = genrators(1,5)\n",
    "for num in x:\n",
    "    print(num)\n",
    "    "
   ]
  },
  {
   "cell_type": "code",
   "execution_count": 25,
   "id": "08d52250-3e63-4d60-ae40-3223d40ddd9a",
   "metadata": {},
   "outputs": [
    {
     "name": "stdout",
     "output_type": "stream",
     "text": [
      "1\n"
     ]
    }
   ],
   "source": [
    "def new_ele(n):\n",
    "    for num in range(1, n+1):\n",
    "        yield num  \n",
    "\n",
    "x = new_ele(6)\n",
    "print(next(x))   \n"
   ]
  },
  {
   "cell_type": "code",
   "execution_count": 27,
   "id": "b400e556-f663-4ea5-bbc0-e8edeceeece8",
   "metadata": {},
   "outputs": [
    {
     "name": "stdin",
     "output_type": "stream",
     "text": [
      "Enter the age :  21\n"
     ]
    },
    {
     "name": "stdout",
     "output_type": "stream",
     "text": [
      "eligible to vote\n"
     ]
    }
   ],
   "source": [
    "class AgeException(Exception):\n",
    "    def __init__(self,message):\n",
    "        super().__init__(message)\n",
    "    pass\n",
    "age = int(input(\"Enter the age : \"))\n",
    "try:\n",
    "    if age < 19:\n",
    "        raise AgeException(\" Not eligible to vote \")\n",
    "    else:\n",
    "        print(\"eligible to vote\")\n",
    "except AgeException as e:\n",
    "    print(e)\n",
    "\n"
   ]
  },
  {
   "cell_type": "code",
   "execution_count": 3,
   "id": "627b72b4-ac74-4801-9369-98978f4ce1c0",
   "metadata": {},
   "outputs": [
    {
     "name": "stdout",
     "output_type": "stream",
     "text": [
      "Thredaing : 0\n",
      "Thredaing : 1\n",
      "Thredaing : 2\n",
      "Thredaing : 3\n",
      "Thredaing : 4\n",
      "Done\n"
     ]
    }
   ],
   "source": [
    "# Single Thread\n",
    "from threading import Thread\n",
    "def print_numbers():\n",
    "    for i in range(5):\n",
    "        print(f\"Thredaing : {i}\")\n",
    "thread = Thread(target = print_numbers )\n",
    "thread.start()\n",
    "thread.join()\n",
    "print(\"Done\")"
   ]
  },
  {
   "cell_type": "code",
   "execution_count": 4,
   "id": "65675453-4e9c-4925-a407-79b906afb72c",
   "metadata": {},
   "outputs": [
    {
     "name": "stdout",
     "output_type": "stream",
     "text": [
      "Thread 1: 0\n",
      "Thread 1: 1\n",
      "Thread 1: 2\n",
      "Thread 1: 3\n",
      "Thread 1: 4\n",
      "Thread 2: 0\n",
      "Thread 2: 1\n",
      "Thread 2: 2\n",
      "Thread 2: 3\n",
      "Thread 2: 4\n",
      "Main program completed.\n"
     ]
    }
   ],
   "source": [
    "# multiple threading : Multiple threads run tasks concurrently within the same process.\n",
    "from threading import Thread\n",
    "\n",
    "def print_numbers(thread_name):\n",
    "    for i in range(5):\n",
    "        print(f\"{thread_name}: {i}\")\n",
    "\n",
    " \n",
    "thread1 =  Thread(target=print_numbers, args=(\"Thread 1\",))\n",
    "thread2 =  Thread(target=print_numbers, args=(\"Thread 2\",))\n",
    "\n",
    "# Start threads\n",
    "thread1.start()\n",
    "thread2.start()\n",
    "\n",
    "# Wait for threads to finish\n",
    "thread1.join()\n",
    "thread2.join()\n",
    "\n",
    "print(\"Main program completed.\")\n",
    "\n"
   ]
  },
  {
   "cell_type": "markdown",
   "id": "f7896c0e-cddb-490f-97e3-ecca50532945",
   "metadata": {},
   "source": [
    "# GIL \n",
    "The GIL is a mutex (lock) used by the CPython interpreter to ensure that only one thread executes Python bytecode at a time. --->🔐 Even if you have multiple threads, only one thread can run Python code at any moment.\n",
    "\n",
    "🔁 So what’s the point of multithreading in Python? -->Great question! The GIL doesn’t block all types of concurrency — it mostly affects CPU-bound tasks.\n",
    "\n",
    "✅ Multithreading works well for: -->I/O-bound tasks: reading/writing files, waiting for network, sleep, etc. -->Because these tasks release the GIL while waiting, so other threads can run ❌ Multithreading is limited for: -->CPU-bound tasks: complex calculations, data processing, etc. -->Because Python keeps the GIL locked → only one core is used\n",
    "\n",
    "----------------------------------------------------------------------------------------------\n",
    "Case 1: CPU-bound with threads (slow) import threading\n",
    "import threading\n",
    "\n",
    "def count():\n",
    "    x = 0\n",
    "    for _ in range(100_000_000):\n",
    "        x += 1\n",
    "\n",
    "t1 = threading.Thread(target=count)\n",
    "t2 = threading.Thread(target=count)\n",
    "\n",
    "t1.start()\n",
    "t2.start()\n",
    "\n",
    "t1.join()\n",
    "t2.join()\n",
    "\n",
    "🔴 Even though you used 2 threads, only 1 thread at a time runs → no speed boost**********\n",
    "\n",
    "--------------------------------------------------------------------------------------------------\n",
    "\n",
    "Case 2: I/O-bound with threads (fast!)\n",
    "import threading\n",
    "import time\n",
    "\n",
    "def download():\n",
    "    print(\"Downloading...\")\n",
    "    time.sleep(2)\n",
    "    print(\"Done!\")\n",
    "\n",
    "t1 = threading.Thread(target=download)\n",
    "t2 = threading.Thread(target=download)\n",
    "\n",
    "t1.start()\n",
    "t2.start()\n",
    "t1.join()\n",
    "t2.join()\n",
    "**********🟢 Because sleep() releases the GIL, both threads run in parallel → saves time*************\n",
    "\n",
    "--------------------------------------------------------------------------------------------------------------------"
   ]
  },
  {
   "cell_type": "markdown",
   "id": "413f9f8a-a011-4b31-8b25-0b3f36181e22",
   "metadata": {},
   "source": [
    "📖 Story: The Single Pencil Rule\n",
    "Imagine a classroom (your Python program) where many students (threads) are trying to solve math problems (run Python code).\n",
    "\n",
    "But… there’s only ONE pencil in the whole classroom. ✏️\n",
    "\n",
    "Even if all the students are ready to write,\n",
    "\n",
    "Only one student can use the pencil at a time,\n",
    "\n",
    "The others must wait their turn.\n",
    "\n",
    "\n",
    "\n",
    "❓ Why does Python do this?\n",
    "Because Python’s main memory manager (CPython, the default Python implementation) isn’t built to let multiple threads change Python objects at the exact same time.\n",
    "Without the GIL, two threads could change the same variable at once, causing weird bugs and data corruption.\n",
    "\n",
    "The GIL makes things safe, but it also means:\n",
    "\n",
    "Threads don’t run truly in parallel for CPU work.\n",
    "\n",
    "Only one thread runs Python bytecode at a time.\n",
    "\n"
   ]
  },
  {
   "cell_type": "code",
   "execution_count": 2,
   "id": "f1398eb4-1fa7-4ae2-b31e-e01dece18b34",
   "metadata": {},
   "outputs": [
    {
     "name": "stdout",
     "output_type": "stream",
     "text": [
      "Done\n"
     ]
    }
   ],
   "source": [
    "# Multiprocessing: Multiple processes are used to execute tasks in parallel, utilizing multiple CPU cores.\n",
    "# process has its own GIL.\n",
    "import multiprocessing\n",
    "def cube_nums(num):\n",
    "    return (f\"cube{num*num*num}\")\n",
    "def square(num):\n",
    "    return (f\"square {num*num}\")\n",
    "\n",
    "if __name__ == \"__main__\":\n",
    "    p1 = multiprocessing.Process(target = cube_nums,args = (10,))\n",
    "    p2 = multiprocessing.Process(target = square,args = (10,))\n",
    "    p1.start()\n",
    "    p2.start()\n",
    "    p1.join()\n",
    "    p2.join()\n",
    "    print(\"Done\")\n",
    "\n",
    "## workes on online compiler check"
   ]
  },
  {
   "cell_type": "code",
   "execution_count": 3,
   "id": "8111550b-6975-4972-b091-a81430d1ae52",
   "metadata": {},
   "outputs": [
    {
     "name": "stdout",
     "output_type": "stream",
     "text": [
      "done\n"
     ]
    }
   ],
   "source": [
    "from multiprocessing import Process\n",
    "\n",
    "def cube(num):\n",
    "    print(f\"Cube of {num}: {num**3}\") \n",
    "\n",
    "def square(num):\n",
    "    print(f\"Square of {num}: {num**2}\")   \n",
    "\n",
    "if __name__ == \"__main__\":\n",
    "    p1 = Process(target=cube, args=(10,))\n",
    "    p2 = Process(target=square, args=(10,))\n",
    "\n",
    "    p1.start()\n",
    "    p2.start()\n",
    "\n",
    "    p2.join()\n",
    "    p1.join()\n",
    "\n",
    "    print(\"done\")\n"
   ]
  },
  {
   "cell_type": "code",
   "execution_count": 1,
   "id": "e17907f9-580c-412b-a6bb-17d7fb7db04f",
   "metadata": {},
   "outputs": [
    {
     "name": "stdout",
     "output_type": "stream",
     "text": [
      "Results: []\n",
      "DONE\n"
     ]
    }
   ],
   "source": [
    "from multiprocessing import Process, Queue\n",
    "\n",
    "def cube(num, q):\n",
    "    q.put(num * num * num)  # Put the result in the queue\n",
    "\n",
    "def square(num, q):\n",
    "    q.put(num * num)  # Put the result in the queue\n",
    "\n",
    "if __name__ == '__main__':\n",
    "    # Create a Queue to share results\n",
    "    q = Queue()\n",
    "\n",
    "    # Create processes and pass the queue\n",
    "    p1 = Process(target=cube, args=(10, q))\n",
    "    p2 = Process(target=square, args=(10, q))\n",
    "\n",
    "    # Start the processes\n",
    "    p1.start()\n",
    "    p2.start()\n",
    "\n",
    "    # Wait for processes to finish\n",
    "    p1.join()\n",
    "    p2.join()\n",
    "\n",
    "    # Retrieve and print results from the queue\n",
    "    results = []\n",
    "    while not q.empty():\n",
    "        results.append(q.get())\n",
    "\n",
    "    print(\"Results:\", results)\n",
    "    print(\"DONE\")\n",
    "\n",
    "# working on online compiler"
   ]
  },
  {
   "cell_type": "code",
   "execution_count": 29,
   "id": "6f18f28a-828b-4a24-80dc-5f705d084431",
   "metadata": {},
   "outputs": [
    {
     "name": "stdout",
     "output_type": "stream",
     "text": [
      "0\n",
      "A\n",
      "B\n",
      "1\n",
      "C\n",
      "2\n",
      "D\n",
      "3\n",
      "4\n",
      "Finished\n"
     ]
    }
   ],
   "source": [
    "import threading \n",
    "import time\n",
    "def print_numbers():\n",
    "    for i in range(5):\n",
    "        print(i)\n",
    "        time.sleep(1)\n",
    "def print_leters():\n",
    "    for letter in \"ABCD\":\n",
    "        print(letter)\n",
    "        time.sleep(1)\n",
    "th1 = threading.Thread(target = print_numbers)\n",
    "th2 = threading.Thread(target = print_leters)\n",
    "th1.start()\n",
    "th2.start()\n",
    "\n",
    "th1.join()\n",
    "th2.join()\n",
    "print(\"Finished\")\n",
    "        "
   ]
  },
  {
   "cell_type": "code",
   "execution_count": 3,
   "id": "cf7262be-7b48-49d5-96ac-3aad37ff2e5c",
   "metadata": {},
   "outputs": [
    {
     "name": "stdout",
     "output_type": "stream",
     "text": [
      "The execution time for function is 0.0\n",
      "total = 55,time = 0.0\n"
     ]
    }
   ],
   "source": [
    "import time\n",
    "\n",
    "def time_exe(func):\n",
    "    def wrapper(*args, **kwargs):\n",
    "        start = time.perf_counter()  # Higher precision timer\n",
    "        res = func(*args, **kwargs)\n",
    "        end = time.perf_counter()\n",
    "        execution_time = end - start\n",
    "        # Round execution time to 2 decimal places\n",
    "        formatted_time = round(execution_time, 2)\n",
    "        print(f\"The execution time for the function is {formatted_time} seconds\")\n",
    "        return f\"total = {res}, time = {formatted_time} seconds\"\n",
    "    return wrapper\n",
    "\n",
    "@time_exe\n",
    "def total_nums(n):\n",
    "    total = 0\n",
    "    for i in range(1, n + 1):\n",
    "        total += i\n",
    "    return total\n",
    "\n",
    "print(total_nums(1000000))  # Test with a larger value\n"
   ]
  },
  {
   "cell_type": "code",
   "execution_count": 30,
   "id": "f150e026-c43c-4276-9d5a-ee01f7300271",
   "metadata": {},
   "outputs": [
    {
     "name": "stdout",
     "output_type": "stream",
     "text": [
      "45\n"
     ]
    }
   ],
   "source": [
    "def second_large(lst):\n",
    "    large = second = float('-inf')\n",
    "    for num in lst:\n",
    "        if num > large:\n",
    "            second = large\n",
    "            large = num\n",
    "        elif second > num and num != large:\n",
    "            second = num\n",
    "    return second\n",
    "print(second_large([10, 20, 4, 45, 99,]))"
   ]
  },
  {
   "cell_type": "code",
   "execution_count": 32,
   "id": "b29a9147-c7c2-421d-aa7f-6122a3c4ec6f",
   "metadata": {},
   "outputs": [
    {
     "name": "stdout",
     "output_type": "stream",
     "text": [
      "10\n"
     ]
    }
   ],
   "source": [
    "def sum_digits(num):\n",
    "    res = 0\n",
    "    while num > 0:\n",
    "        rem = num % 10\n",
    "        res = res+rem\n",
    "        num = num//10\n",
    "    return res\n",
    "\n",
    "print(sum_digits(1234))"
   ]
  },
  {
   "cell_type": "code",
   "execution_count": 34,
   "id": "330e8e8d-963a-4f2e-9ad2-da2e84342fde",
   "metadata": {},
   "outputs": [
    {
     "name": "stdout",
     "output_type": "stream",
     "text": [
      "120\n"
     ]
    }
   ],
   "source": [
    "def factorial(n):\n",
    "    fact = 1\n",
    "    for i in range(1,n+1):\n",
    "        fact = fact*i\n",
    "    return fact\n",
    "print(factorial(5))"
   ]
  },
  {
   "cell_type": "code",
   "execution_count": 36,
   "id": "c13c70a2-c8e9-49a4-8b01-97a6abe763f0",
   "metadata": {},
   "outputs": [
    {
     "name": "stdout",
     "output_type": "stream",
     "text": [
      "False\n",
      "True\n"
     ]
    }
   ],
   "source": [
    "def prime(n):\n",
    "    if num <= 1 :\n",
    "        return False\n",
    "    for i in range(2,num):\n",
    "        if n%i == 0:\n",
    "            return False\n",
    "    else:\n",
    "        return True\n",
    "print(prime(10))\n",
    "print(prime(7))\n",
    "        "
   ]
  },
  {
   "cell_type": "code",
   "execution_count": null,
   "id": "60c1197e-7409-4e48-9e4b-5a0c7f5dd2a7",
   "metadata": {},
   "outputs": [],
   "source": [
    "def prime(n):\n",
    "    if n>1:\n",
    "        for i in range(2,n):\n",
    "            if n%i==0:\n",
    "                return \"not prime\"\n",
    "        else:\n",
    "            return \"prime number\"\n",
    "    else:\n",
    "        return \"number should greater then 1\"\n",
    "\n",
    "n=4\n",
    "print(prime(n))"
   ]
  },
  {
   "cell_type": "code",
   "execution_count": 1,
   "id": "75c7d463-3765-4f39-a8b3-7ff65b898232",
   "metadata": {},
   "outputs": [
    {
     "name": "stdout",
     "output_type": "stream",
     "text": [
      "[2, 3, 5, 7]\n"
     ]
    }
   ],
   "source": [
    "def prime_nums(start,end):\n",
    "    prime = []\n",
    "    for num in range(start,end):\n",
    "        if num >1:\n",
    "            is_prime = True\n",
    "            for i in range(2,num):\n",
    "                if num%i==0:\n",
    "                    is_prime = False\n",
    "                    break\n",
    "            if is_prime:\n",
    "                prime.append(num)\n",
    "    return prime\n",
    "print(prime_nums(1,10))\n",
    "                "
   ]
  },
  {
   "cell_type": "code",
   "execution_count": 7,
   "id": "854d1a60-a93f-4967-b0ed-7046a917f97f",
   "metadata": {},
   "outputs": [
    {
     "name": "stdout",
     "output_type": "stream",
     "text": [
      "[0, 1, 1, 2, 3, 5, 8, 13]\n"
     ]
    }
   ],
   "source": [
    "def fiboo(n):\n",
    "    fibseries = [0,1]\n",
    "    while fibseries[-1]+fibseries[-2] <=n:\n",
    "        fibseries.append(fibseries[-1]+fibseries[-2])\n",
    "    return fibseries\n",
    "print(fiboo(16))"
   ]
  },
  {
   "cell_type": "code",
   "execution_count": 45,
   "id": "0084ea0a-b622-4751-9e4f-d0c26e37deb7",
   "metadata": {},
   "outputs": [
    {
     "name": "stdout",
     "output_type": "stream",
     "text": [
      "[2, 3]\n"
     ]
    }
   ],
   "source": [
    "def targe_num(nums, target):\n",
    "    seen = {}\n",
    "    for i,num in enumerate(nums):\n",
    "        val = target - num\n",
    "        if val in seen:\n",
    "            return [seen[val],i]\n",
    "        else:\n",
    "            seen[num]=i\n",
    "    return []\n",
    "nums=[2, 7, 11, 15]\n",
    "target=26\n",
    "print(targe_num(nums, target))"
   ]
  },
  {
   "cell_type": "code",
   "execution_count": 10,
   "id": "c44ec238-28fe-4dc8-acf3-ac86217e22c3",
   "metadata": {},
   "outputs": [
    {
     "name": "stdout",
     "output_type": "stream",
     "text": [
      "[[0, 1]]\n"
     ]
    }
   ],
   "source": [
    "def target_num_all_pairs(target, nums):\n",
    "    seen = {}\n",
    "    result = []\n",
    "    for i, num in enumerate(nums):\n",
    "        val = target - num\n",
    "        if val in seen:\n",
    "            result.append([seen[val], i])  # Append the pair to the result\n",
    "        seen[num] = i\n",
    "    return result\n",
    "\n",
    "print(target_num_all_pairs(9, [1, 8, 5, 87]))\n"
   ]
  },
  {
   "cell_type": "code",
   "execution_count": 47,
   "id": "dc01eeb7-34a5-49bd-8e24-b0fd9da2859f",
   "metadata": {},
   "outputs": [
    {
     "data": {
      "text/plain": [
       "2"
      ]
     },
     "execution_count": 47,
     "metadata": {},
     "output_type": "execute_result"
    }
   ],
   "source": [
    "x=[1,2,3,4,2,2,2,2,2,2,2,2,2,2,2,2,2,2,2,2,2,2,2,2,3,3,3,4,6,6,6,6,66,6,6,6,66,6,6,6,6,6,6,6,6,6,6,6,6]\n",
    "c = {}\n",
    "for i in x:\n",
    "    if i not in c.keys():\n",
    "        c[i]=1\n",
    "    else:\n",
    "        c[i]+=1\n",
    "common = None\n",
    "maxy = 0\n",
    "for key,val in c.items():\n",
    "    if val > maxy:\n",
    "        maxy = val\n",
    "        common = key\n",
    "common"
   ]
  },
  {
   "cell_type": "code",
   "execution_count": 11,
   "id": "bda60637-4837-48b8-9adc-f6df9f44a65f",
   "metadata": {},
   "outputs": [
    {
     "name": "stdout",
     "output_type": "stream",
     "text": [
      "[('a', 2), ('b', 3), ('c', 2), ('b', 2), ('d', 2)]\n"
     ]
    }
   ],
   "source": [
    "#new\n",
    "A=['a','a','b','b','b','c','c','b','b','d','d']\n",
    "res = []\n",
    "count = 1\n",
    "for i in range(1,len(A)):\n",
    "    if A[i] == A[i-1]:\n",
    "        count+=1\n",
    "    else:\n",
    "        if count >1:\n",
    "            res.append((A[i-1],count))\n",
    "            count=1\n",
    "if count>1:\n",
    "    res.append((A[i-1],count))\n",
    "print(res)\n",
    "    "
   ]
  },
  {
   "cell_type": "code",
   "execution_count": 53,
   "id": "e03dd28c-35c5-4d7c-80a2-1067a79c0a5f",
   "metadata": {},
   "outputs": [
    {
     "name": "stdout",
     "output_type": "stream",
     "text": [
      "yes\n"
     ]
    }
   ],
   "source": [
    "word = \"Rotavator\"\n",
    "s = word.lower()\n",
    "start = 0\n",
    "end = len(s)-1\n",
    "while start <= end:\n",
    "    if s[start]!=s[end]:\n",
    "        print('no')\n",
    "        break\n",
    "    start+=1\n",
    "    end-=1\n",
    "else:\n",
    "    print(\"yes\")\n",
    "        "
   ]
  },
  {
   "cell_type": "code",
   "execution_count": 61,
   "id": "c44bdee8-0f4b-4cd4-b90f-039aa6a9c1d6",
   "metadata": {},
   "outputs": [
    {
     "data": {
      "text/plain": [
       "{'name': 'narsimha', 'age': '23', 'deg': 'Software'}"
      ]
     },
     "execution_count": 61,
     "metadata": {},
     "output_type": "execute_result"
    }
   ],
   "source": [
    "x=\"name:narsimha,age;23,deg:Software\"\n",
    "x = x.replace(';',':')\n",
    "x = x.split(',')\n",
    "c = {}\n",
    "for i in x:\n",
    "    key,val = i.split(\":\")\n",
    "    c[key]=val\n",
    "c"
   ]
  },
  {
   "cell_type": "code",
   "execution_count": 62,
   "id": "63a704ed-731b-499c-8c0f-af8f717a723c",
   "metadata": {},
   "outputs": [
    {
     "data": {
      "text/plain": [
       "[{'name': 'ganesh', 'id': 2},\n",
       " {'name': 'hari', 'id': 1},\n",
       " {'name': 'hari', 'id': 1},\n",
       " {'name': 'simha', 'id': 2}]"
      ]
     },
     "execution_count": 62,
     "metadata": {},
     "output_type": "execute_result"
    }
   ],
   "source": [
    "x=[{\"name\":\"hari\",\"id\":1},{\"name\":\"ganesh\",\"id\":2},{\"name\":\"simha\",\"id\":2},{\"name\":\"hari\",\"id\":1}]\n",
    "for i in range(len(x)):\n",
    "    for j in range(i+1,len(x)):\n",
    "        if x[i][\"name\"]> x[j][\"name\"]:\n",
    "            x[i],x[j]=x[j],x[i]\n",
    "x"
   ]
  },
  {
   "cell_type": "code",
   "execution_count": 67,
   "id": "7d99bf6c-2baf-413c-93e5-b28c70f96e3f",
   "metadata": {},
   "outputs": [
    {
     "name": "stdout",
     "output_type": "stream",
     "text": [
      "geekskeeg\n"
     ]
    }
   ],
   "source": [
    "x=\"forgeekskeegfor\"\n",
    "y = ''\n",
    "length = 0\n",
    "for i in range(len(x)):\n",
    "    for j in range(i+1,len(x)):\n",
    "        match = x[i:j] \n",
    "        if match == match[::-1] and len(match)>len(y):\n",
    "            y = match\n",
    "            length = len(match)\n",
    "print(y)"
   ]
  },
  {
   "cell_type": "code",
   "execution_count": 2,
   "id": "3e1beb11-5ddb-4652-9308-a9b42af7fcbb",
   "metadata": {},
   "outputs": [
    {
     "name": "stdout",
     "output_type": "stream",
     "text": [
      "abc\n"
     ]
    }
   ],
   "source": [
    "def sub_st(s):\n",
    "    charSet = set()\n",
    "    l = 0\n",
    "    res = 0\n",
    "    sub_str = \"\"\n",
    "    for r in range(len(s)):\n",
    "        while s[r] in charSet:\n",
    "            charSet.remove(s[l])\n",
    "            l+=1\n",
    "        charSet.add(s[r])\n",
    "        if (r-l+1) > res:\n",
    "            res = max(res,r-l+1)\n",
    "            sub_str = s[l:r+1]\n",
    "    \n",
    "    return sub_str\n",
    "print(sub_st(\"abcabcbb\"))"
   ]
  },
  {
   "cell_type": "code",
   "execution_count": 3,
   "id": "c12a4aa1-fe25-41d3-a9b5-87d8a33569f8",
   "metadata": {},
   "outputs": [
    {
     "name": "stdout",
     "output_type": "stream",
     "text": [
      "abc\n",
      "3\n"
     ]
    }
   ],
   "source": [
    "s = \"abcabcbb\"\n",
    "longest = \"\"\n",
    "temp = \"\"\n",
    "\n",
    "for char in s:\n",
    "    if char not in temp:\n",
    "        temp += char\n",
    "    else:\n",
    "        temp = temp[temp.index(char) + 1:] + char\n",
    "    if len(temp) > len(longest):\n",
    "        longest = temp\n",
    "\n",
    "print(longest)  # Output: \"abc\"\n",
    "print(len(longest))  # Output: 3\n"
   ]
  },
  {
   "cell_type": "code",
   "execution_count": 14,
   "id": "5254ea02-4b1a-49de-acb3-af04dd9ce4c7",
   "metadata": {},
   "outputs": [
    {
     "name": "stdout",
     "output_type": "stream",
     "text": [
      "[[1, 4], [5, 8]]\n"
     ]
    }
   ],
   "source": [
    "def order_range(intervals):\n",
    "    intervals.sort(key=lambda x: x[0])  # Sort by start time\n",
    "    output = [intervals[0]]  # Initialize with the first interval\n",
    "\n",
    "    for start, end in intervals[1:]:\n",
    "        last_start, last_end = output[-1]  # Get the last interval in output\n",
    "\n",
    "        if start <= last_end:  # Check if overlapping\n",
    "            output[-1][1] = max(last_end, end)  # Merge intervals\n",
    "        else:\n",
    "            output.append([start, end])  # No overlap, add new interval\n",
    "    \n",
    "    return output\n",
    "\n",
    "intervals = [[1,3], [2,4], [5,7], [6,8]]\n",
    "print(order_range(intervals))\n"
   ]
  },
  {
   "cell_type": "code",
   "execution_count": 17,
   "id": "e5e75f1d-76b5-48c6-a3f7-2d5f957cfd2e",
   "metadata": {},
   "outputs": [
    {
     "name": "stdout",
     "output_type": "stream",
     "text": [
      "[[1, 4], [5, 8]]\n"
     ]
    }
   ],
   "source": [
    "def order_range(intervels):\n",
    "    intervels.sort(key=lambda x:x[0])\n",
    "    output=[intervels[0]]\n",
    "    for start,end in intervels[1:]:\n",
    "        s_prev,e_prev = output[-1]\n",
    "        if start <=e_prev:\n",
    "            output[-1][1] = max(e_prev,end)\n",
    "        else:\n",
    "            output.append([start,end])\n",
    "    return output\n",
    "intervels = [[1,3],[2,4],[5,7],[6,8]]\n",
    "print(order_range(intervels))"
   ]
  },
  {
   "cell_type": "code",
   "execution_count": 2,
   "id": "5233167f-60a4-498e-a2d9-98e7283f5af8",
   "metadata": {},
   "outputs": [
    {
     "name": "stdout",
     "output_type": "stream",
     "text": [
      "geekskeeg\n"
     ]
    }
   ],
   "source": [
    "def longest_palindrom(s):\n",
    "    def expand_middle(left,right):\n",
    "        while left >=0 and right < len(s) and s[left]==s[right]:\n",
    "            left-=1\n",
    "            right+=1\n",
    "        return s[left+1:right]\n",
    "    longest = \"\"\n",
    "    for i in range(len(s)):\n",
    "        even = expand_middle(i,i+1)\n",
    "        odd = expand_middle(i,i)\n",
    "        if len(even) > len(longest):\n",
    "            longest = even\n",
    "        if len(odd) > len(longest):\n",
    "            longest = odd\n",
    "    return longest\n",
    "print(longest_palindrom(\"forgeekskeegfor\"))\n",
    "        "
   ]
  },
  {
   "cell_type": "code",
   "execution_count": 6,
   "id": "3cb5998b-2648-4e65-9d81-1003e55aa851",
   "metadata": {},
   "outputs": [
    {
     "name": "stdout",
     "output_type": "stream",
     "text": [
      "5\n"
     ]
    }
   ],
   "source": [
    "nums=[9,2,3,4,2,4,5,5,5,6,7,8,8]\n",
    "common = None\n",
    "count = 0\n",
    "for i in nums:\n",
    "    val = nums.count(i)\n",
    "    if val > count:\n",
    "        count = val\n",
    "        common = i\n",
    "print(common)"
   ]
  },
  {
   "cell_type": "code",
   "execution_count": 13,
   "id": "c37879c8-0833-432c-9039-3383e3bfac2b",
   "metadata": {},
   "outputs": [
    {
     "name": "stdout",
     "output_type": "stream",
     "text": [
      "[1, 2, 3, 4, 5, 6, 7, 8, 9, 10, 11, 12, 13, 14, 15]\n"
     ]
    }
   ],
   "source": [
    "def flatten(iterable):\n",
    "    flat = []\n",
    "    for item in iterable:\n",
    "        if isinstance(item,list):\n",
    "            flat.extend(flatten(item))\n",
    "        elif item is not None:\n",
    "            flat.append(item)\n",
    "    return flat\n",
    "print(flatten([[1, 2, 3], [4, 5, 6], [7, 8, [9, 10, 11], 12], [13, 14, 15]]))"
   ]
  },
  {
   "cell_type": "code",
   "execution_count": 17,
   "id": "595b914c-37ee-40a6-9b1b-2e438e78fb8f",
   "metadata": {},
   "outputs": [
    {
     "name": "stdout",
     "output_type": "stream",
     "text": [
      "True\n"
     ]
    }
   ],
   "source": [
    "def valid_partheses(s):\n",
    "    stack = []\n",
    "    mapping = { \")\":\"(\",\"}\":\"{\",\"]\":\"[\" }\n",
    "    for char in s:\n",
    "        if char in mapping:\n",
    "            top_element = stack.pop() if stack else \"#\"\n",
    "            if mapping[char]!=top_element:\n",
    "                return False\n",
    "        else:\n",
    "            stack.append(char)\n",
    "    return not stack\n",
    "print(valid_partheses(\"([])\"))"
   ]
  },
  {
   "cell_type": "code",
   "execution_count": 3,
   "id": "90cdd5f9-b242-4694-9170-dcb6372df86c",
   "metadata": {},
   "outputs": [
    {
     "name": "stdout",
     "output_type": "stream",
     "text": [
      "fl\n"
     ]
    }
   ],
   "source": [
    "x = [\"flower\",\"flow\",\"flask\"]\n",
    "prefix = x[0]\n",
    "for i in x[1:]:\n",
    "    while not i.startswith(prefix):\n",
    "        prefix = prefix[:-1]\n",
    "        if not prefix:\n",
    "            break\n",
    "print(prefix)\n",
    "        "
   ]
  },
  {
   "cell_type": "code",
   "execution_count": 23,
   "id": "d2f19ef7-b9fb-494c-a600-a0ec6233ad26",
   "metadata": {},
   "outputs": [
    {
     "name": "stdout",
     "output_type": "stream",
     "text": [
      "Hello!\n",
      "Goodbye!\n",
      "Goodbye again after 1 second!\n",
      "Hello again after 2 seconds!\n"
     ]
    },
    {
     "data": {
      "text/plain": [
       "[None, None]"
      ]
     },
     "execution_count": 23,
     "metadata": {},
     "output_type": "execute_result"
    }
   ],
   "source": [
    "import asyncio  # Importing the asyncio module\n",
    "\n",
    "async def say_hello():\n",
    "    print(\"Hello!\")\n",
    "    await asyncio.sleep(2)\n",
    "    print(\"Hello again after 2 seconds!\")\n",
    "\n",
    "async def say_goodbye():\n",
    "    print(\"Goodbye!\")\n",
    "    await asyncio.sleep(1)\n",
    "    print(\"Goodbye again after 1 second!\")\n",
    "\n",
    "# Run the coroutines directly with await\n",
    "await asyncio.gather(say_hello(), say_goodbye())\n"
   ]
  },
  {
   "cell_type": "code",
   "execution_count": null,
   "id": "9b6ec2d8-1d4b-4b5b-9a4f-934e2dbad23b",
   "metadata": {},
   "outputs": [],
   "source": [
    "class Dog:\n",
    "    def speak(self):\n",
    "        return \"Woof!\"\n",
    "\n",
    "class Cat:\n",
    "    def speak(self):\n",
    "        return \"Meow!\"\n",
    "\n",
    "class Duck:\n",
    "    def speak(self):\n",
    "        return \"Quack!\"\n",
    "\n",
    "def animal_speak(animal):\n",
    "    return animal.speak()  # No type checking, relies on the 'speak' method\n",
    "\n",
    "# Creating objects\n",
    "dog = Dog()\n",
    "cat = Cat()\n",
    "duck = Duck()\n",
    "\n",
    "# Passing objects to the function\n",
    "print(animal_speak(dog))   # Output: Woof!\n",
    "print(animal_speak(cat))   # Output: Meow!\n",
    "print(animal_speak(duck))  # Output: Quack!\n"
   ]
  },
  {
   "cell_type": "code",
   "execution_count": 2,
   "id": "07ea9130-b49f-48e6-9271-67cacbaa3c26",
   "metadata": {},
   "outputs": [],
   "source": [
    "from flask import Flask\n",
    "app = Flask(__name__)\n",
    "data = [\n",
    "    {\"id\":1,\"name\":\"Coprt\"},\n",
    "    {\"id\":2,\"name\":\"Micron\"}\n",
    "]\n",
    "@app.route('/users',methods=['GET'])\n",
    "def get_users():\n",
    "    return jonsify(data),200\n",
    "\n",
    "@app.route('/create',methods=['POST'])\n",
    "def create_user():\n",
    "    user = request.json()\n",
    "    data.append(user)\n",
    "    return jonsify(\"User created successfully !\"),210\n",
    "    "
   ]
  }
 ],
 "metadata": {
  "kernelspec": {
   "display_name": "Python 3 (ipykernel)",
   "language": "python",
   "name": "python3"
  },
  "language_info": {
   "codemirror_mode": {
    "name": "ipython",
    "version": 3
   },
   "file_extension": ".py",
   "mimetype": "text/x-python",
   "name": "python",
   "nbconvert_exporter": "python",
   "pygments_lexer": "ipython3",
   "version": "3.13.5"
  }
 },
 "nbformat": 4,
 "nbformat_minor": 5
}
