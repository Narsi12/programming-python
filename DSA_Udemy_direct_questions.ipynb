{
 "cells": [
  {
   "cell_type": "code",
   "execution_count": null,
   "id": "25eb42ce-5f04-4fe0-bd82-069056e4f35b",
   "metadata": {},
   "outputs": [],
   "source": [
    "# your with email 986 in leetcode solutions are submitted check\n"
   ]
  },
  {
   "cell_type": "code",
   "execution_count": null,
   "id": "34962834-25fd-49d7-a094-e7118564c5a2",
   "metadata": {},
   "outputs": [],
   "source": [
    "#non-negative numbers count\n",
    "def countNegatives(grid):\n",
    "    m, n = len(grid), len(grid[0])\n",
    "    row, col = m - 1, 0\n",
    "    count = 0\n",
    "    \n",
    "    while row >= 0 and col < n:\n",
    "        if grid[row][col] < 0:\n",
    "            count += (n - col)   # all elements to the right are negative\n",
    "            row -= 1             # move up\n",
    "        else:\n",
    "            col += 1             # move right\n",
    "    return count\n",
    "\n",
    "\n",
    "# Example\n",
    "grid = [\n",
    "  [4, 3, 2, -1],\n",
    "  [3, 2, 1, -1],\n",
    "  [1, 1, -1, -2],\n",
    "  [-1, -1, -2, -3]\n",
    "]\n",
    "print(countNegatives(grid))  # Output: 8\n"
   ]
  },
  {
   "cell_type": "code",
   "execution_count": null,
   "id": "061cb24f-391a-4163-9ce9-cf7ce2ad372e",
   "metadata": {},
   "outputs": [],
   "source": [
    "#non-negative with binary search\n",
    "def countNegatives(grid):\n",
    "    def negative_count_sol(row):\n",
    "        left=0\n",
    "        right = len(row)\n",
    "        while left < right:\n",
    "            mid = (left+right)//2\n",
    "            if row[mid] < 0:\n",
    "                right = mid\n",
    "            else:\n",
    "                left = mid+1\n",
    "        return len(row)-left\n",
    "    total_neg = 0\n",
    "    for row in grid:\n",
    "        total_neg+= negative_count_sol(row)\n",
    "    return total_neg\n",
    "\n",
    "\n",
    "# Example\n",
    "grid = [\n",
    "  [4, 3, 2, -1],\n",
    "  [3, 2, 1, -1],\n",
    "  [1, 1, -1, -2],\n",
    "  [-1, -1, -2, -3]\n",
    "]\n",
    "print(countNegatives(grid))  # Output: 8\n"
   ]
  },
  {
   "cell_type": "code",
   "execution_count": null,
   "id": "25b5ed37-957b-467c-b4f6-b801c66d7d94",
   "metadata": {},
   "outputs": [],
   "source": []
  },
  {
   "cell_type": "code",
   "execution_count": null,
   "id": "a47ee30e-7b60-4132-bc97-1105110fd647",
   "metadata": {},
   "outputs": [],
   "source": []
  },
  {
   "cell_type": "code",
   "execution_count": null,
   "id": "e5baeaf7-c83b-4d8d-8065-08aba7120521",
   "metadata": {},
   "outputs": [],
   "source": []
  },
  {
   "cell_type": "code",
   "execution_count": null,
   "id": "d8a1c4e8-496c-4859-8034-5a5875d77ceb",
   "metadata": {},
   "outputs": [],
   "source": []
  },
  {
   "cell_type": "code",
   "execution_count": null,
   "id": "cd0217dd-df41-41d1-86b8-f03f6be74c05",
   "metadata": {},
   "outputs": [],
   "source": []
  }
 ],
 "metadata": {
  "kernelspec": {
   "display_name": "Python 3 (ipykernel)",
   "language": "python",
   "name": "python3"
  },
  "language_info": {
   "codemirror_mode": {
    "name": "ipython",
    "version": 3
   },
   "file_extension": ".py",
   "mimetype": "text/x-python",
   "name": "python",
   "nbconvert_exporter": "python",
   "pygments_lexer": "ipython3",
   "version": "3.13.5"
  }
 },
 "nbformat": 4,
 "nbformat_minor": 5
}
