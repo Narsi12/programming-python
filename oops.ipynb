{
 "cells": [
  {
   "cell_type": "code",
   "execution_count": 3,
   "id": "4ee3b462-56b7-4200-95a4-b782bbe9bfe1",
   "metadata": {},
   "outputs": [
    {
     "name": "stdout",
     "output_type": "stream",
     "text": [
      "Tata\n"
     ]
    }
   ],
   "source": [
    "class Car:\n",
    "    def __init__(self,model,price):\n",
    "        self.model = model\n",
    "        self.price = price\n",
    "car_brand = Car(\"Tata\",1200000)\n",
    "print(car_brand.model)"
   ]
  },
  {
   "cell_type": "code",
   "execution_count": 4,
   "id": "5ae63c93-2cb9-4e92-88a0-34f356f36a95",
   "metadata": {},
   "outputs": [],
   "source": [
    "# Inheritance"
   ]
  },
  {
   "cell_type": "code",
   "execution_count": 9,
   "id": "dd9d7f5f-9e2d-4813-ba02-ff4c90053a52",
   "metadata": {},
   "outputs": [
    {
     "name": "stdout",
     "output_type": "stream",
     "text": [
      "The animal will eat\n",
      "Dog barks\n"
     ]
    }
   ],
   "source": [
    "# Single Inheritance = A subclass inherits from one superclass.\n",
    "class Animal:\n",
    "    def eat(self):\n",
    "        print(\"The animal will eat\")\n",
    "class Dog(Animal):\n",
    "    def bark(self):\n",
    "        print(\"Dog barks\")\n",
    "animal = Dog()\n",
    "animal.eat()\n",
    "animal.bark()"
   ]
  },
  {
   "cell_type": "code",
   "execution_count": 2,
   "id": "2a34dd3f-e795-4adc-b227-8e1015c4fcaa",
   "metadata": {},
   "outputs": [
    {
     "name": "stdout",
     "output_type": "stream",
     "text": [
      "This creature will swim\n"
     ]
    }
   ],
   "source": [
    "# Multiple Inheritance = A subclass inherits from more than one superclass.\n",
    "class Fly:\n",
    "    def flying(self):\n",
    "        print(\"This creature will fly\")\n",
    "class Swim:\n",
    "    def swimming(self):\n",
    "        print(\"This creature will swim\")\n",
    "class Duck(Fly,Swim):\n",
    "    def both(self):\n",
    "        print(\"eats food\")\n",
    "d= Duck()\n",
    "d.swimming()\n",
    "    "
   ]
  },
  {
   "cell_type": "code",
   "execution_count": 11,
   "id": "369caa4d-801d-410a-80e0-bab5fe88df36",
   "metadata": {},
   "outputs": [
    {
     "name": "stdout",
     "output_type": "stream",
     "text": [
      "eats food\n",
      "flying\n",
      "best bird\n"
     ]
    }
   ],
   "source": [
    "# MultiLevel Inheritance = A chain of inheritance where a class is derived from a class that is also derived from another class.\n",
    "class Animal:\n",
    "    def eat(self):\n",
    "        print(\"eats food\")\n",
    "class Bird(Animal):\n",
    "    def flying(self):\n",
    "        print(\"flying\")\n",
    "class Sparrow(Bird):\n",
    "    def chirp(self):\n",
    "        print(\"best bird\")\n",
    "sparrow = Sparrow()\n",
    "sparrow.eat()\n",
    "sparrow.flying()\n",
    "sparrow.chirp()\n"
   ]
  },
  {
   "cell_type": "code",
   "execution_count": 6,
   "id": "3f37eb96-75e9-48f6-8503-fd42eda3beff",
   "metadata": {},
   "outputs": [
    {
     "name": "stdout",
     "output_type": "stream",
     "text": [
      "Eats food \n",
      "Barks on people\n",
      "Eats food \n"
     ]
    }
   ],
   "source": [
    "# Hierarchical Inheritance = Multiple subclasses inherit from a single superclass.\n",
    "class Animal:\n",
    "    def eat(self):\n",
    "        print(\"Eats food \")\n",
    "class Dog(Animal):\n",
    "    def bark(self):\n",
    "        print(\"Barks on people\")\n",
    "class Cat(Animal):\n",
    "    def meow(self):\n",
    "        print(\"eats others food\")\n",
    "dog = Dog()\n",
    "cat = Cat()\n",
    "dog.eat()\n",
    "dog.bark()\n",
    "cat.eat()"
   ]
  },
  {
   "cell_type": "code",
   "execution_count": null,
   "id": "b07bc592-4a7f-4a28-9bbc-0e36ba971784",
   "metadata": {},
   "outputs": [],
   "source": [
    "# Hybrid inheritance :   is a combination of two or more types of inheritance \n",
    "# (e.g., single, multiple, hierarchical, or multilevel inheritance) in the same program. \n",
    "# It allows flexibility in designing a class structure.\n",
    "\n",
    "# Base class\n",
    "class Animal:\n",
    "    def eat(self):\n",
    "        print(\"Eats food\")\n",
    "\n",
    "# Intermediate class (inherits from Animal)\n",
    "class Bird(Animal):\n",
    "    def fly(self):\n",
    "        print(\"Can fly\")\n",
    "\n",
    "# Another class (inherits from Animal)\n",
    "class Fish(Animal):\n",
    "    def swim(self):\n",
    "        print(\"Can swim\")\n",
    "\n",
    "# Derived class (inherits from both Bird and Fish - Multiple Inheritance)\n",
    "class Duck(Bird, Fish):\n",
    "    def quack(self):\n",
    "        print(\"Quacks\")\n",
    "\n",
    "# Creating an object of Duck\n",
    "d = Duck()\n",
    "d.eat()   # From Animal\n",
    "d.fly()   # From Bird\n",
    "d.swim()  # From Fish\n",
    "d.quack() # From Duck\n"
   ]
  },
  {
   "cell_type": "code",
   "execution_count": 18,
   "id": "1924f378-d31f-4d93-9525-0f80bb56e662",
   "metadata": {},
   "outputs": [
    {
     "name": "stdout",
     "output_type": "stream",
     "text": [
      "Diffrent sounds\n",
      "Bow Bow\n"
     ]
    }
   ],
   "source": [
    "# Polymorphisum = \n",
    "#Polymorphism is the ability of an object to take on many forms. \n",
    "#In Python, polymorphism is implemented using method overriding and method overloading. \n",
    "#Method overriding is when a subclass defines a method that has the same name and parameters as a method in its parent class, but with different functionality. \n",
    "#Method overloading is when a class defines multiple methods with the same name but with different parameters.\n",
    "\n",
    "\n",
    "# Menthod OverRiding\n",
    "class Animal:\n",
    "    def sound(self):\n",
    "        print(\"Diffrent sounds\")\n",
    "class Dog(Animal):\n",
    "    def sound(self):\n",
    "        print(\"Bow Bow\")\n",
    "animal = Animal()\n",
    "animal.sound()\n",
    "dog = Dog()\n",
    "dog.sound()\n"
   ]
  },
  {
   "cell_type": "code",
   "execution_count": 1,
   "id": "d49db70e-f170-4e27-8ed0-2ed3c7213f22",
   "metadata": {},
   "outputs": [
    {
     "name": "stdout",
     "output_type": "stream",
     "text": [
      "Mewoww\n",
      "Bow Bow\n",
      "Animal sound\n"
     ]
    }
   ],
   "source": [
    "class Animal:\n",
    "    def speak(self):\n",
    "        return \"Animal sound\"\n",
    "\n",
    "class Dog(Animal):\n",
    "    def speak(self):\n",
    "        return \"Bow Bow\"\n",
    "\n",
    "class Cat(Animal):\n",
    "    def speak(self):\n",
    "        return \"Mewoww\"\n",
    "\n",
    "def make_sounds(animal):\n",
    "    return (animal.speak())\n",
    "\n",
    "c = Cat()\n",
    "d = Dog()\n",
    "a = Animal()\n",
    "print(make_sounds(c))\n",
    "print(make_sounds(d))\n",
    "print(make_sounds(a))"
   ]
  },
  {
   "cell_type": "code",
   "execution_count": 2,
   "id": "297835fc-9da9-4a33-ab51-79761dde9642",
   "metadata": {},
   "outputs": [
    {
     "name": "stdout",
     "output_type": "stream",
     "text": [
      "10\n"
     ]
    }
   ],
   "source": [
    "# Method OverLoading\n",
    "class Math:\n",
    "    def sum_vals(self,a,b=0,c=0):\n",
    "        return a+b+c\n",
    "math = Math()\n",
    "math.sum_vals(10)\n",
    "math.sum_vals(10,20,40) \n",
    "# The above example if we want to send multiple values like 100 values it wont support in python\n",
    "# that's why we use *args or **kwargs\n",
    "\n",
    "class Summation:    # working try in online compiler \n",
    "    def total_sum(self, *args):\n",
    "        return sum(args)\n",
    "total = Summation()\n",
    "print(total.total_sum(10))  # Outputs: 10\n"
   ]
  },
  {
   "cell_type": "code",
   "execution_count": 7,
   "id": "764fbd93-1a84-430a-bc90-9403fe6d4a7a",
   "metadata": {},
   "outputs": [
    {
     "name": "stdout",
     "output_type": "stream",
     "text": [
      "Public Variable\n",
      "Protected Variable\n",
      "Private Variable\n"
     ]
    }
   ],
   "source": [
    "# Access modifiers\n",
    "\n",
    "# Modifier\t      Syntax\t      Accessibility\n",
    "# Public\t       var\t           Accessible anywhere (inside or outside the class).\n",
    "# Protected\t       _var\t           Accessible inside the class and subclasses (indicated as a convention, not strictly enforced).\n",
    "# Private\t      __var\t           Accessible only inside the class (name mangling applies).\n",
    "\n",
    "#public\n",
    "class Example:\n",
    "    def __init__(self):\n",
    "        self.name = \"Public Variable\"\n",
    "\n",
    "obj = Example()\n",
    "print(obj.name)  # ✅ Accessible\n",
    "\n",
    "#protected\n",
    "class Example:\n",
    "    def __init__(self):\n",
    "        self._name = \"Protected Variable\"\n",
    "\n",
    "obj = Example()\n",
    "print(obj._name)  # ✅ Accessible, but should be used only inside or in subclasses\n",
    "\n",
    "#private\n",
    "class Example:\n",
    "    def __init__(self):\n",
    "        self.__name = \"Private Variable\"\n",
    "\n",
    "obj = Example()\n",
    "# print(obj.__name)  # ❌ AttributeError: 'Example' object has no attribute '__name'\n",
    "print(obj._Example__name)  # ✅ Name mangling allows access\n",
    "\n",
    "\n"
   ]
  },
  {
   "cell_type": "code",
   "execution_count": 2,
   "id": "d47a5091-0dd4-4542-9823-5dc2c029d4d1",
   "metadata": {},
   "outputs": [
    {
     "name": "stdout",
     "output_type": "stream",
     "text": [
      "amount deposited successfully , current balance 1000\n"
     ]
    },
    {
     "data": {
      "text/plain": [
       "1000"
      ]
     },
     "execution_count": 2,
     "metadata": {},
     "output_type": "execute_result"
    }
   ],
   "source": [
    "# encapsulation \n",
    "\n",
    "#that allows data to be hidden and protected from outside interference. \n",
    "#In Python, encapsulation is implemented using access modifiers, such as private, public, and protected. \n",
    "#By using these access modifiers, we can restrict the access of attributes and methods of a class from outside the class.\n",
    "\n",
    "class BankBalance:\n",
    "    def __init__(self,account_number,balance=0):\n",
    "        self.__account_number = account_number\n",
    "        self.__balance = balance\n",
    "    def deposit(self,amount):\n",
    "        if amount > 0:\n",
    "            self.__balance +=amount\n",
    "            print(f\"amount deposited successfully , current balance {self.__balance }\")\n",
    "        else:\n",
    "            print(\"Deposit failed if money deducted it will get back to you in 10 mins\")\n",
    "    def withdraw(self,amount):\n",
    "        if amount > 0 and amount <= self.__balance:\n",
    "            self.__balance -= amount\n",
    "            print(f\"money {amount} deducted current balance {self.__balance}\")\n",
    "        else:\n",
    "            print(\"failed\")\n",
    "    def get_balnce(self):\n",
    "        return (self.__balance)\n",
    "bank = BankBalance(\"123456\")\n",
    "bank.deposit(1000)\n",
    "bank.get_balnce()\n",
    "            "
   ]
  },
  {
   "cell_type": "code",
   "execution_count": 1,
   "id": "14373fc4-8f37-4f47-988f-7870a081a883",
   "metadata": {},
   "outputs": [
    {
     "name": "stdout",
     "output_type": "stream",
     "text": [
      "Done phonepe amount 3000\n",
      "Done gpay amount 3000\n"
     ]
    }
   ],
   "source": [
    "# Data Abstrcation\n",
    "#Abstraction in Python programming language helps in the process of data hiding. \n",
    "#It assists the program in showing the essential features without showing the functionality or the details of the program to its users.\n",
    "#It generally avoids unwanted information or irrelevant details but shows the important part of the program.\n",
    "\n",
    "from abc import ABC, abstractmethod\n",
    "\n",
    "class Payment(ABC):\n",
    "    @abstractmethod\n",
    "    def make_payment(self,amount):\n",
    "        pass\n",
    "\n",
    "class Phonepe(Payment):\n",
    "    def make_payment(self,amount):\n",
    "        print(f\"Done phonepe amount {amount}\")\n",
    "\n",
    "class Googlepay(Payment):\n",
    "    def make_payment(self,amount):\n",
    "        print(f\"Done gpay amount {amount}\")\n",
    "\n",
    "def show_payment(payment_details,amount):\n",
    "    return (payment_details.make_payment(amount))\n",
    "\n",
    "py = Phonepe()\n",
    "gy = Googlepay()\n",
    "show_payment(py,3000)\n",
    "show_payment(gy,3000)\n",
    "\n"
   ]
  },
  {
   "cell_type": "code",
   "execution_count": 4,
   "id": "16880fb3-8a6b-45d3-bd1e-f56c65c96b06",
   "metadata": {},
   "outputs": [
    {
     "name": "stdout",
     "output_type": "stream",
     "text": [
      "Car starts with a key.\n",
      "Car stops with a brake.\n",
      "Bike starts with a kick.\n",
      "Bike stops with a hand brake.\n"
     ]
    }
   ],
   "source": [
    "from abc import ABC, abstractmethod\n",
    "\n",
    "# Abstract Base Class\n",
    "class Vehicle(ABC):\n",
    "    @abstractmethod\n",
    "    def start(self):\n",
    "        pass\n",
    "\n",
    "    @abstractmethod\n",
    "    def stop(self):\n",
    "        pass\n",
    "\n",
    "# Car Class\n",
    "class Car(Vehicle):\n",
    "    def start(self):\n",
    "        print(\"Car starts with a key.\")\n",
    "\n",
    "    def stop(self):\n",
    "        print(\"Car stops with a brake.\")\n",
    "\n",
    "# Bike Class\n",
    "class Bike(Vehicle):\n",
    "    def start(self):\n",
    "        print(\"Bike starts with a kick.\")\n",
    "\n",
    "    def stop(self):\n",
    "        print(\"Bike stops with a hand brake.\")\n",
    "\n",
    "# Main Program\n",
    "if __name__ == \"__main__\":\n",
    "    car = Car()\n",
    "    bike = Bike()\n",
    "\n",
    "    car.start()\n",
    "    car.stop()\n",
    "\n",
    "    bike.start()\n",
    "    bike.stop()\n"
   ]
  },
  {
   "cell_type": "code",
   "execution_count": null,
   "id": "f8eba5b2-91ed-49bf-8a15-50a3c4333454",
   "metadata": {},
   "outputs": [],
   "source": []
  },
  {
   "cell_type": "code",
   "execution_count": 3,
   "id": "05b7afaa-4828-486c-9aab-ca594945aeec",
   "metadata": {},
   "outputs": [
    {
     "name": "stdout",
     "output_type": "stream",
     "text": [
      " The value of the class Narsimha 24\n"
     ]
    }
   ],
   "source": [
    "#one class is calling into another class\n",
    "\n",
    "class Narsimha:\n",
    "    def __init__(self,value):\n",
    "        self.value = value\n",
    "    def show(self):\n",
    "        return f\" The value of the class Narsimha {self.value}\"\n",
    "\n",
    "class Coder:\n",
    "    def __init__(self,value):\n",
    "        self.class_Narsimha_value = Narsimha(value)\n",
    "    def display(self):\n",
    "        return self.class_Narsimha_value.show()\n",
    "\n",
    "code = Coder(24)\n",
    "print(code.display())\n",
    "                 "
   ]
  },
  {
   "cell_type": "code",
   "execution_count": 5,
   "id": "11060d67-85bd-45f3-a557-494d55f287cf",
   "metadata": {},
   "outputs": [
    {
     "name": "stdout",
     "output_type": "stream",
     "text": [
      "This is a class A data Narsimha\n"
     ]
    }
   ],
   "source": [
    "# calling the one class in another class using the stastic method\n",
    "\n",
    "class A:\n",
    "    @staticmethod\n",
    "    def data(name):\n",
    "        return f\"This is a class A data {name}\" # if ypu want to pass value else no\n",
    "class B:\n",
    "    def show(self,name):\n",
    "        return A.data(name)\n",
    "b = B()class A:\n",
    "    @staticmethod\n",
    "    def name(val):\n",
    "        return val\n",
    "\n",
    "class B:\n",
    "    def show(self,val):\n",
    "        return A.name(val)\n",
    "b=B()\n",
    "print(b.show())\n"
   ]
  },
  {
   "cell_type": "code",
   "execution_count": null,
   "id": "5ea3cfef-9e5e-4a17-875e-cadd35fd3d85",
   "metadata": {},
   "outputs": [],
   "source": [
    "class MathOperations:\n",
    "    \n",
    "    @staticmethod\n",
    "    def add(a, b):\n",
    "        return a + b\n",
    "    \n",
    "    @staticmethod\n",
    "    def multiply(a, b):\n",
    "        return a * b\n",
    "\n",
    "# Using static methods without creating an instance of the class\n",
    "print(MathOperations.add(3, 5))      # Output: 8\n",
    "print(MathOperations.multiply(3, 5)) # Output: 15\n",
    "\n",
    "# You can also call the static method on an instance of the class\n",
    "math_instance = MathOperations()\n",
    "print(math_instance.add(10, 20))     # Output: 30\n"
   ]
  },
  {
   "cell_type": "code",
   "execution_count": 5,
   "id": "39fdae7e-1893-41a2-b9ce-c3b96009d0e5",
   "metadata": {},
   "outputs": [
    {
     "data": {
      "text/plain": [
       "'hello Narsimha'"
      ]
     },
     "execution_count": 5,
     "metadata": {},
     "output_type": "execute_result"
    }
   ],
   "source": [
    "# Dependency Injection\n",
    "# Pass an instance of one class as a parameter to another class.\n",
    "class A:\n",
    "    def __init__(self,name):\n",
    "        self.name = name\n",
    "    def show(self):\n",
    "        return f\"{self.name}\"\n",
    "\n",
    "class B:\n",
    "    def __init__(self,class_A_instance):\n",
    "        self.class_a = class_A_instance\n",
    "    def greet(self):\n",
    "        return f\"hello {self.class_a.show()}\"\n",
    "\n",
    "a = A(\"Narsimha\")\n",
    "b = B(a)\n",
    "b.greet()"
   ]
  },
  {
   "cell_type": "code",
   "execution_count": 11,
   "id": "16519076-4622-4054-b3a2-7ea6c4b60076",
   "metadata": {},
   "outputs": [
    {
     "name": "stdout",
     "output_type": "stream",
     "text": [
      "{\"name\": \"micron\", \"code\": \"mcu\", \"location\": {\"location\": \"hyd\", \"count\": 876}}\n"
     ]
    }
   ],
   "source": [
    "# Nested class\n",
    "import json\n",
    "class ParentClass:\n",
    "    def __init__(self,name,code):\n",
    "        self.name = name\n",
    "        self.code = code\n",
    "    def set_location(self,location,count):\n",
    "        self.location = self.Location(location,count)\n",
    "    class Location:\n",
    "        def __init__(self,location,count):\n",
    "            self.location=location\n",
    "            self.count = count\n",
    "        def to_dict(self):\n",
    "            return {\n",
    "                \"location\":self.location,\n",
    "                \"count\":self.count\n",
    "            }\n",
    "    def to_dict(self):\n",
    "        return{\n",
    "            \"name\":self.name,\n",
    "            \"code\":self.code,\n",
    "            \"location\":self.location.to_dict() if self.location else None\n",
    "        }\n",
    "\n",
    "company = ParentClass(name=\"micron\",code=\"mcu\")\n",
    "company.set_location(location=\"hyd\",count=876)\n",
    "x = json.dumps(company.to_dict())\n",
    "print(x)"
   ]
  },
  {
   "cell_type": "code",
   "execution_count": 12,
   "id": "597e6d3a-91d8-4965-b526-077eb675bceb",
   "metadata": {},
   "outputs": [
    {
     "name": "stdout",
     "output_type": "stream",
     "text": [
      "{\n",
      "    \"name\": \"micron\",\n",
      "    \"code\": \"mcu\",\n",
      "    \"locations\": [\n",
      "        [\n",
      "            {\n",
      "                \"location\": \"hyd\",\n",
      "                \"count\": 876\n",
      "            }\n",
      "        ],\n",
      "        [\n",
      "            {\n",
      "                \"location\": \"hasd\",\n",
      "                \"count\": 876\n",
      "            }\n",
      "        ]\n",
      "    ]\n",
      "}\n"
     ]
    }
   ],
   "source": [
    "import json\n",
    "\n",
    "class ParentClass:\n",
    "    def __init__(self, name, code):\n",
    "        self.name = name\n",
    "        self.code = code\n",
    "        self.locations = []  # Initialize locations as an empty list\n",
    "\n",
    "    def set_location(self, location, count, res=None):\n",
    "        if res is None:\n",
    "            res = []  # Initialize an empty list if none is provided\n",
    "        location_obj = self.Location(location, count)\n",
    "        self.locations.append(location_obj.to_dict(res))  # Add location to locations list\n",
    "\n",
    "    class Location:\n",
    "        def __init__(self, location, count):\n",
    "            self.location = location\n",
    "            self.count = count\n",
    "\n",
    "        def to_dict(self, res):\n",
    "            # Return a dictionary for the location\n",
    "            res.append({\n",
    "                \"location\": self.location,\n",
    "                \"count\": self.count\n",
    "            })\n",
    "            return res\n",
    "\n",
    "    def to_dict(self):\n",
    "        return {\n",
    "            \"name\": self.name,\n",
    "            \"code\": self.code,\n",
    "            \"locations\": self.locations  # Return all locations\n",
    "        }\n",
    "\n",
    "company = ParentClass(name=\"micron\", code=\"mcu\")\n",
    "company.set_location(location=\"hyd\", count=876)\n",
    "company.set_location(location=\"hasd\", count=876)\n",
    "\n",
    "# Convert to JSON format\n",
    "x = json.dumps(company.to_dict(), indent=4)  # Added indent for pretty printing\n",
    "print(x)\n"
   ]
  },
  {
   "cell_type": "code",
   "execution_count": 14,
   "id": "b4f881c4-6a43-4fc8-aad2-0321d12a3d2b",
   "metadata": {},
   "outputs": [
    {
     "data": {
      "text/plain": [
       "'hello Narsimha'"
      ]
     },
     "execution_count": 14,
     "metadata": {},
     "output_type": "execute_result"
    }
   ],
   "source": [
    "# calling one class data into another class using classmethod\n",
    "class A:\n",
    "    @classmethod\n",
    "    def show(cls,value):\n",
    "        return f\"hello {value}\"\n",
    "class B:\n",
    "    def info(self,value):\n",
    "        return A.show(value)\n",
    "b=B()\n",
    "b.info(\"Narsimha\")"
   ]
  },
  {
   "cell_type": "code",
   "execution_count": 8,
   "id": "8c1f6c3c-f405-45ff-a7d6-dedf628efa9f",
   "metadata": {},
   "outputs": [
    {
     "name": "stdout",
     "output_type": "stream",
     "text": [
      "Python Developer\n"
     ]
    }
   ],
   "source": [
    "class A:\n",
    "    def vamsi(self):\n",
    "        return \"Python Developer\"\n",
    "\n",
    "class B(A):\n",
    "     pass\n",
    "\n",
    "class C(B):\n",
    "    pass\n",
    "\n",
    "c = C()\n",
    "print(c.vamsi())\n"
   ]
  },
  {
   "cell_type": "markdown",
   "id": "55472744-735f-4659-9498-0ae25be56064",
   "metadata": {},
   "source": [
    "# StaticMethod and ClassMethod"
   ]
  },
  {
   "cell_type": "raw",
   "id": "2399baca-19d0-4216-8959-d2ae657a5307",
   "metadata": {},
   "source": [
    "🔹 @staticmethod (Static Method)\n",
    "A static method is an independent method inside a class that does not depend on instance or class attributes. It behaves like a regular function but is grouped within a class for organizational purposes. It does not require self (instance) or cls (class).\n",
    "✅ Example:\n",
    "A bank provides an interest calculation feature, which is a general utility function and does not depend on any specific bank account."
   ]
  },
  {
   "cell_type": "code",
   "execution_count": 2,
   "id": "5ea87c31-2250-452d-828e-57671fcd787a",
   "metadata": {},
   "outputs": [
    {
     "name": "stdout",
     "output_type": "stream",
     "text": [
      "1000.0\n"
     ]
    }
   ],
   "source": [
    "# Example 1\n",
    "class Bank:\n",
    "    @staticmethod\n",
    "    def calculate_interest(principal, rate, time):\n",
    "        return (principal * rate * time) / 100  # Simple interest formula\n",
    "\n",
    "# Calling static method without creating an instance\n",
    "interest = Bank.calculate_interest(10000, 5, 2)\n",
    "print(interest)  # Output: 1000.0\n",
    "\n",
    "# Example 2\n",
    "class MathUtils:\n",
    "    @staticmethod\n",
    "    def add(x, y):\n",
    "        return x + y\n",
    "\n",
    "# Calling the static method without creating an instance\n",
    "result = MathUtils.add(5, 3)\n",
    "print(result)  # Output: 8\n"
   ]
  },
  {
   "cell_type": "markdown",
   "id": "0ece1d97-1bbe-48ee-9bd3-e20fde964773",
   "metadata": {},
   "source": [
    "🔹 @classmethod (Class Method)\n",
    "A class method is a method that operates on the class itself rather than instances. It takes cls as its first parameter, allowing it to modify and access class-level attributes, but it cannot access instance-specific attributes.\n",
    "\n",
    "✅ Example:\n",
    "A retail store wants to update its global discount for all customers dynamically."
   ]
  },
  {
   "cell_type": "code",
   "execution_count": 5,
   "id": "a440a025-fd51-4b9e-ab7e-ee48e4220509",
   "metadata": {},
   "outputs": [
    {
     "name": "stdout",
     "output_type": "stream",
     "text": [
      "15\n",
      "Honda\n",
      "ND Tech\n",
      "ND Tech\n"
     ]
    }
   ],
   "source": [
    "# Example 1\n",
    "class Store:\n",
    "    discount = 10  # Class attribute (default discount)\n",
    "    \n",
    "    @classmethod\n",
    "    def set_discount(cls, new_discount):\n",
    "        cls.discount = new_discount  # Modifying class attribute\n",
    "\n",
    "# Changing discount using class method\n",
    "Store.set_discount(15)\n",
    "print(Store.discount)  # Output: 15\n",
    "\n",
    "# Example 2\n",
    "class Car:\n",
    "    brand = \"Toyota\"  # Class attribute\n",
    "\n",
    "    @classmethod\n",
    "    def set_brand(cls, new_brand):\n",
    "        cls.brand = new_brand  # Modifying class attribute\n",
    "\n",
    "# Calling the class method\n",
    "Car.set_brand(\"Honda\")\n",
    "print(Car.brand)  # Output: Honda\n",
    "\n",
    "\n",
    "class Company:\n",
    "    comapany_name = \"Tech pod\"\n",
    "    def __init__(self,name):\n",
    "        self.name = name\n",
    "    @classmethod\n",
    "    def modfiy(cls,new_name):\n",
    "        cls.comapany_name = new_name\n",
    "Company.modfiy(\"ND Tech\")\n",
    "print(Company.comapany_name)\n",
    "name = Company(\"MicroChip\")\n",
    "print(name.comapany_name)\n",
    "\n",
    "\n",
    "\n",
    "\n"
   ]
  },
  {
   "cell_type": "code",
   "execution_count": null,
   "id": "5e9310e1-d2a6-4c6c-8237-4ca518e999fe",
   "metadata": {},
   "outputs": [],
   "source": []
  }
 ],
 "metadata": {
  "kernelspec": {
   "display_name": "Python 3 (ipykernel)",
   "language": "python",
   "name": "python3"
  },
  "language_info": {
   "codemirror_mode": {
    "name": "ipython",
    "version": 3
   },
   "file_extension": ".py",
   "mimetype": "text/x-python",
   "name": "python",
   "nbconvert_exporter": "python",
   "pygments_lexer": "ipython3",
   "version": "3.11.9"
  }
 },
 "nbformat": 4,
 "nbformat_minor": 5
}
