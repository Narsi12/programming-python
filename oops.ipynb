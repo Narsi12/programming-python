{
 "cells": [
  {
   "cell_type": "code",
   "execution_count": 3,
   "id": "4ee3b462-56b7-4200-95a4-b782bbe9bfe1",
   "metadata": {},
   "outputs": [
    {
     "name": "stdout",
     "output_type": "stream",
     "text": [
      "Tata\n"
     ]
    }
   ],
   "source": [
    "class Car:\n",
    "    def __init__(self,model,price):\n",
    "        self.model = model\n",
    "        self.price = price\n",
    "car_brand = Car(\"Tata\",1200000)\n",
    "print(car_brand.model)"
   ]
  },
  {
   "cell_type": "code",
   "execution_count": 4,
   "id": "5ae63c93-2cb9-4e92-88a0-34f356f36a95",
   "metadata": {},
   "outputs": [],
   "source": [
    "# Inheritance"
   ]
  },
  {
   "cell_type": "code",
   "execution_count": 9,
   "id": "dd9d7f5f-9e2d-4813-ba02-ff4c90053a52",
   "metadata": {},
   "outputs": [
    {
     "name": "stdout",
     "output_type": "stream",
     "text": [
      "The animal will eat\n",
      "Dog barks\n"
     ]
    }
   ],
   "source": [
    "# Single Inheritance = A subclass inherits from one superclass.\n",
    "class Animal:\n",
    "    def eat(self):\n",
    "        print(\"The animal will eat\")\n",
    "class Dog(Animal):\n",
    "    def bark(self):\n",
    "        print(\"Dog barks\")\n",
    "animal = Dog()\n",
    "animal.eat()\n",
    "animal.bark()"
   ]
  },
  {
   "cell_type": "code",
   "execution_count": null,
   "id": "2a34dd3f-e795-4adc-b227-8e1015c4fcaa",
   "metadata": {},
   "outputs": [],
   "source": [
    "# Multiple Inheritance = A subclass inherits from more than one superclass.\n",
    "class Fly:\n",
    "    def flying(self):\n",
    "        print(\"This creature will fly\")\n",
    "class Swim:\n",
    "    def swimming(self):\n",
    "        print(\"This creature will swim\")\n",
    "class Duck(Fly,Swim):\n",
    "    "
   ]
  },
  {
   "cell_type": "code",
   "execution_count": 11,
   "id": "369caa4d-801d-410a-80e0-bab5fe88df36",
   "metadata": {},
   "outputs": [
    {
     "name": "stdout",
     "output_type": "stream",
     "text": [
      "eats food\n",
      "flying\n",
      "best bird\n"
     ]
    }
   ],
   "source": [
    "# MultiLevel Inheritance = A chain of inheritance where a class is derived from a class that is also derived from another class.\n",
    "class Animal:\n",
    "    def eat(self):\n",
    "        print(\"eats food\")\n",
    "class Bird(Animal):\n",
    "    def flying(self):\n",
    "        print(\"flying\")\n",
    "class Sparrow(Bird):\n",
    "    def chirp(self):\n",
    "        print(\"best bird\")\n",
    "sparrow = Sparrow()\n",
    "sparrow.eat()\n",
    "sparrow.flying()\n",
    "sparrow.chirp()\n"
   ]
  },
  {
   "cell_type": "code",
   "execution_count": 14,
   "id": "3f37eb96-75e9-48f6-8503-fd42eda3beff",
   "metadata": {},
   "outputs": [
    {
     "name": "stdout",
     "output_type": "stream",
     "text": [
      "Eats food \n",
      "Barks on people\n",
      "Eats food \n"
     ]
    }
   ],
   "source": [
    "# Hierarchical Inheritance = Multiple subclasses inherit from a single superclass.\n",
    "class Animal:\n",
    "    def eat(self):\n",
    "        print(\"Eats food \")\n",
    "class Dog(Animal):\n",
    "    def bark(self):\n",
    "        print(\"Barks on people\")\n",
    "class Cat(Animal):\n",
    "    def meow(self):\n",
    "        print(\"eats others food\")\n",
    "dog = Dog()\n",
    "cat = Cat()\n",
    "dog.eat()\n",
    "dog.bark()\n",
    "cat.eat()"
   ]
  },
  {
   "cell_type": "code",
   "execution_count": 18,
   "id": "1924f378-d31f-4d93-9525-0f80bb56e662",
   "metadata": {},
   "outputs": [
    {
     "name": "stdout",
     "output_type": "stream",
     "text": [
      "Diffrent sounds\n",
      "Bow Bow\n"
     ]
    }
   ],
   "source": [
    "# Polymorphisum = \n",
    "#Polymorphism is the ability of an object to take on many forms. \n",
    "#In Python, polymorphism is implemented using method overriding and method overloading. \n",
    "#Method overriding is when a subclass defines a method that has the same name and parameters as a method in its parent class, but with different functionality. \n",
    "#Method overloading is when a class defines multiple methods with the same name but with different parameters.\n",
    "\n",
    "\n",
    "# Menthod OverRiding\n",
    "class Animal:\n",
    "    def sound(self):\n",
    "        print(\"Diffrent sounds\")\n",
    "class Dog(Animal):\n",
    "    def sound(self):\n",
    "        print(\"Bow Bow\")\n",
    "animal = Animal()\n",
    "animal.sound()\n",
    "dog = Dog()\n",
    "dog.sound()\n"
   ]
  },
  {
   "cell_type": "code",
   "execution_count": 34,
   "id": "297835fc-9da9-4a33-ab51-79761dde9642",
   "metadata": {},
   "outputs": [
    {
     "data": {
      "text/plain": [
       "70"
      ]
     },
     "execution_count": 34,
     "metadata": {},
     "output_type": "execute_result"
    }
   ],
   "source": [
    "# Method OverLoading\n",
    "class Math():\n",
    "    def sum_vals(self,a,b=0,c=0):\n",
    "        return a+b+c\n",
    "math = Math()\n",
    "math.sum_vals(10)\n",
    "math.sum_vals(10,20,40) \n",
    "# The above example if we want to send multiple values like 100 values it wont support in python\n",
    "# that's why we use *args or **kwargs\n",
    "\n",
    "class Summation:    # working try in online compiler \n",
    "    def total_sum(self, *args):\n",
    "        return sum(args)\n",
    "total = Summation()\n",
    "print(total.total_sum(10))  # Outputs: 10\n"
   ]
  },
  {
   "cell_type": "code",
   "execution_count": 42,
   "id": "d47a5091-0dd4-4542-9823-5dc2c029d4d1",
   "metadata": {},
   "outputs": [
    {
     "name": "stdout",
     "output_type": "stream",
     "text": [
      "amount deposited successfully , current balance 1000\n"
     ]
    },
    {
     "data": {
      "text/plain": [
       "1000"
      ]
     },
     "execution_count": 42,
     "metadata": {},
     "output_type": "execute_result"
    }
   ],
   "source": [
    "# encapsulation \n",
    "\n",
    "#that allows data to be hidden and protected from outside interference. \n",
    "#In Python, encapsulation is implemented using access modifiers, such as private, public, and protected. \n",
    "#By using these access modifiers, we can restrict the access of attributes and methods of a class from outside the class.\n",
    "\n",
    "class BankBalance:\n",
    "    def __init__(self,account_number,balance=0):\n",
    "        self.__account_number = account_number\n",
    "        self.__balance = balance\n",
    "    def deposit(self,amount):\n",
    "        if amount > 0:\n",
    "            self.__balance +=amount\n",
    "            print(f\"amount deposited successfully , current balance {self.__balance }\")\n",
    "        else:\n",
    "            print(\"Deposit failed if money deducted it will get back to you in 10 mins\")\n",
    "    def withdraw(self,amount):\n",
    "        if amount > 0 and amount <= self.__balance:\n",
    "            self.__balance -= amount\n",
    "            print(f\"money {amount} deducted current balance {self.__balance}\")\n",
    "        else:\n",
    "            print(\"failed\")\n",
    "    def get_balnce(self):\n",
    "        return (self.__balance)\n",
    "bank = BankBalance(\"123456\")\n",
    "bank.deposit(1000)\n",
    "bank.get_balnce()\n",
    "            "
   ]
  },
  {
   "cell_type": "code",
   "execution_count": null,
   "id": "05b7afaa-4828-486c-9aab-ca594945aeec",
   "metadata": {},
   "outputs": [],
   "source": []
  },
  {
   "cell_type": "code",
   "execution_count": null,
   "id": "11060d67-85bd-45f3-a557-494d55f287cf",
   "metadata": {},
   "outputs": [],
   "source": []
  },
  {
   "cell_type": "code",
   "execution_count": null,
   "id": "39fdae7e-1893-41a2-b9ce-c3b96009d0e5",
   "metadata": {},
   "outputs": [],
   "source": []
  }
 ],
 "metadata": {
  "kernelspec": {
   "display_name": "Python 3 (ipykernel)",
   "language": "python",
   "name": "python3"
  },
  "language_info": {
   "codemirror_mode": {
    "name": "ipython",
    "version": 3
   },
   "file_extension": ".py",
   "mimetype": "text/x-python",
   "name": "python",
   "nbconvert_exporter": "python",
   "pygments_lexer": "ipython3",
   "version": "3.11.9"
  }
 },
 "nbformat": 4,
 "nbformat_minor": 5
}
