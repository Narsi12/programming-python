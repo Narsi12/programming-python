{
 "cells": [
  {
   "cell_type": "markdown",
   "id": "49953fce-6fe0-4062-a205-ef11fcbe0e45",
   "metadata": {},
   "source": [
    "# Bubble sort #link : https://www.hackerearth.com/practice/algorithms/sorting/bubble-sort/visualize/"
   ]
  },
  {
   "cell_type": "markdown",
   "id": "18377289-eefc-492c-b3d8-61a23034dd20",
   "metadata": {},
   "source": [
    "# Sorting algos"
   ]
  },
  {
   "cell_type": "code",
   "execution_count": null,
   "id": "8a9f9a72-6406-4d57-a235-e00bbe4a6e84",
   "metadata": {},
   "outputs": [],
   "source": [
    "def bubble_sort(lst):\n",
    "    # Your code goes here\n",
    "    n = len(lst)\n",
    "    for passes in range(n):\n",
    "        for j in range(0,n-1-passes): # to avoid to check the already stelled element at last\n",
    "            if lst[j]>lst[j+1]:\n",
    "                lst[j],lst[j+1]=lst[j+1],lst[j]\n",
    "    return lst\n",
    "    \n",
    "lst = [64, 34, 25, 12, 22, 11, 90]\n",
    "print(bubble_sort(lst))"
   ]
  },
  {
   "cell_type": "code",
   "execution_count": null,
   "id": "07300ca5-b115-45a8-b7d6-4c44ded75410",
   "metadata": {},
   "outputs": [],
   "source": [
    "l = [(2, 5), (1, 2), (4, 4), (2, 3), (2, 1)] # bubble sort\n",
    "n = len(l)\n",
    "for i in range(n):\n",
    "    for j in range(0,n-i-1):\n",
    "        if l[j][1]>l[j+1][1]:\n",
    "            l[j],l[j+1]=l[j+1],l[j]\n",
    "print(l)"
   ]
  },
  {
   "cell_type": "code",
   "execution_count": null,
   "id": "b80f1127-0277-49b4-8510-ff4e28e80668",
   "metadata": {},
   "outputs": [],
   "source": [
    "def selection_sort(arr):\n",
    "    n = len(arr)\n",
    "    for i in range(n):\n",
    "        min_index = i  # Assume current index is minimum\n",
    "        for j in range(i + 1, n):\n",
    "            if arr[j] < arr[min_index]:\n",
    "                min_index = j\n",
    "        arr[i], arr[min_index] = arr[min_index], arr[i]\n",
    "\n",
    "lst = [12, 25, 11, 34, 90, 22]\n",
    "selection_sort(lst)\n",
    "print(lst)  # Output: [11, 12, 22, 25, 34, 90]\n"
   ]
  },
  {
   "cell_type": "code",
   "execution_count": null,
   "id": "a57e43a8-81d4-4f4c-a08b-5e0a1ae5d638",
   "metadata": {},
   "outputs": [],
   "source": [
    "def insertion_sort(lst):\n",
    "    # Your code goes here\n",
    "    n = len(lst)\n",
    "    for current in range(1,n):\n",
    "        currentCard = lst[current]\n",
    "        correctPosition = current - 1\n",
    "        while correctPosition >=0:\n",
    "            if(lst[correctPosition]<currentCard):\n",
    "                break\n",
    "            else:\n",
    "                lst[correctPosition+1] = lst[correctPosition]\n",
    "                correctPosition-=1\n",
    "            lst[correctPosition+1] = currentCard\n",
    "    return lst\n",
    "lst = [12, 25, 11, 34, 90, 22]\n",
    "print(insertion_sort(lst))\n",
    "\n"
   ]
  },
  {
   "cell_type": "markdown",
   "id": "c6608ae7-9963-4c01-ad30-ef973183a42f",
   "metadata": {},
   "source": [
    "# Linear Search"
   ]
  },
  {
   "cell_type": "code",
   "execution_count": 1,
   "id": "a531858a-a5b2-4754-b7e6-9390c70b7ffc",
   "metadata": {},
   "outputs": [
    {
     "name": "stdout",
     "output_type": "stream",
     "text": [
      "2\n"
     ]
    }
   ],
   "source": [
    "def linear_serach(arr,target):\n",
    "    n = len(arr)\n",
    "    for index in range(n):\n",
    "        if (arr[index] == target):\n",
    "            return index\n",
    "    return -1\n",
    "\n",
    "arr = [12, 25, 11, 34, 90, 22]\n",
    "target = 11\n",
    "print(linear_serach(arr,target))"
   ]
  },
  {
   "cell_type": "markdown",
   "id": "8ff5cc56-f81c-4965-86d8-fe769fe4597b",
   "metadata": {},
   "source": [
    "# Binary Serach : Note in binary search arry will always sorted(Increasing/Decreasing)"
   ]
  },
  {
   "cell_type": "code",
   "execution_count": 4,
   "id": "41fc2fb8-6a88-4e00-8f5b-9680f062671a",
   "metadata": {},
   "outputs": [
    {
     "name": "stdout",
     "output_type": "stream",
     "text": [
      "1\n"
     ]
    }
   ],
   "source": [
    "def binary_serach(arr,target):\n",
    "    left = 0\n",
    "    right = len(arr)-1\n",
    "    while left <= right:\n",
    "        middle = (right+left)//2\n",
    "        if arr[middle] == target:\n",
    "            return middle\n",
    "        elif arr[middle] < target:\n",
    "            left = middle+1\n",
    "        else:\n",
    "            right = middle - 1\n",
    "    return -1\n",
    "    \n",
    "\n",
    "target = 23\n",
    "arr = [10,23,35,45,50,70,85]\n",
    "print(binary_serach(arr,target))"
   ]
  },
  {
   "cell_type": "markdown",
   "id": "7578d475-6166-4cf7-90ea-ce7b8fe0073f",
   "metadata": {},
   "source": [
    "# problems on Insertion Sort"
   ]
  },
  {
   "cell_type": "code",
   "execution_count": null,
   "id": "5bcf9e9a-a27b-4ca8-9b5e-9cd10295b73a",
   "metadata": {},
   "outputs": [],
   "source": [
    "#Question 1: Sort an Array Using Insertion Sort [5, 2, 9, 1, 5, 6] also include the how many comaprasions are done\n",
    "def insertion_asending_descending_order(arr):\n",
    "    n = len(arr)\n",
    "    for current in range(1,n):\n",
    "        currentCard = arr[current]\n",
    "        currentPostion = current - 1\n",
    "        comparsions = 0 \n",
    "        while currentPostion >= 0:\n",
    "            comparsions +=1\n",
    "            if (arr[currentPostion] < currentCard): # descending order >\n",
    "                break\n",
    "            else:\n",
    "                arr[currentPostion+1] = arr[currentPostion]\n",
    "                currentPostion-=1\n",
    "            arr[currentPostion+1] = currentCard\n",
    "    return arr,comparsions\n",
    "            \n",
    "            \n",
    "\n",
    "# arr = [12, 25, 11, 34, 90, 22]\n",
    "arr = [\"banana\", \"apple\", \"cherry\"]\n",
    "print(insertion_asending_descending_order(arr))\n"
   ]
  },
  {
   "cell_type": "code",
   "execution_count": null,
   "id": "a7da07f9-6089-4f38-a738-cc65d2523f4b",
   "metadata": {},
   "outputs": [],
   "source": []
  },
  {
   "cell_type": "code",
   "execution_count": null,
   "id": "9ee410f7-e9b3-4d6e-a019-2d8a9b3c2a08",
   "metadata": {},
   "outputs": [],
   "source": []
  },
  {
   "cell_type": "code",
   "execution_count": null,
   "id": "e746a825-079d-4550-9063-ddbfb13a920a",
   "metadata": {},
   "outputs": [],
   "source": []
  },
  {
   "cell_type": "code",
   "execution_count": null,
   "id": "e5df5850-964b-4c47-8d4f-ce5700b763d4",
   "metadata": {},
   "outputs": [],
   "source": []
  }
 ],
 "metadata": {
  "kernelspec": {
   "display_name": "Python 3 (ipykernel)",
   "language": "python",
   "name": "python3"
  },
  "language_info": {
   "codemirror_mode": {
    "name": "ipython",
    "version": 3
   },
   "file_extension": ".py",
   "mimetype": "text/x-python",
   "name": "python",
   "nbconvert_exporter": "python",
   "pygments_lexer": "ipython3",
   "version": "3.13.5"
  }
 },
 "nbformat": 4,
 "nbformat_minor": 5
}
